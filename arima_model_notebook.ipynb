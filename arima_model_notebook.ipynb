{
 "cells": [
  {
   "cell_type": "markdown",
   "metadata": {},
   "source": [
    "# PREPROCESSING"
   ]
  },
  {
   "cell_type": "code",
   "execution_count": 1,
   "metadata": {},
   "outputs": [],
   "source": [
    "# Core data libraries\n",
    "import pandas as pd\n",
    "import numpy as np\n",
    "\n",
    "# Time series modeling\n",
    "from statsmodels.tsa.arima.model import ARIMA\n",
    "from sklearn.metrics import mean_absolute_error\n",
    "\n",
    "# re\n",
    "import re\n",
    "\n",
    "from itertools import product\n",
    "\n",
    "# Deep learning for sequence modeling\n",
    "import tensorflow as tf\n",
    "from keras.api.models import Sequential\n",
    "from keras.api.layers import LSTM, Dense, Dropout, Bidirectional, Input\n"
   ]
  },
  {
   "cell_type": "code",
   "execution_count": 2,
   "metadata": {},
   "outputs": [
    {
     "data": {
      "text/html": [
       "<div>\n",
       "<style scoped>\n",
       "    .dataframe tbody tr th:only-of-type {\n",
       "        vertical-align: middle;\n",
       "    }\n",
       "\n",
       "    .dataframe tbody tr th {\n",
       "        vertical-align: top;\n",
       "    }\n",
       "\n",
       "    .dataframe thead th {\n",
       "        text-align: right;\n",
       "    }\n",
       "</style>\n",
       "<table border=\"1\" class=\"dataframe\">\n",
       "  <thead>\n",
       "    <tr style=\"text-align: right;\">\n",
       "      <th></th>\n",
       "      <th>student_id</th>\n",
       "      <th>first_name</th>\n",
       "      <th>last_name</th>\n",
       "      <th>section</th>\n",
       "      <th>score</th>\n",
       "      <th>test_number</th>\n",
       "      <th>max_score</th>\n",
       "      <th>date</th>\n",
       "      <th>normalized_scores</th>\n",
       "      <th>normalized_passing_threshold</th>\n",
       "    </tr>\n",
       "  </thead>\n",
       "  <tbody>\n",
       "    <tr>\n",
       "      <th>0</th>\n",
       "      <td>109478130361</td>\n",
       "      <td>KIMBERT</td>\n",
       "      <td>ABRAHAM</td>\n",
       "      <td>ANDROID</td>\n",
       "      <td>13</td>\n",
       "      <td>1</td>\n",
       "      <td>20</td>\n",
       "      <td>2023-01-01</td>\n",
       "      <td>0.65</td>\n",
       "      <td>0.75</td>\n",
       "    </tr>\n",
       "    <tr>\n",
       "      <th>1</th>\n",
       "      <td>136584130063</td>\n",
       "      <td>JOVERT III.</td>\n",
       "      <td>ANDES</td>\n",
       "      <td>ANDROID</td>\n",
       "      <td>14</td>\n",
       "      <td>1</td>\n",
       "      <td>20</td>\n",
       "      <td>2023-01-01</td>\n",
       "      <td>0.70</td>\n",
       "      <td>0.75</td>\n",
       "    </tr>\n",
       "    <tr>\n",
       "      <th>2</th>\n",
       "      <td>109478120108</td>\n",
       "      <td>JAMES</td>\n",
       "      <td>BALOLOY</td>\n",
       "      <td>ANDROID</td>\n",
       "      <td>12</td>\n",
       "      <td>1</td>\n",
       "      <td>20</td>\n",
       "      <td>2023-01-01</td>\n",
       "      <td>0.60</td>\n",
       "      <td>0.75</td>\n",
       "    </tr>\n",
       "    <tr>\n",
       "      <th>3</th>\n",
       "      <td>136540141587</td>\n",
       "      <td>STEVEN</td>\n",
       "      <td>BOLIMA</td>\n",
       "      <td>ANDROID</td>\n",
       "      <td>14</td>\n",
       "      <td>1</td>\n",
       "      <td>20</td>\n",
       "      <td>2023-01-01</td>\n",
       "      <td>0.70</td>\n",
       "      <td>0.75</td>\n",
       "    </tr>\n",
       "    <tr>\n",
       "      <th>4</th>\n",
       "      <td>109471100020</td>\n",
       "      <td>MARK ANTHONY</td>\n",
       "      <td>CABANOG</td>\n",
       "      <td>ANDROID</td>\n",
       "      <td>14</td>\n",
       "      <td>1</td>\n",
       "      <td>20</td>\n",
       "      <td>2023-01-01</td>\n",
       "      <td>0.70</td>\n",
       "      <td>0.75</td>\n",
       "    </tr>\n",
       "    <tr>\n",
       "      <th>...</th>\n",
       "      <td>...</td>\n",
       "      <td>...</td>\n",
       "      <td>...</td>\n",
       "      <td>...</td>\n",
       "      <td>...</td>\n",
       "      <td>...</td>\n",
       "      <td>...</td>\n",
       "      <td>...</td>\n",
       "      <td>...</td>\n",
       "      <td>...</td>\n",
       "    </tr>\n",
       "    <tr>\n",
       "      <th>850</th>\n",
       "      <td>403072150096</td>\n",
       "      <td>HANNALY</td>\n",
       "      <td>VIPINOSA</td>\n",
       "      <td>ANDROID</td>\n",
       "      <td>2</td>\n",
       "      <td>15</td>\n",
       "      <td>20</td>\n",
       "      <td>2023-04-09</td>\n",
       "      <td>0.10</td>\n",
       "      <td>0.75</td>\n",
       "    </tr>\n",
       "    <tr>\n",
       "      <th>851</th>\n",
       "      <td>109469121797</td>\n",
       "      <td>JOHN LLOYD</td>\n",
       "      <td>JIMENEZ</td>\n",
       "      <td>ANDROID</td>\n",
       "      <td>7</td>\n",
       "      <td>15</td>\n",
       "      <td>20</td>\n",
       "      <td>2023-04-09</td>\n",
       "      <td>0.35</td>\n",
       "      <td>0.75</td>\n",
       "    </tr>\n",
       "    <tr>\n",
       "      <th>852</th>\n",
       "      <td>109323130439</td>\n",
       "      <td>CRILVEN G.</td>\n",
       "      <td>OTAO</td>\n",
       "      <td>ANDROID</td>\n",
       "      <td>19</td>\n",
       "      <td>15</td>\n",
       "      <td>20</td>\n",
       "      <td>2023-04-09</td>\n",
       "      <td>0.95</td>\n",
       "      <td>0.75</td>\n",
       "    </tr>\n",
       "    <tr>\n",
       "      <th>853</th>\n",
       "      <td>109478130104</td>\n",
       "      <td>LANCE DANIELL</td>\n",
       "      <td>PELAGIO</td>\n",
       "      <td>ANDROID</td>\n",
       "      <td>3</td>\n",
       "      <td>15</td>\n",
       "      <td>20</td>\n",
       "      <td>2023-04-09</td>\n",
       "      <td>0.15</td>\n",
       "      <td>0.75</td>\n",
       "    </tr>\n",
       "    <tr>\n",
       "      <th>854</th>\n",
       "      <td>109478130109</td>\n",
       "      <td>JOHN LLOYD</td>\n",
       "      <td>BAYSIC,</td>\n",
       "      <td>ANDROID</td>\n",
       "      <td>14</td>\n",
       "      <td>15</td>\n",
       "      <td>20</td>\n",
       "      <td>2023-04-09</td>\n",
       "      <td>0.70</td>\n",
       "      <td>0.75</td>\n",
       "    </tr>\n",
       "  </tbody>\n",
       "</table>\n",
       "<p>855 rows × 10 columns</p>\n",
       "</div>"
      ],
      "text/plain": [
       "       student_id      first_name last_name  section  score  test_number  \\\n",
       "0    109478130361        KIMBERT    ABRAHAM  ANDROID     13            1   \n",
       "1    136584130063     JOVERT III.     ANDES  ANDROID     14            1   \n",
       "2    109478120108           JAMES   BALOLOY  ANDROID     12            1   \n",
       "3    136540141587          STEVEN    BOLIMA  ANDROID     14            1   \n",
       "4    109471100020   MARK ANTHONY    CABANOG  ANDROID     14            1   \n",
       "..            ...             ...       ...      ...    ...          ...   \n",
       "850  403072150096        HANNALY   VIPINOSA  ANDROID      2           15   \n",
       "851  109469121797      JOHN LLOYD   JIMENEZ  ANDROID      7           15   \n",
       "852  109323130439      CRILVEN G.      OTAO  ANDROID     19           15   \n",
       "853  109478130104  LANCE DANIELL    PELAGIO  ANDROID      3           15   \n",
       "854  109478130109     JOHN LLOYD    BAYSIC,  ANDROID     14           15   \n",
       "\n",
       "     max_score       date  normalized_scores  normalized_passing_threshold  \n",
       "0           20 2023-01-01               0.65                          0.75  \n",
       "1           20 2023-01-01               0.70                          0.75  \n",
       "2           20 2023-01-01               0.60                          0.75  \n",
       "3           20 2023-01-01               0.70                          0.75  \n",
       "4           20 2023-01-01               0.70                          0.75  \n",
       "..         ...        ...                ...                           ...  \n",
       "850         20 2023-04-09               0.10                          0.75  \n",
       "851         20 2023-04-09               0.35                          0.75  \n",
       "852         20 2023-04-09               0.95                          0.75  \n",
       "853         20 2023-04-09               0.15                          0.75  \n",
       "854         20 2023-04-09               0.70                          0.75  \n",
       "\n",
       "[855 rows x 10 columns]"
      ]
     },
     "execution_count": 2,
     "metadata": {},
     "output_type": "execute_result"
    }
   ],
   "source": [
    "# preprocess data\n",
    "\n",
    "test_start_date = \"2023-01-01\"\n",
    "test_data = pd.read_csv(\"android_data_set.csv\")\n",
    "\n",
    "num_of_students = test_data[\"student_id\"].nunique()\n",
    "\n",
    "# convert student_id into str col\n",
    "test_data[\"student_id\"] = test_data[\"student_id\"].astype(str)\n",
    "\n",
    "# Identify columns with test scores (e.g., \"fa1:30\", \"fa2:20\")\n",
    "test_columns = [col for col in test_data.columns if col.lower().startswith(\"fa\")]\n",
    "\n",
    "# Extract test numbers and max scores from column names\n",
    "test_info = []\n",
    "for col in test_columns:\n",
    "    match = re.match(r\"fa(\\d+):(\\d+)\", col)\n",
    "    if match:\n",
    "        test_number, max_score = match.groups()\n",
    "        test_info.append((col, int(test_number), int(max_score)))\n",
    "\n",
    "# Define test dates (assuming weekly tests)\n",
    "num_tests = test_data.shape[1] - 4  # Exclude student_id, name, section\n",
    "test_dates = pd.date_range(\n",
    "    start=test_start_date, periods=num_tests, freq=\"7D\")\n",
    "\n",
    "# Reshape from wide to long format\n",
    "test_data_long = test_data.melt(id_vars=[\"student_id\", \"first_name\", \"last_name\", \"section\"],\n",
    "                                var_name=\"test\",\n",
    "                                value_vars=[col for col,\n",
    "                                            _, _ in test_info],\n",
    "                                value_name=\"score\")\n",
    "                            \n",
    "\n",
    "# Extract test number & assign correct dates\n",
    "# Extract test number and assign corresponding max score\n",
    "# Convert test number using the pre-extracted data from test_info\n",
    "test_data_long[\"test_number\"] = test_data_long[\"test\"].map(\n",
    "    {col: test_number for col, test_number, _ in test_info}\n",
    ")\n",
    "test_data_long[\"max_score\"] = test_data_long[\"test\"].apply(\n",
    "    lambda x: next(max_score for col, _,\n",
    "                    max_score in test_info if col == x)\n",
    ")\n",
    "test_data_long[\"date\"] = test_data_long[\"test_number\"].apply(\n",
    "    lambda x: test_dates[x - 1])\n",
    "\n",
    "# Drop old test column\n",
    "test_data_long.drop(columns=[\"test\"], inplace=True)\n",
    "\n",
    "# Handling missing values\n",
    "test_data_long[\"score\"].fillna(\n",
    "    test_data_long[\"score\"].mean())\n",
    "\n",
    "# normalize test scores\n",
    "test_data_long[\"normalized_scores\"] = test_data_long[\"score\"] / \\\n",
    "    test_data_long[\"max_score\"]\n",
    "\n",
    "# normalize passing threshold\n",
    "test_data_long[\"normalized_passing_threshold\"] = test_data_long[\"max_score\"] * 0.75 / test_data_long[\"max_score\"]\n",
    "\n",
    "# make test number into int\n",
    "test_data_long[\"test_number\"] = test_data_long[\"test_number\"].astype(int)\n",
    "\n",
    "test_data_long\n"
   ]
  },
  {
   "cell_type": "code",
   "execution_count": 3,
   "metadata": {},
   "outputs": [],
   "source": [
    "\n",
    "def make_stationary(student_data):\n",
    "    student_data = student_data.sort_values(\"date\").copy()\n",
    "    student_data[\"score_diff\"] = student_data[\"score\"].diff()\n",
    "    student_data[\"normalized_score_diff\"] = student_data[\"normalized_scores\"].diff()\n",
    "    student_data.dropna(inplace=True)\n",
    "    return student_data\n"
   ]
  },
  {
   "cell_type": "code",
   "execution_count": 4,
   "metadata": {},
   "outputs": [],
   "source": [
    "\n",
    "def grid_search_arima(train_series):\n",
    "    p_values = range(0, 2)\n",
    "    d_values = [1]  # Differencing is manually applied, so d=1\n",
    "    q_values = range(0, 2)\n",
    "\n",
    "    best_aic = float(\"inf\")\n",
    "    best_order = None\n",
    "    best_model = None\n",
    "\n",
    "    for p, d, q in product(p_values, d_values, q_values):\n",
    "        try:\n",
    "            model = ARIMA(train_series, order=(p, d, q), freq=\"7D\")\n",
    "            fitted_model = model.fit()\n",
    "            if fitted_model.aic < best_aic:\n",
    "                best_aic = fitted_model.aic\n",
    "                best_order = (p, d, q)\n",
    "                best_model = fitted_model\n",
    "        except:\n",
    "            continue\n",
    "\n",
    "    return best_order, best_model\n"
   ]
  },
  {
   "cell_type": "markdown",
   "metadata": {},
   "source": [
    "# ARIMA Prediction\n"
   ]
  },
  {
   "cell_type": "code",
   "execution_count": 5,
   "metadata": {},
   "outputs": [],
   "source": [
    "\n",
    "def arima_prediction(arima_model, student_scores, last_normalized_score, last_max_score):\n",
    "    \"\"\" Generates an ARIMA prediction for a given student's time series. \"\"\"\n",
    "\n",
    "    arima_pred = arima_model.forecast(steps=1)[0]\n",
    "\n",
    "    # reverse differencing\n",
    "    predicted_normalized_score = arima_pred + last_normalized_score\n",
    "\n",
    "    # reverse normalization\n",
    "    predicted_score = predicted_normalized_score * last_max_score\n",
    "\n",
    "    return predicted_score"
   ]
  },
  {
   "cell_type": "markdown",
   "metadata": {},
   "source": [
    "# LSTM"
   ]
  },
  {
   "cell_type": "code",
   "execution_count": 6,
   "metadata": {},
   "outputs": [],
   "source": [
    "window_size = 5\n",
    "lstm_model = None\n",
    "\n",
    "def prepare_lstm_data(data, window_size):\n",
    "\n",
    "    \"\"\" Converts the dataset into sequences for LSTM training. \"\"\"\n",
    "    X, y = [], []\n",
    "    for i in range(len(data) - window_size):\n",
    "        X.append(data[i:i+window_size])\n",
    "        y.append(data[i+window_size])\n",
    "    return np.array(X), np.array(y)\n",
    "\n",
    "\n",
    "def build_lstm_model(window_size):\n",
    "    \"\"\" Builds and compiles an LSTM model. \"\"\"\n",
    "    model = Sequential([\n",
    "        Input(shape=(window_size, 1)),\n",
    "        Bidirectional(LSTM(64, activation=\"tanh\", return_sequences=True)),\n",
    "        Dropout(0.2),\n",
    "        Bidirectional(LSTM(32, activation=\"tanh\")),\n",
    "        Dense(16, activation=\"relu\"),\n",
    "        Dense(1)  # Predicts one score\n",
    "    ])\n",
    "    model.compile(optimizer=\"adam\", loss=\"mse\")\n",
    "    return model\n",
    "\n",
    "\n",
    "def train_lstm_model(processed_data):\n",
    "    \"\"\" Trains a single LSTM model across all students. \"\"\"\n",
    "    global lstm_model\n",
    "\n",
    "    # Prepare data for LSTM training\n",
    "    all_scores = []\n",
    "    for _, student_data in processed_data.groupby(\"student_id\"):\n",
    "        normalized_diff_scores = make_stationary(student_data.copy())\n",
    "        scores = normalized_diff_scores.sort_values(\n",
    "            \"date\")[\"normalized_score_diff\"].tolist()\n",
    "        all_scores.extend(scores)  # Collect all scores\n",
    "\n",
    "    # Convert data into sequences\n",
    "    X_train, y_train = prepare_lstm_data(all_scores, window_size)\n",
    "    X_train = X_train.reshape(\n",
    "        (X_train.shape[0], X_train.shape[1], 1))  # Reshape for LSTM\n",
    "\n",
    "    # Build and train the LSTM model\n",
    "    lstm_model = build_lstm_model(window_size)\n",
    "    lstm_model.fit(X_train, y_train, epochs=32, batch_size=16)\n",
    "\n",
    "\n",
    "def hybrid_prediction(student_scores, arima_model, last_normalized_score, last_max_score):\n",
    "    \"\"\" Generates a hybrid prediction using both ARIMA and LSTM. \"\"\"\n",
    "    global lstm_model\n",
    "\n",
    "    arima_pred = arima_prediction(arima_model=arima_model, student_scores=student_scores,\n",
    "                                  last_normalized_score=last_normalized_score, last_max_score=last_max_score)\n",
    "\n",
    "    # Use LSTM for refinement\n",
    "    X_input = np.array(\n",
    "        student_scores[-window_size:]).reshape(1, window_size, 1)\n",
    "    lstm_pred = lstm_model.predict(X_input)[0][0]\n",
    "\n",
    "    # reverse difference the lstm_pred\n",
    "    lstm_pred_normalized = lstm_pred + last_normalized_score\n",
    "\n",
    "    # reverse normalization\n",
    "    lstm_pred = lstm_pred_normalized * last_max_score\n",
    "\n",
    "    # Hybrid prediction: Combine both models\n",
    "    hybrid_prediction = (arima_pred * 0.5) + (lstm_pred * 0.5)\n",
    "\n",
    "    return hybrid_prediction"
   ]
  },
  {
   "cell_type": "code",
   "execution_count": 7,
   "metadata": {},
   "outputs": [
    {
     "name": "stdout",
     "output_type": "stream",
     "text": [
      "Epoch 1/32\n",
      "\u001b[1m50/50\u001b[0m \u001b[32m━━━━━━━━━━━━━━━━━━━━\u001b[0m\u001b[37m\u001b[0m \u001b[1m4s\u001b[0m 4ms/step - loss: 0.0051\n",
      "Epoch 2/32\n",
      "\u001b[1m50/50\u001b[0m \u001b[32m━━━━━━━━━━━━━━━━━━━━\u001b[0m\u001b[37m\u001b[0m \u001b[1m0s\u001b[0m 4ms/step - loss: 0.0048\n",
      "Epoch 3/32\n",
      "\u001b[1m50/50\u001b[0m \u001b[32m━━━━━━━━━━━━━━━━━━━━\u001b[0m\u001b[37m\u001b[0m \u001b[1m0s\u001b[0m 4ms/step - loss: 0.0050\n",
      "Epoch 4/32\n",
      "\u001b[1m50/50\u001b[0m \u001b[32m━━━━━━━━━━━━━━━━━━━━\u001b[0m\u001b[37m\u001b[0m \u001b[1m0s\u001b[0m 4ms/step - loss: 0.0049\n",
      "Epoch 5/32\n",
      "\u001b[1m50/50\u001b[0m \u001b[32m━━━━━━━━━━━━━━━━━━━━\u001b[0m\u001b[37m\u001b[0m \u001b[1m0s\u001b[0m 4ms/step - loss: 0.0048\n",
      "Epoch 6/32\n",
      "\u001b[1m50/50\u001b[0m \u001b[32m━━━━━━━━━━━━━━━━━━━━\u001b[0m\u001b[37m\u001b[0m \u001b[1m0s\u001b[0m 8ms/step - loss: 0.0049\n",
      "Epoch 7/32\n",
      "\u001b[1m50/50\u001b[0m \u001b[32m━━━━━━━━━━━━━━━━━━━━\u001b[0m\u001b[37m\u001b[0m \u001b[1m0s\u001b[0m 6ms/step - loss: 0.0049\n",
      "Epoch 8/32\n",
      "\u001b[1m50/50\u001b[0m \u001b[32m━━━━━━━━━━━━━━━━━━━━\u001b[0m\u001b[37m\u001b[0m \u001b[1m0s\u001b[0m 5ms/step - loss: 0.0051\n",
      "Epoch 9/32\n",
      "\u001b[1m50/50\u001b[0m \u001b[32m━━━━━━━━━━━━━━━━━━━━\u001b[0m\u001b[37m\u001b[0m \u001b[1m0s\u001b[0m 7ms/step - loss: 0.0050\n",
      "Epoch 10/32\n",
      "\u001b[1m50/50\u001b[0m \u001b[32m━━━━━━━━━━━━━━━━━━━━\u001b[0m\u001b[37m\u001b[0m \u001b[1m0s\u001b[0m 5ms/step - loss: 0.0048\n",
      "Epoch 11/32\n",
      "\u001b[1m50/50\u001b[0m \u001b[32m━━━━━━━━━━━━━━━━━━━━\u001b[0m\u001b[37m\u001b[0m \u001b[1m0s\u001b[0m 5ms/step - loss: 0.0051\n",
      "Epoch 12/32\n",
      "\u001b[1m50/50\u001b[0m \u001b[32m━━━━━━━━━━━━━━━━━━━━\u001b[0m\u001b[37m\u001b[0m \u001b[1m0s\u001b[0m 5ms/step - loss: 0.0049\n",
      "Epoch 13/32\n",
      "\u001b[1m50/50\u001b[0m \u001b[32m━━━━━━━━━━━━━━━━━━━━\u001b[0m\u001b[37m\u001b[0m \u001b[1m0s\u001b[0m 4ms/step - loss: 0.0050\n",
      "Epoch 14/32\n",
      "\u001b[1m50/50\u001b[0m \u001b[32m━━━━━━━━━━━━━━━━━━━━\u001b[0m\u001b[37m\u001b[0m \u001b[1m0s\u001b[0m 4ms/step - loss: 0.0051\n",
      "Epoch 15/32\n",
      "\u001b[1m50/50\u001b[0m \u001b[32m━━━━━━━━━━━━━━━━━━━━\u001b[0m\u001b[37m\u001b[0m \u001b[1m0s\u001b[0m 5ms/step - loss: 0.0047\n",
      "Epoch 16/32\n",
      "\u001b[1m50/50\u001b[0m \u001b[32m━━━━━━━━━━━━━━━━━━━━\u001b[0m\u001b[37m\u001b[0m \u001b[1m0s\u001b[0m 4ms/step - loss: 0.0048\n",
      "Epoch 17/32\n",
      "\u001b[1m50/50\u001b[0m \u001b[32m━━━━━━━━━━━━━━━━━━━━\u001b[0m\u001b[37m\u001b[0m \u001b[1m0s\u001b[0m 4ms/step - loss: 0.0048\n",
      "Epoch 18/32\n",
      "\u001b[1m50/50\u001b[0m \u001b[32m━━━━━━━━━━━━━━━━━━━━\u001b[0m\u001b[37m\u001b[0m \u001b[1m0s\u001b[0m 5ms/step - loss: 0.0049\n",
      "Epoch 19/32\n",
      "\u001b[1m50/50\u001b[0m \u001b[32m━━━━━━━━━━━━━━━━━━━━\u001b[0m\u001b[37m\u001b[0m \u001b[1m0s\u001b[0m 7ms/step - loss: 0.0049\n",
      "Epoch 20/32\n",
      "\u001b[1m50/50\u001b[0m \u001b[32m━━━━━━━━━━━━━━━━━━━━\u001b[0m\u001b[37m\u001b[0m \u001b[1m0s\u001b[0m 6ms/step - loss: 0.0051\n",
      "Epoch 21/32\n",
      "\u001b[1m50/50\u001b[0m \u001b[32m━━━━━━━━━━━━━━━━━━━━\u001b[0m\u001b[37m\u001b[0m \u001b[1m0s\u001b[0m 6ms/step - loss: 0.0049\n",
      "Epoch 22/32\n",
      "\u001b[1m50/50\u001b[0m \u001b[32m━━━━━━━━━━━━━━━━━━━━\u001b[0m\u001b[37m\u001b[0m \u001b[1m0s\u001b[0m 6ms/step - loss: 0.0050\n",
      "Epoch 23/32\n",
      "\u001b[1m50/50\u001b[0m \u001b[32m━━━━━━━━━━━━━━━━━━━━\u001b[0m\u001b[37m\u001b[0m \u001b[1m0s\u001b[0m 6ms/step - loss: 0.0047\n",
      "Epoch 24/32\n",
      "\u001b[1m50/50\u001b[0m \u001b[32m━━━━━━━━━━━━━━━━━━━━\u001b[0m\u001b[37m\u001b[0m \u001b[1m0s\u001b[0m 5ms/step - loss: 0.0049\n",
      "Epoch 25/32\n",
      "\u001b[1m50/50\u001b[0m \u001b[32m━━━━━━━━━━━━━━━━━━━━\u001b[0m\u001b[37m\u001b[0m \u001b[1m0s\u001b[0m 5ms/step - loss: 0.0049\n",
      "Epoch 26/32\n",
      "\u001b[1m50/50\u001b[0m \u001b[32m━━━━━━━━━━━━━━━━━━━━\u001b[0m\u001b[37m\u001b[0m \u001b[1m0s\u001b[0m 5ms/step - loss: 0.0049\n",
      "Epoch 27/32\n",
      "\u001b[1m50/50\u001b[0m \u001b[32m━━━━━━━━━━━━━━━━━━━━\u001b[0m\u001b[37m\u001b[0m \u001b[1m0s\u001b[0m 5ms/step - loss: 0.0048\n",
      "Epoch 28/32\n",
      "\u001b[1m50/50\u001b[0m \u001b[32m━━━━━━━━━━━━━━━━━━━━\u001b[0m\u001b[37m\u001b[0m \u001b[1m0s\u001b[0m 7ms/step - loss: 0.0049\n",
      "Epoch 29/32\n",
      "\u001b[1m50/50\u001b[0m \u001b[32m━━━━━━━━━━━━━━━━━━━━\u001b[0m\u001b[37m\u001b[0m \u001b[1m0s\u001b[0m 5ms/step - loss: 0.0048\n",
      "Epoch 30/32\n",
      "\u001b[1m50/50\u001b[0m \u001b[32m━━━━━━━━━━━━━━━━━━━━\u001b[0m\u001b[37m\u001b[0m \u001b[1m0s\u001b[0m 5ms/step - loss: 0.0052\n",
      "Epoch 31/32\n",
      "\u001b[1m50/50\u001b[0m \u001b[32m━━━━━━━━━━━━━━━━━━━━\u001b[0m\u001b[37m\u001b[0m \u001b[1m0s\u001b[0m 4ms/step - loss: 0.0050\n",
      "Epoch 32/32\n",
      "\u001b[1m50/50\u001b[0m \u001b[32m━━━━━━━━━━━━━━━━━━━━\u001b[0m\u001b[37m\u001b[0m \u001b[1m0s\u001b[0m 5ms/step - loss: 0.0051\n"
     ]
    }
   ],
   "source": [
    "train_lstm_model(test_data_long)"
   ]
  },
  {
   "cell_type": "markdown",
   "metadata": {},
   "source": [
    "# TRAINING\n"
   ]
  },
  {
   "cell_type": "code",
   "execution_count": 8,
   "metadata": {},
   "outputs": [],
   "source": [
    "\n",
    "def train_model(processed_data):\n",
    "    \"\"\" Trains ARIMA for each student and applies the hybrid approach. \"\"\"\n",
    "    mae_df = pd.DataFrame(columns=[\"student_id\", \"arima_mae\", \"hybrid_mae\", \"best_prediction\"])\n",
    "    for student_id, student_data in processed_data.groupby(\"student_id\"):\n",
    "\n",
    "        differenced_student_data = make_stationary(student_data.copy())\n",
    "        num_tests = differenced_student_data.shape[0]\n",
    "\n",
    "        train = differenced_student_data.iloc[:num_tests-1].copy()\n",
    "        test = differenced_student_data.iloc[num_tests-1:].copy()\n",
    "\n",
    "\n",
    "        train.set_index(\"date\", inplace=True)\n",
    "        test.set_index(\"date\", inplace=True)\n",
    "\n",
    "        best_order, best_model = grid_search_arima(\n",
    "            train[\"normalized_score_diff\"])\n",
    "\n",
    "        if best_order:\n",
    "            last_max_score = train[\"max_score\"].iloc[-1]\n",
    "            # Base ARIMA Prediction\n",
    "            arima_predictions = [arima_prediction(\n",
    "                best_model, train[\"normalized_score_diff\"], train[\"normalized_scores\"].iloc[-1], last_max_score)]\n",
    "\n",
    "            # Hybrid prediction\n",
    "            hybrid_predictions = [hybrid_prediction(\n",
    "                train[\"normalized_score_diff\"], best_model, train[\"normalized_scores\"].iloc[-1], last_max_score)]\n",
    "\n",
    "            mae_arima = mean_absolute_error(test[\"score\"], arima_predictions)\n",
    "            mae_hybrid = mean_absolute_error(test[\"score\"], hybrid_predictions)\n",
    "\n",
    "            # determine whether the mae_arima is better than mae_hybrid and then use that as the predicted score\n",
    "            if mae_arima < mae_hybrid:\n",
    "                best_prediction = arima_predictions\n",
    "            else:\n",
    "                best_prediction = hybrid_predictions\n",
    "\n",
    "            \n",
    "\n",
    "            # Store the results\n",
    "            new_row = [\n",
    "                student_id,\n",
    "                mae_arima,\n",
    "                mae_hybrid,\n",
    "                best_prediction\n",
    "            ]\n",
    "            mae_df.loc[len(mae_df)] = new_row\n",
    "\n",
    "    return mae_df\n",
    "\n",
    "\n",
    "\n",
    "\n",
    "\n"
   ]
  },
  {
   "cell_type": "code",
   "execution_count": 15,
   "metadata": {},
   "outputs": [],
   "source": [
    "\n",
    "def train_model_without_test(processed_data):\n",
    "    \"\"\" Trains ARIMA for each student and applies the hybrid approach. \"\"\"\n",
    "    mae_df = pd.DataFrame(columns=[\"student_id\", \"arima_mae\", \"hybrid_mae\", \"best_prediction\"])\n",
    "    for student_id, student_data in processed_data.groupby(\"student_id\"):\n",
    "\n",
    "        differenced_student_data = make_stationary(student_data.copy())\n",
    "\n",
    "        train = differenced_student_data\n",
    "\n",
    "\n",
    "        train.set_index(\"date\", inplace=True)\n",
    "\n",
    "        best_order, best_model = grid_search_arima(\n",
    "            train[\"normalized_score_diff\"])\n",
    "\n",
    "        if best_order:\n",
    "            last_max_score = train[\"max_score\"].iloc[-1]\n",
    "            # Base ARIMA Prediction\n",
    "            arima_predictions = [arima_prediction(\n",
    "                best_model, train[\"normalized_score_diff\"], train[\"normalized_scores\"].iloc[-1], last_max_score)]\n",
    "\n",
    "            # Hybrid prediction\n",
    "            hybrid_predictions = [hybrid_prediction(\n",
    "                train[\"normalized_score_diff\"], best_model, train[\"normalized_scores\"].iloc[-1], last_max_score)]\n",
    "\n",
    "            mae_arima = mean_absolute_error([train[\"score\"].iloc[-1]], arima_predictions)\n",
    "            mae_hybrid = mean_absolute_error([train[\"score\"].iloc[-1]], hybrid_predictions)\n",
    "\n",
    "            # determine whether the mae_arima is better than mae_hybrid and then use that as the predicted score\n",
    "            if mae_arima < mae_hybrid:\n",
    "                best_prediction = arima_predictions\n",
    "            else:\n",
    "                best_prediction = hybrid_predictions\n",
    "\n",
    "            \n",
    "\n",
    "            # Store the results\n",
    "            new_row = [\n",
    "                student_id,\n",
    "                mae_arima,\n",
    "                mae_hybrid,\n",
    "                best_prediction\n",
    "            ]\n",
    "            mae_df.loc[len(mae_df)] = new_row\n",
    "\n",
    "    return mae_df\n",
    "\n",
    "\n",
    "\n",
    "\n",
    "\n"
   ]
  },
  {
   "cell_type": "code",
   "execution_count": 10,
   "metadata": {},
   "outputs": [
    {
     "name": "stderr",
     "output_type": "stream",
     "text": [
      "c:\\Users\\Luis\\Documents\\DevProjects\\esptfa-arima\\esptfa-arima-venv\\lib\\site-packages\\statsmodels\\tsa\\base\\tsa_model.py:473: ValueWarning: No frequency information was provided, so inferred frequency W-SUN will be used.\n",
      "  self._init_dates(dates, freq)\n",
      "c:\\Users\\Luis\\Documents\\DevProjects\\esptfa-arima\\esptfa-arima-venv\\lib\\site-packages\\statsmodels\\tsa\\base\\tsa_model.py:473: ValueWarning: No frequency information was provided, so inferred frequency W-SUN will be used.\n",
      "  self._init_dates(dates, freq)\n",
      "c:\\Users\\Luis\\Documents\\DevProjects\\esptfa-arima\\esptfa-arima-venv\\lib\\site-packages\\statsmodels\\tsa\\statespace\\sarimax.py:978: UserWarning: Non-invertible starting MA parameters found. Using zeros as starting parameters.\n",
      "  warn('Non-invertible starting MA parameters found.'\n",
      "c:\\Users\\Luis\\Documents\\DevProjects\\esptfa-arima\\esptfa-arima-venv\\lib\\site-packages\\statsmodels\\tsa\\base\\tsa_model.py:473: ValueWarning: No frequency information was provided, so inferred frequency W-SUN will be used.\n",
      "  self._init_dates(dates, freq)\n",
      "c:\\Users\\Luis\\Documents\\DevProjects\\esptfa-arima\\esptfa-arima-venv\\lib\\site-packages\\statsmodels\\tsa\\base\\tsa_model.py:473: ValueWarning: No frequency information was provided, so inferred frequency W-SUN will be used.\n",
      "  self._init_dates(dates, freq)\n",
      "c:\\Users\\Luis\\Documents\\DevProjects\\esptfa-arima\\esptfa-arima-venv\\lib\\site-packages\\statsmodels\\tsa\\statespace\\sarimax.py:978: UserWarning: Non-invertible starting MA parameters found. Using zeros as starting parameters.\n",
      "  warn('Non-invertible starting MA parameters found.'\n",
      "C:\\Users\\Luis\\AppData\\Local\\Temp\\ipykernel_4056\\2541929839.py:4: FutureWarning: Series.__getitem__ treating keys as positions is deprecated. In a future version, integer keys will always be treated as labels (consistent with DataFrame behavior). To access a value by position, use `ser.iloc[pos]`\n",
      "  arima_pred = arima_model.forecast(steps=1)[0]\n"
     ]
    },
    {
     "name": "stdout",
     "output_type": "stream",
     "text": [
      "\u001b[1m1/1\u001b[0m \u001b[32m━━━━━━━━━━━━━━━━━━━━\u001b[0m\u001b[37m\u001b[0m \u001b[1m0s\u001b[0m 330ms/step\n",
      "\u001b[1m1/1\u001b[0m \u001b[32m━━━━━━━━━━━━━━━━━━━━\u001b[0m\u001b[37m\u001b[0m \u001b[1m0s\u001b[0m 38ms/step\n"
     ]
    },
    {
     "name": "stderr",
     "output_type": "stream",
     "text": [
      "c:\\Users\\Luis\\Documents\\DevProjects\\esptfa-arima\\esptfa-arima-venv\\lib\\site-packages\\statsmodels\\tsa\\base\\tsa_model.py:473: ValueWarning: No frequency information was provided, so inferred frequency W-SUN will be used.\n",
      "  self._init_dates(dates, freq)\n",
      "c:\\Users\\Luis\\Documents\\DevProjects\\esptfa-arima\\esptfa-arima-venv\\lib\\site-packages\\statsmodels\\tsa\\base\\tsa_model.py:473: ValueWarning: No frequency information was provided, so inferred frequency W-SUN will be used.\n",
      "  self._init_dates(dates, freq)\n",
      "c:\\Users\\Luis\\Documents\\DevProjects\\esptfa-arima\\esptfa-arima-venv\\lib\\site-packages\\statsmodels\\tsa\\base\\tsa_model.py:473: ValueWarning: No frequency information was provided, so inferred frequency W-SUN will be used.\n",
      "  self._init_dates(dates, freq)\n",
      "c:\\Users\\Luis\\Documents\\DevProjects\\esptfa-arima\\esptfa-arima-venv\\lib\\site-packages\\statsmodels\\tsa\\base\\tsa_model.py:473: ValueWarning: No frequency information was provided, so inferred frequency W-SUN will be used.\n",
      "  self._init_dates(dates, freq)\n",
      "C:\\Users\\Luis\\AppData\\Local\\Temp\\ipykernel_4056\\2541929839.py:4: FutureWarning: Series.__getitem__ treating keys as positions is deprecated. In a future version, integer keys will always be treated as labels (consistent with DataFrame behavior). To access a value by position, use `ser.iloc[pos]`\n",
      "  arima_pred = arima_model.forecast(steps=1)[0]\n",
      "c:\\Users\\Luis\\Documents\\DevProjects\\esptfa-arima\\esptfa-arima-venv\\lib\\site-packages\\statsmodels\\tsa\\base\\tsa_model.py:473: ValueWarning: No frequency information was provided, so inferred frequency W-SUN will be used.\n",
      "  self._init_dates(dates, freq)\n",
      "c:\\Users\\Luis\\Documents\\DevProjects\\esptfa-arima\\esptfa-arima-venv\\lib\\site-packages\\statsmodels\\tsa\\base\\tsa_model.py:473: ValueWarning: No frequency information was provided, so inferred frequency W-SUN will be used.\n",
      "  self._init_dates(dates, freq)\n"
     ]
    },
    {
     "name": "stdout",
     "output_type": "stream",
     "text": [
      "\u001b[1m1/1\u001b[0m \u001b[32m━━━━━━━━━━━━━━━━━━━━\u001b[0m\u001b[37m\u001b[0m \u001b[1m0s\u001b[0m 28ms/step\n"
     ]
    },
    {
     "name": "stderr",
     "output_type": "stream",
     "text": [
      "c:\\Users\\Luis\\Documents\\DevProjects\\esptfa-arima\\esptfa-arima-venv\\lib\\site-packages\\statsmodels\\tsa\\base\\tsa_model.py:473: ValueWarning: No frequency information was provided, so inferred frequency W-SUN will be used.\n",
      "  self._init_dates(dates, freq)\n",
      "c:\\Users\\Luis\\Documents\\DevProjects\\esptfa-arima\\esptfa-arima-venv\\lib\\site-packages\\statsmodels\\tsa\\base\\tsa_model.py:473: ValueWarning: No frequency information was provided, so inferred frequency W-SUN will be used.\n",
      "  self._init_dates(dates, freq)\n",
      "c:\\Users\\Luis\\Documents\\DevProjects\\esptfa-arima\\esptfa-arima-venv\\lib\\site-packages\\statsmodels\\tsa\\statespace\\sarimax.py:978: UserWarning: Non-invertible starting MA parameters found. Using zeros as starting parameters.\n",
      "  warn('Non-invertible starting MA parameters found.'\n",
      "C:\\Users\\Luis\\AppData\\Local\\Temp\\ipykernel_4056\\2541929839.py:4: FutureWarning: Series.__getitem__ treating keys as positions is deprecated. In a future version, integer keys will always be treated as labels (consistent with DataFrame behavior). To access a value by position, use `ser.iloc[pos]`\n",
      "  arima_pred = arima_model.forecast(steps=1)[0]\n",
      "c:\\Users\\Luis\\Documents\\DevProjects\\esptfa-arima\\esptfa-arima-venv\\lib\\site-packages\\statsmodels\\tsa\\base\\tsa_model.py:473: ValueWarning: No frequency information was provided, so inferred frequency W-SUN will be used.\n",
      "  self._init_dates(dates, freq)\n",
      "c:\\Users\\Luis\\Documents\\DevProjects\\esptfa-arima\\esptfa-arima-venv\\lib\\site-packages\\statsmodels\\tsa\\base\\tsa_model.py:473: ValueWarning: No frequency information was provided, so inferred frequency W-SUN will be used.\n",
      "  self._init_dates(dates, freq)\n",
      "c:\\Users\\Luis\\Documents\\DevProjects\\esptfa-arima\\esptfa-arima-venv\\lib\\site-packages\\statsmodels\\tsa\\base\\tsa_model.py:473: ValueWarning: No frequency information was provided, so inferred frequency W-SUN will be used.\n",
      "  self._init_dates(dates, freq)\n",
      "c:\\Users\\Luis\\Documents\\DevProjects\\esptfa-arima\\esptfa-arima-venv\\lib\\site-packages\\statsmodels\\tsa\\base\\tsa_model.py:473: ValueWarning: No frequency information was provided, so inferred frequency W-SUN will be used.\n",
      "  self._init_dates(dates, freq)\n"
     ]
    },
    {
     "name": "stdout",
     "output_type": "stream",
     "text": [
      "\u001b[1m1/1\u001b[0m \u001b[32m━━━━━━━━━━━━━━━━━━━━\u001b[0m\u001b[37m\u001b[0m \u001b[1m0s\u001b[0m 37ms/step\n"
     ]
    },
    {
     "name": "stderr",
     "output_type": "stream",
     "text": [
      "C:\\Users\\Luis\\AppData\\Local\\Temp\\ipykernel_4056\\2541929839.py:4: FutureWarning: Series.__getitem__ treating keys as positions is deprecated. In a future version, integer keys will always be treated as labels (consistent with DataFrame behavior). To access a value by position, use `ser.iloc[pos]`\n",
      "  arima_pred = arima_model.forecast(steps=1)[0]\n",
      "c:\\Users\\Luis\\Documents\\DevProjects\\esptfa-arima\\esptfa-arima-venv\\lib\\site-packages\\statsmodels\\tsa\\base\\tsa_model.py:473: ValueWarning: No frequency information was provided, so inferred frequency W-SUN will be used.\n",
      "  self._init_dates(dates, freq)\n",
      "c:\\Users\\Luis\\Documents\\DevProjects\\esptfa-arima\\esptfa-arima-venv\\lib\\site-packages\\statsmodels\\tsa\\base\\tsa_model.py:473: ValueWarning: No frequency information was provided, so inferred frequency W-SUN will be used.\n",
      "  self._init_dates(dates, freq)\n",
      "c:\\Users\\Luis\\Documents\\DevProjects\\esptfa-arima\\esptfa-arima-venv\\lib\\site-packages\\statsmodels\\tsa\\base\\tsa_model.py:473: ValueWarning: No frequency information was provided, so inferred frequency W-SUN will be used.\n",
      "  self._init_dates(dates, freq)\n",
      "c:\\Users\\Luis\\Documents\\DevProjects\\esptfa-arima\\esptfa-arima-venv\\lib\\site-packages\\statsmodels\\tsa\\base\\tsa_model.py:473: ValueWarning: No frequency information was provided, so inferred frequency W-SUN will be used.\n",
      "  self._init_dates(dates, freq)\n",
      "c:\\Users\\Luis\\Documents\\DevProjects\\esptfa-arima\\esptfa-arima-venv\\lib\\site-packages\\statsmodels\\tsa\\statespace\\sarimax.py:978: UserWarning: Non-invertible starting MA parameters found. Using zeros as starting parameters.\n",
      "  warn('Non-invertible starting MA parameters found.'\n"
     ]
    },
    {
     "name": "stdout",
     "output_type": "stream",
     "text": [
      "\u001b[1m1/1\u001b[0m \u001b[32m━━━━━━━━━━━━━━━━━━━━\u001b[0m\u001b[37m\u001b[0m \u001b[1m0s\u001b[0m 27ms/step\n"
     ]
    },
    {
     "name": "stderr",
     "output_type": "stream",
     "text": [
      "C:\\Users\\Luis\\AppData\\Local\\Temp\\ipykernel_4056\\2541929839.py:4: FutureWarning: Series.__getitem__ treating keys as positions is deprecated. In a future version, integer keys will always be treated as labels (consistent with DataFrame behavior). To access a value by position, use `ser.iloc[pos]`\n",
      "  arima_pred = arima_model.forecast(steps=1)[0]\n",
      "c:\\Users\\Luis\\Documents\\DevProjects\\esptfa-arima\\esptfa-arima-venv\\lib\\site-packages\\statsmodels\\tsa\\base\\tsa_model.py:473: ValueWarning: No frequency information was provided, so inferred frequency W-SUN will be used.\n",
      "  self._init_dates(dates, freq)\n",
      "c:\\Users\\Luis\\Documents\\DevProjects\\esptfa-arima\\esptfa-arima-venv\\lib\\site-packages\\statsmodels\\tsa\\base\\tsa_model.py:473: ValueWarning: No frequency information was provided, so inferred frequency W-SUN will be used.\n",
      "  self._init_dates(dates, freq)\n",
      "c:\\Users\\Luis\\Documents\\DevProjects\\esptfa-arima\\esptfa-arima-venv\\lib\\site-packages\\statsmodels\\tsa\\base\\tsa_model.py:473: ValueWarning: No frequency information was provided, so inferred frequency W-SUN will be used.\n",
      "  self._init_dates(dates, freq)\n"
     ]
    },
    {
     "name": "stdout",
     "output_type": "stream",
     "text": [
      "\u001b[1m1/1\u001b[0m \u001b[32m━━━━━━━━━━━━━━━━━━━━\u001b[0m\u001b[37m\u001b[0m \u001b[1m0s\u001b[0m 27ms/step\n"
     ]
    },
    {
     "name": "stderr",
     "output_type": "stream",
     "text": [
      "c:\\Users\\Luis\\Documents\\DevProjects\\esptfa-arima\\esptfa-arima-venv\\lib\\site-packages\\statsmodels\\tsa\\base\\tsa_model.py:473: ValueWarning: No frequency information was provided, so inferred frequency W-SUN will be used.\n",
      "  self._init_dates(dates, freq)\n",
      "c:\\Users\\Luis\\Documents\\DevProjects\\esptfa-arima\\esptfa-arima-venv\\lib\\site-packages\\statsmodels\\tsa\\statespace\\sarimax.py:978: UserWarning: Non-invertible starting MA parameters found. Using zeros as starting parameters.\n",
      "  warn('Non-invertible starting MA parameters found.'\n",
      "c:\\Users\\Luis\\Documents\\DevProjects\\esptfa-arima\\esptfa-arima-venv\\lib\\site-packages\\statsmodels\\base\\model.py:607: ConvergenceWarning: Maximum Likelihood optimization failed to converge. Check mle_retvals\n",
      "  warnings.warn(\"Maximum Likelihood optimization failed to \"\n",
      "C:\\Users\\Luis\\AppData\\Local\\Temp\\ipykernel_4056\\2541929839.py:4: FutureWarning: Series.__getitem__ treating keys as positions is deprecated. In a future version, integer keys will always be treated as labels (consistent with DataFrame behavior). To access a value by position, use `ser.iloc[pos]`\n",
      "  arima_pred = arima_model.forecast(steps=1)[0]\n",
      "c:\\Users\\Luis\\Documents\\DevProjects\\esptfa-arima\\esptfa-arima-venv\\lib\\site-packages\\statsmodels\\tsa\\base\\tsa_model.py:473: ValueWarning: No frequency information was provided, so inferred frequency W-SUN will be used.\n",
      "  self._init_dates(dates, freq)\n",
      "c:\\Users\\Luis\\Documents\\DevProjects\\esptfa-arima\\esptfa-arima-venv\\lib\\site-packages\\statsmodels\\tsa\\base\\tsa_model.py:473: ValueWarning: No frequency information was provided, so inferred frequency W-SUN will be used.\n",
      "  self._init_dates(dates, freq)\n"
     ]
    },
    {
     "name": "stdout",
     "output_type": "stream",
     "text": [
      "\u001b[1m1/1\u001b[0m \u001b[32m━━━━━━━━━━━━━━━━━━━━\u001b[0m\u001b[37m\u001b[0m \u001b[1m0s\u001b[0m 26ms/step\n"
     ]
    },
    {
     "name": "stderr",
     "output_type": "stream",
     "text": [
      "c:\\Users\\Luis\\Documents\\DevProjects\\esptfa-arima\\esptfa-arima-venv\\lib\\site-packages\\statsmodels\\tsa\\base\\tsa_model.py:473: ValueWarning: No frequency information was provided, so inferred frequency W-SUN will be used.\n",
      "  self._init_dates(dates, freq)\n",
      "c:\\Users\\Luis\\Documents\\DevProjects\\esptfa-arima\\esptfa-arima-venv\\lib\\site-packages\\statsmodels\\tsa\\base\\tsa_model.py:473: ValueWarning: No frequency information was provided, so inferred frequency W-SUN will be used.\n",
      "  self._init_dates(dates, freq)\n",
      "c:\\Users\\Luis\\Documents\\DevProjects\\esptfa-arima\\esptfa-arima-venv\\lib\\site-packages\\statsmodels\\tsa\\statespace\\sarimax.py:978: UserWarning: Non-invertible starting MA parameters found. Using zeros as starting parameters.\n",
      "  warn('Non-invertible starting MA parameters found.'\n",
      "C:\\Users\\Luis\\AppData\\Local\\Temp\\ipykernel_4056\\2541929839.py:4: FutureWarning: Series.__getitem__ treating keys as positions is deprecated. In a future version, integer keys will always be treated as labels (consistent with DataFrame behavior). To access a value by position, use `ser.iloc[pos]`\n",
      "  arima_pred = arima_model.forecast(steps=1)[0]\n",
      "c:\\Users\\Luis\\Documents\\DevProjects\\esptfa-arima\\esptfa-arima-venv\\lib\\site-packages\\statsmodels\\tsa\\base\\tsa_model.py:473: ValueWarning: No frequency information was provided, so inferred frequency W-SUN will be used.\n",
      "  self._init_dates(dates, freq)\n",
      "c:\\Users\\Luis\\Documents\\DevProjects\\esptfa-arima\\esptfa-arima-venv\\lib\\site-packages\\statsmodels\\tsa\\base\\tsa_model.py:473: ValueWarning: No frequency information was provided, so inferred frequency W-SUN will be used.\n",
      "  self._init_dates(dates, freq)\n",
      "c:\\Users\\Luis\\Documents\\DevProjects\\esptfa-arima\\esptfa-arima-venv\\lib\\site-packages\\statsmodels\\tsa\\statespace\\sarimax.py:978: UserWarning: Non-invertible starting MA parameters found. Using zeros as starting parameters.\n",
      "  warn('Non-invertible starting MA parameters found.'\n",
      "c:\\Users\\Luis\\Documents\\DevProjects\\esptfa-arima\\esptfa-arima-venv\\lib\\site-packages\\statsmodels\\tsa\\base\\tsa_model.py:473: ValueWarning: No frequency information was provided, so inferred frequency W-SUN will be used.\n",
      "  self._init_dates(dates, freq)\n",
      "c:\\Users\\Luis\\Documents\\DevProjects\\esptfa-arima\\esptfa-arima-venv\\lib\\site-packages\\statsmodels\\base\\model.py:607: ConvergenceWarning: Maximum Likelihood optimization failed to converge. Check mle_retvals\n",
      "  warnings.warn(\"Maximum Likelihood optimization failed to \"\n",
      "c:\\Users\\Luis\\Documents\\DevProjects\\esptfa-arima\\esptfa-arima-venv\\lib\\site-packages\\statsmodels\\tsa\\base\\tsa_model.py:473: ValueWarning: No frequency information was provided, so inferred frequency W-SUN will be used.\n",
      "  self._init_dates(dates, freq)\n",
      "c:\\Users\\Luis\\Documents\\DevProjects\\esptfa-arima\\esptfa-arima-venv\\lib\\site-packages\\statsmodels\\tsa\\statespace\\sarimax.py:978: UserWarning: Non-invertible starting MA parameters found. Using zeros as starting parameters.\n",
      "  warn('Non-invertible starting MA parameters found.'\n"
     ]
    },
    {
     "name": "stdout",
     "output_type": "stream",
     "text": [
      "\u001b[1m1/1\u001b[0m \u001b[32m━━━━━━━━━━━━━━━━━━━━\u001b[0m\u001b[37m\u001b[0m \u001b[1m0s\u001b[0m 34ms/step\n"
     ]
    },
    {
     "name": "stderr",
     "output_type": "stream",
     "text": [
      "C:\\Users\\Luis\\AppData\\Local\\Temp\\ipykernel_4056\\2541929839.py:4: FutureWarning: Series.__getitem__ treating keys as positions is deprecated. In a future version, integer keys will always be treated as labels (consistent with DataFrame behavior). To access a value by position, use `ser.iloc[pos]`\n",
      "  arima_pred = arima_model.forecast(steps=1)[0]\n",
      "c:\\Users\\Luis\\Documents\\DevProjects\\esptfa-arima\\esptfa-arima-venv\\lib\\site-packages\\statsmodels\\tsa\\base\\tsa_model.py:473: ValueWarning: No frequency information was provided, so inferred frequency W-SUN will be used.\n",
      "  self._init_dates(dates, freq)\n",
      "c:\\Users\\Luis\\Documents\\DevProjects\\esptfa-arima\\esptfa-arima-venv\\lib\\site-packages\\statsmodels\\tsa\\base\\tsa_model.py:473: ValueWarning: No frequency information was provided, so inferred frequency W-SUN will be used.\n",
      "  self._init_dates(dates, freq)\n",
      "c:\\Users\\Luis\\Documents\\DevProjects\\esptfa-arima\\esptfa-arima-venv\\lib\\site-packages\\statsmodels\\tsa\\base\\tsa_model.py:473: ValueWarning: No frequency information was provided, so inferred frequency W-SUN will be used.\n",
      "  self._init_dates(dates, freq)\n",
      "c:\\Users\\Luis\\Documents\\DevProjects\\esptfa-arima\\esptfa-arima-venv\\lib\\site-packages\\statsmodels\\tsa\\base\\tsa_model.py:473: ValueWarning: No frequency information was provided, so inferred frequency W-SUN will be used.\n",
      "  self._init_dates(dates, freq)\n"
     ]
    },
    {
     "name": "stdout",
     "output_type": "stream",
     "text": [
      "\u001b[1m1/1\u001b[0m \u001b[32m━━━━━━━━━━━━━━━━━━━━\u001b[0m\u001b[37m\u001b[0m \u001b[1m0s\u001b[0m 26ms/step\n"
     ]
    },
    {
     "name": "stderr",
     "output_type": "stream",
     "text": [
      "C:\\Users\\Luis\\AppData\\Local\\Temp\\ipykernel_4056\\2541929839.py:4: FutureWarning: Series.__getitem__ treating keys as positions is deprecated. In a future version, integer keys will always be treated as labels (consistent with DataFrame behavior). To access a value by position, use `ser.iloc[pos]`\n",
      "  arima_pred = arima_model.forecast(steps=1)[0]\n",
      "c:\\Users\\Luis\\Documents\\DevProjects\\esptfa-arima\\esptfa-arima-venv\\lib\\site-packages\\statsmodels\\tsa\\base\\tsa_model.py:473: ValueWarning: No frequency information was provided, so inferred frequency W-SUN will be used.\n",
      "  self._init_dates(dates, freq)\n",
      "c:\\Users\\Luis\\Documents\\DevProjects\\esptfa-arima\\esptfa-arima-venv\\lib\\site-packages\\statsmodels\\tsa\\base\\tsa_model.py:473: ValueWarning: No frequency information was provided, so inferred frequency W-SUN will be used.\n",
      "  self._init_dates(dates, freq)\n",
      "c:\\Users\\Luis\\Documents\\DevProjects\\esptfa-arima\\esptfa-arima-venv\\lib\\site-packages\\statsmodels\\tsa\\base\\tsa_model.py:473: ValueWarning: No frequency information was provided, so inferred frequency W-SUN will be used.\n",
      "  self._init_dates(dates, freq)\n",
      "c:\\Users\\Luis\\Documents\\DevProjects\\esptfa-arima\\esptfa-arima-venv\\lib\\site-packages\\statsmodels\\tsa\\base\\tsa_model.py:473: ValueWarning: No frequency information was provided, so inferred frequency W-SUN will be used.\n",
      "  self._init_dates(dates, freq)\n"
     ]
    },
    {
     "name": "stdout",
     "output_type": "stream",
     "text": [
      "\u001b[1m1/1\u001b[0m \u001b[32m━━━━━━━━━━━━━━━━━━━━\u001b[0m\u001b[37m\u001b[0m \u001b[1m0s\u001b[0m 28ms/step\n"
     ]
    },
    {
     "name": "stderr",
     "output_type": "stream",
     "text": [
      "C:\\Users\\Luis\\AppData\\Local\\Temp\\ipykernel_4056\\2541929839.py:4: FutureWarning: Series.__getitem__ treating keys as positions is deprecated. In a future version, integer keys will always be treated as labels (consistent with DataFrame behavior). To access a value by position, use `ser.iloc[pos]`\n",
      "  arima_pred = arima_model.forecast(steps=1)[0]\n",
      "c:\\Users\\Luis\\Documents\\DevProjects\\esptfa-arima\\esptfa-arima-venv\\lib\\site-packages\\statsmodels\\tsa\\base\\tsa_model.py:473: ValueWarning: No frequency information was provided, so inferred frequency W-SUN will be used.\n",
      "  self._init_dates(dates, freq)\n",
      "c:\\Users\\Luis\\Documents\\DevProjects\\esptfa-arima\\esptfa-arima-venv\\lib\\site-packages\\statsmodels\\tsa\\base\\tsa_model.py:473: ValueWarning: No frequency information was provided, so inferred frequency W-SUN will be used.\n",
      "  self._init_dates(dates, freq)\n",
      "c:\\Users\\Luis\\Documents\\DevProjects\\esptfa-arima\\esptfa-arima-venv\\lib\\site-packages\\statsmodels\\tsa\\base\\tsa_model.py:473: ValueWarning: No frequency information was provided, so inferred frequency W-SUN will be used.\n",
      "  self._init_dates(dates, freq)\n",
      "c:\\Users\\Luis\\Documents\\DevProjects\\esptfa-arima\\esptfa-arima-venv\\lib\\site-packages\\statsmodels\\tsa\\base\\tsa_model.py:473: ValueWarning: No frequency information was provided, so inferred frequency W-SUN will be used.\n",
      "  self._init_dates(dates, freq)\n",
      "C:\\Users\\Luis\\AppData\\Local\\Temp\\ipykernel_4056\\2541929839.py:4: FutureWarning: Series.__getitem__ treating keys as positions is deprecated. In a future version, integer keys will always be treated as labels (consistent with DataFrame behavior). To access a value by position, use `ser.iloc[pos]`\n",
      "  arima_pred = arima_model.forecast(steps=1)[0]\n"
     ]
    },
    {
     "name": "stdout",
     "output_type": "stream",
     "text": [
      "\u001b[1m1/1\u001b[0m \u001b[32m━━━━━━━━━━━━━━━━━━━━\u001b[0m\u001b[37m\u001b[0m \u001b[1m0s\u001b[0m 44ms/step\n",
      "\u001b[1m1/1\u001b[0m \u001b[32m━━━━━━━━━━━━━━━━━━━━\u001b[0m\u001b[37m\u001b[0m \u001b[1m0s\u001b[0m 27ms/step\n"
     ]
    },
    {
     "name": "stderr",
     "output_type": "stream",
     "text": [
      "c:\\Users\\Luis\\Documents\\DevProjects\\esptfa-arima\\esptfa-arima-venv\\lib\\site-packages\\statsmodels\\tsa\\base\\tsa_model.py:473: ValueWarning: No frequency information was provided, so inferred frequency W-SUN will be used.\n",
      "  self._init_dates(dates, freq)\n",
      "c:\\Users\\Luis\\Documents\\DevProjects\\esptfa-arima\\esptfa-arima-venv\\lib\\site-packages\\statsmodels\\tsa\\base\\tsa_model.py:473: ValueWarning: No frequency information was provided, so inferred frequency W-SUN will be used.\n",
      "  self._init_dates(dates, freq)\n",
      "c:\\Users\\Luis\\Documents\\DevProjects\\esptfa-arima\\esptfa-arima-venv\\lib\\site-packages\\statsmodels\\tsa\\statespace\\sarimax.py:978: UserWarning: Non-invertible starting MA parameters found. Using zeros as starting parameters.\n",
      "  warn('Non-invertible starting MA parameters found.'\n",
      "c:\\Users\\Luis\\Documents\\DevProjects\\esptfa-arima\\esptfa-arima-venv\\lib\\site-packages\\statsmodels\\tsa\\base\\tsa_model.py:473: ValueWarning: No frequency information was provided, so inferred frequency W-SUN will be used.\n",
      "  self._init_dates(dates, freq)\n",
      "c:\\Users\\Luis\\Documents\\DevProjects\\esptfa-arima\\esptfa-arima-venv\\lib\\site-packages\\statsmodels\\tsa\\base\\tsa_model.py:473: ValueWarning: No frequency information was provided, so inferred frequency W-SUN will be used.\n",
      "  self._init_dates(dates, freq)\n",
      "C:\\Users\\Luis\\AppData\\Local\\Temp\\ipykernel_4056\\2541929839.py:4: FutureWarning: Series.__getitem__ treating keys as positions is deprecated. In a future version, integer keys will always be treated as labels (consistent with DataFrame behavior). To access a value by position, use `ser.iloc[pos]`\n",
      "  arima_pred = arima_model.forecast(steps=1)[0]\n",
      "c:\\Users\\Luis\\Documents\\DevProjects\\esptfa-arima\\esptfa-arima-venv\\lib\\site-packages\\statsmodels\\tsa\\base\\tsa_model.py:473: ValueWarning: No frequency information was provided, so inferred frequency W-SUN will be used.\n",
      "  self._init_dates(dates, freq)\n",
      "c:\\Users\\Luis\\Documents\\DevProjects\\esptfa-arima\\esptfa-arima-venv\\lib\\site-packages\\statsmodels\\tsa\\base\\tsa_model.py:473: ValueWarning: No frequency information was provided, so inferred frequency W-SUN will be used.\n",
      "  self._init_dates(dates, freq)\n",
      "c:\\Users\\Luis\\Documents\\DevProjects\\esptfa-arima\\esptfa-arima-venv\\lib\\site-packages\\statsmodels\\tsa\\base\\tsa_model.py:473: ValueWarning: No frequency information was provided, so inferred frequency W-SUN will be used.\n",
      "  self._init_dates(dates, freq)\n"
     ]
    },
    {
     "name": "stdout",
     "output_type": "stream",
     "text": [
      "\u001b[1m1/1\u001b[0m \u001b[32m━━━━━━━━━━━━━━━━━━━━\u001b[0m\u001b[37m\u001b[0m \u001b[1m0s\u001b[0m 37ms/step\n"
     ]
    },
    {
     "name": "stderr",
     "output_type": "stream",
     "text": [
      "c:\\Users\\Luis\\Documents\\DevProjects\\esptfa-arima\\esptfa-arima-venv\\lib\\site-packages\\statsmodels\\tsa\\base\\tsa_model.py:473: ValueWarning: No frequency information was provided, so inferred frequency W-SUN will be used.\n",
      "  self._init_dates(dates, freq)\n",
      "C:\\Users\\Luis\\AppData\\Local\\Temp\\ipykernel_4056\\2541929839.py:4: FutureWarning: Series.__getitem__ treating keys as positions is deprecated. In a future version, integer keys will always be treated as labels (consistent with DataFrame behavior). To access a value by position, use `ser.iloc[pos]`\n",
      "  arima_pred = arima_model.forecast(steps=1)[0]\n",
      "c:\\Users\\Luis\\Documents\\DevProjects\\esptfa-arima\\esptfa-arima-venv\\lib\\site-packages\\statsmodels\\tsa\\base\\tsa_model.py:473: ValueWarning: No frequency information was provided, so inferred frequency W-SUN will be used.\n",
      "  self._init_dates(dates, freq)\n",
      "c:\\Users\\Luis\\Documents\\DevProjects\\esptfa-arima\\esptfa-arima-venv\\lib\\site-packages\\statsmodels\\tsa\\base\\tsa_model.py:473: ValueWarning: No frequency information was provided, so inferred frequency W-SUN will be used.\n",
      "  self._init_dates(dates, freq)\n",
      "c:\\Users\\Luis\\Documents\\DevProjects\\esptfa-arima\\esptfa-arima-venv\\lib\\site-packages\\statsmodels\\tsa\\base\\tsa_model.py:473: ValueWarning: No frequency information was provided, so inferred frequency W-SUN will be used.\n",
      "  self._init_dates(dates, freq)\n"
     ]
    },
    {
     "name": "stdout",
     "output_type": "stream",
     "text": [
      "\u001b[1m1/1\u001b[0m \u001b[32m━━━━━━━━━━━━━━━━━━━━\u001b[0m\u001b[37m\u001b[0m \u001b[1m0s\u001b[0m 27ms/step\n"
     ]
    },
    {
     "name": "stderr",
     "output_type": "stream",
     "text": [
      "c:\\Users\\Luis\\Documents\\DevProjects\\esptfa-arima\\esptfa-arima-venv\\lib\\site-packages\\statsmodels\\tsa\\base\\tsa_model.py:473: ValueWarning: No frequency information was provided, so inferred frequency W-SUN will be used.\n",
      "  self._init_dates(dates, freq)\n",
      "C:\\Users\\Luis\\AppData\\Local\\Temp\\ipykernel_4056\\2541929839.py:4: FutureWarning: Series.__getitem__ treating keys as positions is deprecated. In a future version, integer keys will always be treated as labels (consistent with DataFrame behavior). To access a value by position, use `ser.iloc[pos]`\n",
      "  arima_pred = arima_model.forecast(steps=1)[0]\n",
      "c:\\Users\\Luis\\Documents\\DevProjects\\esptfa-arima\\esptfa-arima-venv\\lib\\site-packages\\statsmodels\\tsa\\base\\tsa_model.py:473: ValueWarning: No frequency information was provided, so inferred frequency W-SUN will be used.\n",
      "  self._init_dates(dates, freq)\n",
      "c:\\Users\\Luis\\Documents\\DevProjects\\esptfa-arima\\esptfa-arima-venv\\lib\\site-packages\\statsmodels\\tsa\\base\\tsa_model.py:473: ValueWarning: No frequency information was provided, so inferred frequency W-SUN will be used.\n",
      "  self._init_dates(dates, freq)\n",
      "c:\\Users\\Luis\\Documents\\DevProjects\\esptfa-arima\\esptfa-arima-venv\\lib\\site-packages\\statsmodels\\tsa\\base\\tsa_model.py:473: ValueWarning: No frequency information was provided, so inferred frequency W-SUN will be used.\n",
      "  self._init_dates(dates, freq)\n",
      "c:\\Users\\Luis\\Documents\\DevProjects\\esptfa-arima\\esptfa-arima-venv\\lib\\site-packages\\statsmodels\\tsa\\base\\tsa_model.py:473: ValueWarning: No frequency information was provided, so inferred frequency W-SUN will be used.\n",
      "  self._init_dates(dates, freq)\n",
      "c:\\Users\\Luis\\Documents\\DevProjects\\esptfa-arima\\esptfa-arima-venv\\lib\\site-packages\\statsmodels\\tsa\\statespace\\sarimax.py:966: UserWarning: Non-stationary starting autoregressive parameters found. Using zeros as starting parameters.\n",
      "  warn('Non-stationary starting autoregressive parameters'\n",
      "c:\\Users\\Luis\\Documents\\DevProjects\\esptfa-arima\\esptfa-arima-venv\\lib\\site-packages\\statsmodels\\tsa\\statespace\\sarimax.py:978: UserWarning: Non-invertible starting MA parameters found. Using zeros as starting parameters.\n",
      "  warn('Non-invertible starting MA parameters found.'\n"
     ]
    },
    {
     "name": "stdout",
     "output_type": "stream",
     "text": [
      "\u001b[1m1/1\u001b[0m \u001b[32m━━━━━━━━━━━━━━━━━━━━\u001b[0m\u001b[37m\u001b[0m \u001b[1m0s\u001b[0m 39ms/step\n"
     ]
    },
    {
     "name": "stderr",
     "output_type": "stream",
     "text": [
      "C:\\Users\\Luis\\AppData\\Local\\Temp\\ipykernel_4056\\2541929839.py:4: FutureWarning: Series.__getitem__ treating keys as positions is deprecated. In a future version, integer keys will always be treated as labels (consistent with DataFrame behavior). To access a value by position, use `ser.iloc[pos]`\n",
      "  arima_pred = arima_model.forecast(steps=1)[0]\n",
      "c:\\Users\\Luis\\Documents\\DevProjects\\esptfa-arima\\esptfa-arima-venv\\lib\\site-packages\\statsmodels\\tsa\\base\\tsa_model.py:473: ValueWarning: No frequency information was provided, so inferred frequency W-SUN will be used.\n",
      "  self._init_dates(dates, freq)\n",
      "c:\\Users\\Luis\\Documents\\DevProjects\\esptfa-arima\\esptfa-arima-venv\\lib\\site-packages\\statsmodels\\tsa\\base\\tsa_model.py:473: ValueWarning: No frequency information was provided, so inferred frequency W-SUN will be used.\n",
      "  self._init_dates(dates, freq)\n",
      "c:\\Users\\Luis\\Documents\\DevProjects\\esptfa-arima\\esptfa-arima-venv\\lib\\site-packages\\statsmodels\\tsa\\base\\tsa_model.py:473: ValueWarning: No frequency information was provided, so inferred frequency W-SUN will be used.\n",
      "  self._init_dates(dates, freq)\n",
      "c:\\Users\\Luis\\Documents\\DevProjects\\esptfa-arima\\esptfa-arima-venv\\lib\\site-packages\\statsmodels\\tsa\\base\\tsa_model.py:473: ValueWarning: No frequency information was provided, so inferred frequency W-SUN will be used.\n",
      "  self._init_dates(dates, freq)\n"
     ]
    },
    {
     "name": "stdout",
     "output_type": "stream",
     "text": [
      "\u001b[1m1/1\u001b[0m \u001b[32m━━━━━━━━━━━━━━━━━━━━\u001b[0m\u001b[37m\u001b[0m \u001b[1m0s\u001b[0m 48ms/step\n"
     ]
    },
    {
     "name": "stderr",
     "output_type": "stream",
     "text": [
      "C:\\Users\\Luis\\AppData\\Local\\Temp\\ipykernel_4056\\2541929839.py:4: FutureWarning: Series.__getitem__ treating keys as positions is deprecated. In a future version, integer keys will always be treated as labels (consistent with DataFrame behavior). To access a value by position, use `ser.iloc[pos]`\n",
      "  arima_pred = arima_model.forecast(steps=1)[0]\n",
      "c:\\Users\\Luis\\Documents\\DevProjects\\esptfa-arima\\esptfa-arima-venv\\lib\\site-packages\\statsmodels\\tsa\\base\\tsa_model.py:473: ValueWarning: No frequency information was provided, so inferred frequency W-SUN will be used.\n",
      "  self._init_dates(dates, freq)\n",
      "c:\\Users\\Luis\\Documents\\DevProjects\\esptfa-arima\\esptfa-arima-venv\\lib\\site-packages\\statsmodels\\tsa\\base\\tsa_model.py:473: ValueWarning: No frequency information was provided, so inferred frequency W-SUN will be used.\n",
      "  self._init_dates(dates, freq)\n",
      "c:\\Users\\Luis\\Documents\\DevProjects\\esptfa-arima\\esptfa-arima-venv\\lib\\site-packages\\statsmodels\\tsa\\statespace\\sarimax.py:978: UserWarning: Non-invertible starting MA parameters found. Using zeros as starting parameters.\n",
      "  warn('Non-invertible starting MA parameters found.'\n"
     ]
    },
    {
     "name": "stdout",
     "output_type": "stream",
     "text": [
      "\u001b[1m1/1\u001b[0m \u001b[32m━━━━━━━━━━━━━━━━━━━━\u001b[0m\u001b[37m\u001b[0m \u001b[1m0s\u001b[0m 27ms/step\n"
     ]
    },
    {
     "name": "stderr",
     "output_type": "stream",
     "text": [
      "c:\\Users\\Luis\\Documents\\DevProjects\\esptfa-arima\\esptfa-arima-venv\\lib\\site-packages\\statsmodels\\tsa\\base\\tsa_model.py:473: ValueWarning: No frequency information was provided, so inferred frequency W-SUN will be used.\n",
      "  self._init_dates(dates, freq)\n",
      "c:\\Users\\Luis\\Documents\\DevProjects\\esptfa-arima\\esptfa-arima-venv\\lib\\site-packages\\statsmodels\\tsa\\base\\tsa_model.py:473: ValueWarning: No frequency information was provided, so inferred frequency W-SUN will be used.\n",
      "  self._init_dates(dates, freq)\n",
      "C:\\Users\\Luis\\AppData\\Local\\Temp\\ipykernel_4056\\2541929839.py:4: FutureWarning: Series.__getitem__ treating keys as positions is deprecated. In a future version, integer keys will always be treated as labels (consistent with DataFrame behavior). To access a value by position, use `ser.iloc[pos]`\n",
      "  arima_pred = arima_model.forecast(steps=1)[0]\n",
      "c:\\Users\\Luis\\Documents\\DevProjects\\esptfa-arima\\esptfa-arima-venv\\lib\\site-packages\\statsmodels\\tsa\\base\\tsa_model.py:473: ValueWarning: No frequency information was provided, so inferred frequency W-SUN will be used.\n",
      "  self._init_dates(dates, freq)\n",
      "c:\\Users\\Luis\\Documents\\DevProjects\\esptfa-arima\\esptfa-arima-venv\\lib\\site-packages\\statsmodels\\tsa\\base\\tsa_model.py:473: ValueWarning: No frequency information was provided, so inferred frequency W-SUN will be used.\n",
      "  self._init_dates(dates, freq)\n",
      "c:\\Users\\Luis\\Documents\\DevProjects\\esptfa-arima\\esptfa-arima-venv\\lib\\site-packages\\statsmodels\\tsa\\base\\tsa_model.py:473: ValueWarning: No frequency information was provided, so inferred frequency W-SUN will be used.\n",
      "  self._init_dates(dates, freq)\n",
      "c:\\Users\\Luis\\Documents\\DevProjects\\esptfa-arima\\esptfa-arima-venv\\lib\\site-packages\\statsmodels\\tsa\\base\\tsa_model.py:473: ValueWarning: No frequency information was provided, so inferred frequency W-SUN will be used.\n",
      "  self._init_dates(dates, freq)\n"
     ]
    },
    {
     "name": "stdout",
     "output_type": "stream",
     "text": [
      "\u001b[1m1/1\u001b[0m \u001b[32m━━━━━━━━━━━━━━━━━━━━\u001b[0m\u001b[37m\u001b[0m \u001b[1m0s\u001b[0m 36ms/step\n"
     ]
    },
    {
     "name": "stderr",
     "output_type": "stream",
     "text": [
      "C:\\Users\\Luis\\AppData\\Local\\Temp\\ipykernel_4056\\2541929839.py:4: FutureWarning: Series.__getitem__ treating keys as positions is deprecated. In a future version, integer keys will always be treated as labels (consistent with DataFrame behavior). To access a value by position, use `ser.iloc[pos]`\n",
      "  arima_pred = arima_model.forecast(steps=1)[0]\n",
      "c:\\Users\\Luis\\Documents\\DevProjects\\esptfa-arima\\esptfa-arima-venv\\lib\\site-packages\\statsmodels\\tsa\\base\\tsa_model.py:473: ValueWarning: No frequency information was provided, so inferred frequency W-SUN will be used.\n",
      "  self._init_dates(dates, freq)\n",
      "c:\\Users\\Luis\\Documents\\DevProjects\\esptfa-arima\\esptfa-arima-venv\\lib\\site-packages\\statsmodels\\tsa\\base\\tsa_model.py:473: ValueWarning: No frequency information was provided, so inferred frequency W-SUN will be used.\n",
      "  self._init_dates(dates, freq)\n",
      "c:\\Users\\Luis\\Documents\\DevProjects\\esptfa-arima\\esptfa-arima-venv\\lib\\site-packages\\statsmodels\\tsa\\statespace\\sarimax.py:978: UserWarning: Non-invertible starting MA parameters found. Using zeros as starting parameters.\n",
      "  warn('Non-invertible starting MA parameters found.'\n",
      "c:\\Users\\Luis\\Documents\\DevProjects\\esptfa-arima\\esptfa-arima-venv\\lib\\site-packages\\statsmodels\\tsa\\base\\tsa_model.py:473: ValueWarning: No frequency information was provided, so inferred frequency W-SUN will be used.\n",
      "  self._init_dates(dates, freq)\n",
      "c:\\Users\\Luis\\Documents\\DevProjects\\esptfa-arima\\esptfa-arima-venv\\lib\\site-packages\\statsmodels\\tsa\\base\\tsa_model.py:473: ValueWarning: No frequency information was provided, so inferred frequency W-SUN will be used.\n",
      "  self._init_dates(dates, freq)\n",
      "c:\\Users\\Luis\\Documents\\DevProjects\\esptfa-arima\\esptfa-arima-venv\\lib\\site-packages\\statsmodels\\tsa\\statespace\\sarimax.py:978: UserWarning: Non-invertible starting MA parameters found. Using zeros as starting parameters.\n",
      "  warn('Non-invertible starting MA parameters found.'\n",
      "C:\\Users\\Luis\\AppData\\Local\\Temp\\ipykernel_4056\\2541929839.py:4: FutureWarning: Series.__getitem__ treating keys as positions is deprecated. In a future version, integer keys will always be treated as labels (consistent with DataFrame behavior). To access a value by position, use `ser.iloc[pos]`\n",
      "  arima_pred = arima_model.forecast(steps=1)[0]\n"
     ]
    },
    {
     "name": "stdout",
     "output_type": "stream",
     "text": [
      "\u001b[1m1/1\u001b[0m \u001b[32m━━━━━━━━━━━━━━━━━━━━\u001b[0m\u001b[37m\u001b[0m \u001b[1m0s\u001b[0m 45ms/step\n"
     ]
    },
    {
     "name": "stderr",
     "output_type": "stream",
     "text": [
      "c:\\Users\\Luis\\Documents\\DevProjects\\esptfa-arima\\esptfa-arima-venv\\lib\\site-packages\\statsmodels\\tsa\\base\\tsa_model.py:473: ValueWarning: No frequency information was provided, so inferred frequency W-SUN will be used.\n",
      "  self._init_dates(dates, freq)\n",
      "c:\\Users\\Luis\\Documents\\DevProjects\\esptfa-arima\\esptfa-arima-venv\\lib\\site-packages\\statsmodels\\tsa\\base\\tsa_model.py:473: ValueWarning: No frequency information was provided, so inferred frequency W-SUN will be used.\n",
      "  self._init_dates(dates, freq)\n",
      "c:\\Users\\Luis\\Documents\\DevProjects\\esptfa-arima\\esptfa-arima-venv\\lib\\site-packages\\statsmodels\\tsa\\base\\tsa_model.py:473: ValueWarning: No frequency information was provided, so inferred frequency W-SUN will be used.\n",
      "  self._init_dates(dates, freq)\n",
      "c:\\Users\\Luis\\Documents\\DevProjects\\esptfa-arima\\esptfa-arima-venv\\lib\\site-packages\\statsmodels\\tsa\\base\\tsa_model.py:473: ValueWarning: No frequency information was provided, so inferred frequency W-SUN will be used.\n",
      "  self._init_dates(dates, freq)\n",
      "C:\\Users\\Luis\\AppData\\Local\\Temp\\ipykernel_4056\\2541929839.py:4: FutureWarning: Series.__getitem__ treating keys as positions is deprecated. In a future version, integer keys will always be treated as labels (consistent with DataFrame behavior). To access a value by position, use `ser.iloc[pos]`\n",
      "  arima_pred = arima_model.forecast(steps=1)[0]\n"
     ]
    },
    {
     "name": "stdout",
     "output_type": "stream",
     "text": [
      "\u001b[1m1/1\u001b[0m \u001b[32m━━━━━━━━━━━━━━━━━━━━\u001b[0m\u001b[37m\u001b[0m \u001b[1m0s\u001b[0m 44ms/step\n",
      "\u001b[1m1/1\u001b[0m \u001b[32m━━━━━━━━━━━━━━━━━━━━\u001b[0m\u001b[37m\u001b[0m \u001b[1m0s\u001b[0m 16ms/step"
     ]
    },
    {
     "name": "stderr",
     "output_type": "stream",
     "text": [
      "c:\\Users\\Luis\\Documents\\DevProjects\\esptfa-arima\\esptfa-arima-venv\\lib\\site-packages\\statsmodels\\tsa\\base\\tsa_model.py:473: ValueWarning: No frequency information was provided, so inferred frequency W-SUN will be used.\n",
      "  self._init_dates(dates, freq)\n",
      "c:\\Users\\Luis\\Documents\\DevProjects\\esptfa-arima\\esptfa-arima-venv\\lib\\site-packages\\statsmodels\\tsa\\base\\tsa_model.py:473: ValueWarning: No frequency information was provided, so inferred frequency W-SUN will be used.\n",
      "  self._init_dates(dates, freq)\n",
      "c:\\Users\\Luis\\Documents\\DevProjects\\esptfa-arima\\esptfa-arima-venv\\lib\\site-packages\\statsmodels\\tsa\\base\\tsa_model.py:473: ValueWarning: No frequency information was provided, so inferred frequency W-SUN will be used.\n",
      "  self._init_dates(dates, freq)\n",
      "c:\\Users\\Luis\\Documents\\DevProjects\\esptfa-arima\\esptfa-arima-venv\\lib\\site-packages\\statsmodels\\tsa\\base\\tsa_model.py:473: ValueWarning: No frequency information was provided, so inferred frequency W-SUN will be used.\n",
      "  self._init_dates(dates, freq)\n",
      "c:\\Users\\Luis\\Documents\\DevProjects\\esptfa-arima\\esptfa-arima-venv\\lib\\site-packages\\statsmodels\\tsa\\statespace\\sarimax.py:978: UserWarning: Non-invertible starting MA parameters found. Using zeros as starting parameters.\n",
      "  warn('Non-invertible starting MA parameters found.'\n",
      "C:\\Users\\Luis\\AppData\\Local\\Temp\\ipykernel_4056\\2541929839.py:4: FutureWarning: Series.__getitem__ treating keys as positions is deprecated. In a future version, integer keys will always be treated as labels (consistent with DataFrame behavior). To access a value by position, use `ser.iloc[pos]`\n",
      "  arima_pred = arima_model.forecast(steps=1)[0]\n"
     ]
    },
    {
     "name": "stdout",
     "output_type": "stream",
     "text": [
      "\u001b[1m1/1\u001b[0m \u001b[32m━━━━━━━━━━━━━━━━━━━━\u001b[0m\u001b[37m\u001b[0m \u001b[1m0s\u001b[0m 30ms/step\n"
     ]
    },
    {
     "name": "stderr",
     "output_type": "stream",
     "text": [
      "c:\\Users\\Luis\\Documents\\DevProjects\\esptfa-arima\\esptfa-arima-venv\\lib\\site-packages\\statsmodels\\tsa\\base\\tsa_model.py:473: ValueWarning: No frequency information was provided, so inferred frequency W-SUN will be used.\n",
      "  self._init_dates(dates, freq)\n",
      "c:\\Users\\Luis\\Documents\\DevProjects\\esptfa-arima\\esptfa-arima-venv\\lib\\site-packages\\statsmodels\\tsa\\base\\tsa_model.py:473: ValueWarning: No frequency information was provided, so inferred frequency W-SUN will be used.\n",
      "  self._init_dates(dates, freq)\n",
      "c:\\Users\\Luis\\Documents\\DevProjects\\esptfa-arima\\esptfa-arima-venv\\lib\\site-packages\\statsmodels\\tsa\\base\\tsa_model.py:473: ValueWarning: No frequency information was provided, so inferred frequency W-SUN will be used.\n",
      "  self._init_dates(dates, freq)\n",
      "c:\\Users\\Luis\\Documents\\DevProjects\\esptfa-arima\\esptfa-arima-venv\\lib\\site-packages\\statsmodels\\tsa\\base\\tsa_model.py:473: ValueWarning: No frequency information was provided, so inferred frequency W-SUN will be used.\n",
      "  self._init_dates(dates, freq)\n",
      "C:\\Users\\Luis\\AppData\\Local\\Temp\\ipykernel_4056\\2541929839.py:4: FutureWarning: Series.__getitem__ treating keys as positions is deprecated. In a future version, integer keys will always be treated as labels (consistent with DataFrame behavior). To access a value by position, use `ser.iloc[pos]`\n",
      "  arima_pred = arima_model.forecast(steps=1)[0]\n"
     ]
    },
    {
     "name": "stdout",
     "output_type": "stream",
     "text": [
      "\u001b[1m1/1\u001b[0m \u001b[32m━━━━━━━━━━━━━━━━━━━━\u001b[0m\u001b[37m\u001b[0m \u001b[1m0s\u001b[0m 32ms/step\n",
      "\u001b[1m1/1\u001b[0m \u001b[32m━━━━━━━━━━━━━━━━━━━━\u001b[0m\u001b[37m\u001b[0m \u001b[1m0s\u001b[0m 19ms/step"
     ]
    },
    {
     "name": "stderr",
     "output_type": "stream",
     "text": [
      "c:\\Users\\Luis\\Documents\\DevProjects\\esptfa-arima\\esptfa-arima-venv\\lib\\site-packages\\statsmodels\\tsa\\base\\tsa_model.py:473: ValueWarning: No frequency information was provided, so inferred frequency W-SUN will be used.\n",
      "  self._init_dates(dates, freq)\n",
      "c:\\Users\\Luis\\Documents\\DevProjects\\esptfa-arima\\esptfa-arima-venv\\lib\\site-packages\\statsmodels\\tsa\\base\\tsa_model.py:473: ValueWarning: No frequency information was provided, so inferred frequency W-SUN will be used.\n",
      "  self._init_dates(dates, freq)\n",
      "c:\\Users\\Luis\\Documents\\DevProjects\\esptfa-arima\\esptfa-arima-venv\\lib\\site-packages\\statsmodels\\base\\model.py:607: ConvergenceWarning: Maximum Likelihood optimization failed to converge. Check mle_retvals\n",
      "  warnings.warn(\"Maximum Likelihood optimization failed to \"\n",
      "c:\\Users\\Luis\\Documents\\DevProjects\\esptfa-arima\\esptfa-arima-venv\\lib\\site-packages\\statsmodels\\tsa\\base\\tsa_model.py:473: ValueWarning: No frequency information was provided, so inferred frequency W-SUN will be used.\n",
      "  self._init_dates(dates, freq)\n",
      "c:\\Users\\Luis\\Documents\\DevProjects\\esptfa-arima\\esptfa-arima-venv\\lib\\site-packages\\statsmodels\\tsa\\base\\tsa_model.py:473: ValueWarning: No frequency information was provided, so inferred frequency W-SUN will be used.\n",
      "  self._init_dates(dates, freq)\n",
      "C:\\Users\\Luis\\AppData\\Local\\Temp\\ipykernel_4056\\2541929839.py:4: FutureWarning: Series.__getitem__ treating keys as positions is deprecated. In a future version, integer keys will always be treated as labels (consistent with DataFrame behavior). To access a value by position, use `ser.iloc[pos]`\n",
      "  arima_pred = arima_model.forecast(steps=1)[0]\n"
     ]
    },
    {
     "name": "stdout",
     "output_type": "stream",
     "text": [
      "\u001b[1m1/1\u001b[0m \u001b[32m━━━━━━━━━━━━━━━━━━━━\u001b[0m\u001b[37m\u001b[0m \u001b[1m0s\u001b[0m 35ms/step\n",
      "\u001b[1m1/1\u001b[0m \u001b[32m━━━━━━━━━━━━━━━━━━━━\u001b[0m\u001b[37m\u001b[0m \u001b[1m0s\u001b[0m 34ms/step\n"
     ]
    },
    {
     "name": "stderr",
     "output_type": "stream",
     "text": [
      "c:\\Users\\Luis\\Documents\\DevProjects\\esptfa-arima\\esptfa-arima-venv\\lib\\site-packages\\statsmodels\\tsa\\base\\tsa_model.py:473: ValueWarning: No frequency information was provided, so inferred frequency W-SUN will be used.\n",
      "  self._init_dates(dates, freq)\n",
      "c:\\Users\\Luis\\Documents\\DevProjects\\esptfa-arima\\esptfa-arima-venv\\lib\\site-packages\\statsmodels\\tsa\\base\\tsa_model.py:473: ValueWarning: No frequency information was provided, so inferred frequency W-SUN will be used.\n",
      "  self._init_dates(dates, freq)\n",
      "c:\\Users\\Luis\\Documents\\DevProjects\\esptfa-arima\\esptfa-arima-venv\\lib\\site-packages\\statsmodels\\tsa\\statespace\\sarimax.py:978: UserWarning: Non-invertible starting MA parameters found. Using zeros as starting parameters.\n",
      "  warn('Non-invertible starting MA parameters found.'\n",
      "c:\\Users\\Luis\\Documents\\DevProjects\\esptfa-arima\\esptfa-arima-venv\\lib\\site-packages\\statsmodels\\tsa\\base\\tsa_model.py:473: ValueWarning: No frequency information was provided, so inferred frequency W-SUN will be used.\n",
      "  self._init_dates(dates, freq)\n",
      "c:\\Users\\Luis\\Documents\\DevProjects\\esptfa-arima\\esptfa-arima-venv\\lib\\site-packages\\statsmodels\\tsa\\base\\tsa_model.py:473: ValueWarning: No frequency information was provided, so inferred frequency W-SUN will be used.\n",
      "  self._init_dates(dates, freq)\n",
      "C:\\Users\\Luis\\AppData\\Local\\Temp\\ipykernel_4056\\2541929839.py:4: FutureWarning: Series.__getitem__ treating keys as positions is deprecated. In a future version, integer keys will always be treated as labels (consistent with DataFrame behavior). To access a value by position, use `ser.iloc[pos]`\n",
      "  arima_pred = arima_model.forecast(steps=1)[0]\n"
     ]
    },
    {
     "name": "stdout",
     "output_type": "stream",
     "text": [
      "\u001b[1m1/1\u001b[0m \u001b[32m━━━━━━━━━━━━━━━━━━━━\u001b[0m\u001b[37m\u001b[0m \u001b[1m0s\u001b[0m 28ms/step\n"
     ]
    },
    {
     "name": "stderr",
     "output_type": "stream",
     "text": [
      "c:\\Users\\Luis\\Documents\\DevProjects\\esptfa-arima\\esptfa-arima-venv\\lib\\site-packages\\statsmodels\\tsa\\base\\tsa_model.py:473: ValueWarning: No frequency information was provided, so inferred frequency W-SUN will be used.\n",
      "  self._init_dates(dates, freq)\n",
      "c:\\Users\\Luis\\Documents\\DevProjects\\esptfa-arima\\esptfa-arima-venv\\lib\\site-packages\\statsmodels\\tsa\\base\\tsa_model.py:473: ValueWarning: No frequency information was provided, so inferred frequency W-SUN will be used.\n",
      "  self._init_dates(dates, freq)\n",
      "c:\\Users\\Luis\\Documents\\DevProjects\\esptfa-arima\\esptfa-arima-venv\\lib\\site-packages\\statsmodels\\tsa\\base\\tsa_model.py:473: ValueWarning: No frequency information was provided, so inferred frequency W-SUN will be used.\n",
      "  self._init_dates(dates, freq)\n",
      "c:\\Users\\Luis\\Documents\\DevProjects\\esptfa-arima\\esptfa-arima-venv\\lib\\site-packages\\statsmodels\\tsa\\base\\tsa_model.py:473: ValueWarning: No frequency information was provided, so inferred frequency W-SUN will be used.\n",
      "  self._init_dates(dates, freq)\n",
      "c:\\Users\\Luis\\Documents\\DevProjects\\esptfa-arima\\esptfa-arima-venv\\lib\\site-packages\\statsmodels\\tsa\\statespace\\sarimax.py:966: UserWarning: Non-stationary starting autoregressive parameters found. Using zeros as starting parameters.\n",
      "  warn('Non-stationary starting autoregressive parameters'\n",
      "C:\\Users\\Luis\\AppData\\Local\\Temp\\ipykernel_4056\\2541929839.py:4: FutureWarning: Series.__getitem__ treating keys as positions is deprecated. In a future version, integer keys will always be treated as labels (consistent with DataFrame behavior). To access a value by position, use `ser.iloc[pos]`\n",
      "  arima_pred = arima_model.forecast(steps=1)[0]\n"
     ]
    },
    {
     "name": "stdout",
     "output_type": "stream",
     "text": [
      "\u001b[1m1/1\u001b[0m \u001b[32m━━━━━━━━━━━━━━━━━━━━\u001b[0m\u001b[37m\u001b[0m \u001b[1m0s\u001b[0m 29ms/step\n"
     ]
    },
    {
     "name": "stderr",
     "output_type": "stream",
     "text": [
      "c:\\Users\\Luis\\Documents\\DevProjects\\esptfa-arima\\esptfa-arima-venv\\lib\\site-packages\\statsmodels\\tsa\\base\\tsa_model.py:473: ValueWarning: No frequency information was provided, so inferred frequency W-SUN will be used.\n",
      "  self._init_dates(dates, freq)\n",
      "c:\\Users\\Luis\\Documents\\DevProjects\\esptfa-arima\\esptfa-arima-venv\\lib\\site-packages\\statsmodels\\tsa\\base\\tsa_model.py:473: ValueWarning: No frequency information was provided, so inferred frequency W-SUN will be used.\n",
      "  self._init_dates(dates, freq)\n",
      "c:\\Users\\Luis\\Documents\\DevProjects\\esptfa-arima\\esptfa-arima-venv\\lib\\site-packages\\statsmodels\\tsa\\base\\tsa_model.py:473: ValueWarning: No frequency information was provided, so inferred frequency W-SUN will be used.\n",
      "  self._init_dates(dates, freq)\n",
      "c:\\Users\\Luis\\Documents\\DevProjects\\esptfa-arima\\esptfa-arima-venv\\lib\\site-packages\\statsmodels\\tsa\\base\\tsa_model.py:473: ValueWarning: No frequency information was provided, so inferred frequency W-SUN will be used.\n",
      "  self._init_dates(dates, freq)\n",
      "C:\\Users\\Luis\\AppData\\Local\\Temp\\ipykernel_4056\\2541929839.py:4: FutureWarning: Series.__getitem__ treating keys as positions is deprecated. In a future version, integer keys will always be treated as labels (consistent with DataFrame behavior). To access a value by position, use `ser.iloc[pos]`\n",
      "  arima_pred = arima_model.forecast(steps=1)[0]\n",
      "c:\\Users\\Luis\\Documents\\DevProjects\\esptfa-arima\\esptfa-arima-venv\\lib\\site-packages\\statsmodels\\tsa\\base\\tsa_model.py:473: ValueWarning: No frequency information was provided, so inferred frequency W-SUN will be used.\n",
      "  self._init_dates(dates, freq)\n",
      "c:\\Users\\Luis\\Documents\\DevProjects\\esptfa-arima\\esptfa-arima-venv\\lib\\site-packages\\statsmodels\\tsa\\base\\tsa_model.py:473: ValueWarning: No frequency information was provided, so inferred frequency W-SUN will be used.\n",
      "  self._init_dates(dates, freq)\n"
     ]
    },
    {
     "name": "stdout",
     "output_type": "stream",
     "text": [
      "\u001b[1m1/1\u001b[0m \u001b[32m━━━━━━━━━━━━━━━━━━━━\u001b[0m\u001b[37m\u001b[0m \u001b[1m0s\u001b[0m 32ms/step\n"
     ]
    },
    {
     "name": "stderr",
     "output_type": "stream",
     "text": [
      "c:\\Users\\Luis\\Documents\\DevProjects\\esptfa-arima\\esptfa-arima-venv\\lib\\site-packages\\statsmodels\\base\\model.py:607: ConvergenceWarning: Maximum Likelihood optimization failed to converge. Check mle_retvals\n",
      "  warnings.warn(\"Maximum Likelihood optimization failed to \"\n",
      "c:\\Users\\Luis\\Documents\\DevProjects\\esptfa-arima\\esptfa-arima-venv\\lib\\site-packages\\statsmodels\\tsa\\base\\tsa_model.py:473: ValueWarning: No frequency information was provided, so inferred frequency W-SUN will be used.\n",
      "  self._init_dates(dates, freq)\n",
      "c:\\Users\\Luis\\Documents\\DevProjects\\esptfa-arima\\esptfa-arima-venv\\lib\\site-packages\\statsmodels\\tsa\\base\\tsa_model.py:473: ValueWarning: No frequency information was provided, so inferred frequency W-SUN will be used.\n",
      "  self._init_dates(dates, freq)\n",
      "C:\\Users\\Luis\\AppData\\Local\\Temp\\ipykernel_4056\\2541929839.py:4: FutureWarning: Series.__getitem__ treating keys as positions is deprecated. In a future version, integer keys will always be treated as labels (consistent with DataFrame behavior). To access a value by position, use `ser.iloc[pos]`\n",
      "  arima_pred = arima_model.forecast(steps=1)[0]\n",
      "c:\\Users\\Luis\\Documents\\DevProjects\\esptfa-arima\\esptfa-arima-venv\\lib\\site-packages\\statsmodels\\tsa\\base\\tsa_model.py:473: ValueWarning: No frequency information was provided, so inferred frequency W-SUN will be used.\n",
      "  self._init_dates(dates, freq)\n",
      "c:\\Users\\Luis\\Documents\\DevProjects\\esptfa-arima\\esptfa-arima-venv\\lib\\site-packages\\statsmodels\\base\\model.py:607: ConvergenceWarning: Maximum Likelihood optimization failed to converge. Check mle_retvals\n",
      "  warnings.warn(\"Maximum Likelihood optimization failed to \"\n",
      "c:\\Users\\Luis\\Documents\\DevProjects\\esptfa-arima\\esptfa-arima-venv\\lib\\site-packages\\statsmodels\\tsa\\base\\tsa_model.py:473: ValueWarning: No frequency information was provided, so inferred frequency W-SUN will be used.\n",
      "  self._init_dates(dates, freq)\n",
      "c:\\Users\\Luis\\Documents\\DevProjects\\esptfa-arima\\esptfa-arima-venv\\lib\\site-packages\\statsmodels\\tsa\\statespace\\sarimax.py:978: UserWarning: Non-invertible starting MA parameters found. Using zeros as starting parameters.\n",
      "  warn('Non-invertible starting MA parameters found.'\n",
      "c:\\Users\\Luis\\Documents\\DevProjects\\esptfa-arima\\esptfa-arima-venv\\lib\\site-packages\\statsmodels\\tsa\\base\\tsa_model.py:473: ValueWarning: No frequency information was provided, so inferred frequency W-SUN will be used.\n",
      "  self._init_dates(dates, freq)\n",
      "c:\\Users\\Luis\\Documents\\DevProjects\\esptfa-arima\\esptfa-arima-venv\\lib\\site-packages\\statsmodels\\tsa\\base\\tsa_model.py:473: ValueWarning: No frequency information was provided, so inferred frequency W-SUN will be used.\n",
      "  self._init_dates(dates, freq)\n"
     ]
    },
    {
     "name": "stdout",
     "output_type": "stream",
     "text": [
      "\u001b[1m1/1\u001b[0m \u001b[32m━━━━━━━━━━━━━━━━━━━━\u001b[0m\u001b[37m\u001b[0m \u001b[1m0s\u001b[0m 28ms/step\n"
     ]
    },
    {
     "name": "stderr",
     "output_type": "stream",
     "text": [
      "C:\\Users\\Luis\\AppData\\Local\\Temp\\ipykernel_4056\\2541929839.py:4: FutureWarning: Series.__getitem__ treating keys as positions is deprecated. In a future version, integer keys will always be treated as labels (consistent with DataFrame behavior). To access a value by position, use `ser.iloc[pos]`\n",
      "  arima_pred = arima_model.forecast(steps=1)[0]\n",
      "c:\\Users\\Luis\\Documents\\DevProjects\\esptfa-arima\\esptfa-arima-venv\\lib\\site-packages\\statsmodels\\tsa\\base\\tsa_model.py:473: ValueWarning: No frequency information was provided, so inferred frequency W-SUN will be used.\n",
      "  self._init_dates(dates, freq)\n",
      "c:\\Users\\Luis\\Documents\\DevProjects\\esptfa-arima\\esptfa-arima-venv\\lib\\site-packages\\statsmodels\\tsa\\base\\tsa_model.py:473: ValueWarning: No frequency information was provided, so inferred frequency W-SUN will be used.\n",
      "  self._init_dates(dates, freq)\n",
      "c:\\Users\\Luis\\Documents\\DevProjects\\esptfa-arima\\esptfa-arima-venv\\lib\\site-packages\\statsmodels\\tsa\\base\\tsa_model.py:473: ValueWarning: No frequency information was provided, so inferred frequency W-SUN will be used.\n",
      "  self._init_dates(dates, freq)\n",
      "c:\\Users\\Luis\\Documents\\DevProjects\\esptfa-arima\\esptfa-arima-venv\\lib\\site-packages\\statsmodels\\tsa\\base\\tsa_model.py:473: ValueWarning: No frequency information was provided, so inferred frequency W-SUN will be used.\n",
      "  self._init_dates(dates, freq)\n"
     ]
    },
    {
     "name": "stdout",
     "output_type": "stream",
     "text": [
      "\u001b[1m1/1\u001b[0m \u001b[32m━━━━━━━━━━━━━━━━━━━━\u001b[0m\u001b[37m\u001b[0m \u001b[1m0s\u001b[0m 32ms/step\n"
     ]
    },
    {
     "name": "stderr",
     "output_type": "stream",
     "text": [
      "c:\\Users\\Luis\\Documents\\DevProjects\\esptfa-arima\\esptfa-arima-venv\\lib\\site-packages\\statsmodels\\base\\model.py:607: ConvergenceWarning: Maximum Likelihood optimization failed to converge. Check mle_retvals\n",
      "  warnings.warn(\"Maximum Likelihood optimization failed to \"\n",
      "C:\\Users\\Luis\\AppData\\Local\\Temp\\ipykernel_4056\\2541929839.py:4: FutureWarning: Series.__getitem__ treating keys as positions is deprecated. In a future version, integer keys will always be treated as labels (consistent with DataFrame behavior). To access a value by position, use `ser.iloc[pos]`\n",
      "  arima_pred = arima_model.forecast(steps=1)[0]\n",
      "c:\\Users\\Luis\\Documents\\DevProjects\\esptfa-arima\\esptfa-arima-venv\\lib\\site-packages\\statsmodels\\tsa\\base\\tsa_model.py:473: ValueWarning: No frequency information was provided, so inferred frequency W-SUN will be used.\n",
      "  self._init_dates(dates, freq)\n",
      "c:\\Users\\Luis\\Documents\\DevProjects\\esptfa-arima\\esptfa-arima-venv\\lib\\site-packages\\statsmodels\\tsa\\base\\tsa_model.py:473: ValueWarning: No frequency information was provided, so inferred frequency W-SUN will be used.\n",
      "  self._init_dates(dates, freq)\n",
      "c:\\Users\\Luis\\Documents\\DevProjects\\esptfa-arima\\esptfa-arima-venv\\lib\\site-packages\\statsmodels\\tsa\\base\\tsa_model.py:473: ValueWarning: No frequency information was provided, so inferred frequency W-SUN will be used.\n",
      "  self._init_dates(dates, freq)\n",
      "c:\\Users\\Luis\\Documents\\DevProjects\\esptfa-arima\\esptfa-arima-venv\\lib\\site-packages\\statsmodels\\tsa\\base\\tsa_model.py:473: ValueWarning: No frequency information was provided, so inferred frequency W-SUN will be used.\n",
      "  self._init_dates(dates, freq)\n",
      "c:\\Users\\Luis\\Documents\\DevProjects\\esptfa-arima\\esptfa-arima-venv\\lib\\site-packages\\statsmodels\\tsa\\statespace\\sarimax.py:978: UserWarning: Non-invertible starting MA parameters found. Using zeros as starting parameters.\n",
      "  warn('Non-invertible starting MA parameters found.'\n",
      "C:\\Users\\Luis\\AppData\\Local\\Temp\\ipykernel_4056\\2541929839.py:4: FutureWarning: Series.__getitem__ treating keys as positions is deprecated. In a future version, integer keys will always be treated as labels (consistent with DataFrame behavior). To access a value by position, use `ser.iloc[pos]`\n",
      "  arima_pred = arima_model.forecast(steps=1)[0]\n"
     ]
    },
    {
     "name": "stdout",
     "output_type": "stream",
     "text": [
      "\u001b[1m1/1\u001b[0m \u001b[32m━━━━━━━━━━━━━━━━━━━━\u001b[0m\u001b[37m\u001b[0m \u001b[1m0s\u001b[0m 38ms/step\n",
      "\u001b[1m1/1\u001b[0m \u001b[32m━━━━━━━━━━━━━━━━━━━━\u001b[0m\u001b[37m\u001b[0m \u001b[1m0s\u001b[0m 26ms/step\n"
     ]
    },
    {
     "name": "stderr",
     "output_type": "stream",
     "text": [
      "c:\\Users\\Luis\\Documents\\DevProjects\\esptfa-arima\\esptfa-arima-venv\\lib\\site-packages\\statsmodels\\tsa\\base\\tsa_model.py:473: ValueWarning: No frequency information was provided, so inferred frequency W-SUN will be used.\n",
      "  self._init_dates(dates, freq)\n",
      "c:\\Users\\Luis\\Documents\\DevProjects\\esptfa-arima\\esptfa-arima-venv\\lib\\site-packages\\statsmodels\\tsa\\base\\tsa_model.py:473: ValueWarning: No frequency information was provided, so inferred frequency W-SUN will be used.\n",
      "  self._init_dates(dates, freq)\n",
      "c:\\Users\\Luis\\Documents\\DevProjects\\esptfa-arima\\esptfa-arima-venv\\lib\\site-packages\\statsmodels\\tsa\\base\\tsa_model.py:473: ValueWarning: No frequency information was provided, so inferred frequency W-SUN will be used.\n",
      "  self._init_dates(dates, freq)\n",
      "c:\\Users\\Luis\\Documents\\DevProjects\\esptfa-arima\\esptfa-arima-venv\\lib\\site-packages\\statsmodels\\tsa\\base\\tsa_model.py:473: ValueWarning: No frequency information was provided, so inferred frequency W-SUN will be used.\n",
      "  self._init_dates(dates, freq)\n",
      "C:\\Users\\Luis\\AppData\\Local\\Temp\\ipykernel_4056\\2541929839.py:4: FutureWarning: Series.__getitem__ treating keys as positions is deprecated. In a future version, integer keys will always be treated as labels (consistent with DataFrame behavior). To access a value by position, use `ser.iloc[pos]`\n",
      "  arima_pred = arima_model.forecast(steps=1)[0]\n",
      "c:\\Users\\Luis\\Documents\\DevProjects\\esptfa-arima\\esptfa-arima-venv\\lib\\site-packages\\statsmodels\\tsa\\base\\tsa_model.py:473: ValueWarning: No frequency information was provided, so inferred frequency W-SUN will be used.\n",
      "  self._init_dates(dates, freq)\n",
      "c:\\Users\\Luis\\Documents\\DevProjects\\esptfa-arima\\esptfa-arima-venv\\lib\\site-packages\\statsmodels\\base\\model.py:607: ConvergenceWarning: Maximum Likelihood optimization failed to converge. Check mle_retvals\n",
      "  warnings.warn(\"Maximum Likelihood optimization failed to \"\n",
      "c:\\Users\\Luis\\Documents\\DevProjects\\esptfa-arima\\esptfa-arima-venv\\lib\\site-packages\\statsmodels\\tsa\\base\\tsa_model.py:473: ValueWarning: No frequency information was provided, so inferred frequency W-SUN will be used.\n",
      "  self._init_dates(dates, freq)\n"
     ]
    },
    {
     "name": "stdout",
     "output_type": "stream",
     "text": [
      "\u001b[1m1/1\u001b[0m \u001b[32m━━━━━━━━━━━━━━━━━━━━\u001b[0m\u001b[37m\u001b[0m \u001b[1m0s\u001b[0m 43ms/step\n"
     ]
    },
    {
     "name": "stderr",
     "output_type": "stream",
     "text": [
      "c:\\Users\\Luis\\Documents\\DevProjects\\esptfa-arima\\esptfa-arima-venv\\lib\\site-packages\\statsmodels\\tsa\\base\\tsa_model.py:473: ValueWarning: No frequency information was provided, so inferred frequency W-SUN will be used.\n",
      "  self._init_dates(dates, freq)\n",
      "c:\\Users\\Luis\\Documents\\DevProjects\\esptfa-arima\\esptfa-arima-venv\\lib\\site-packages\\statsmodels\\tsa\\base\\tsa_model.py:473: ValueWarning: No frequency information was provided, so inferred frequency W-SUN will be used.\n",
      "  self._init_dates(dates, freq)\n",
      "C:\\Users\\Luis\\AppData\\Local\\Temp\\ipykernel_4056\\2541929839.py:4: FutureWarning: Series.__getitem__ treating keys as positions is deprecated. In a future version, integer keys will always be treated as labels (consistent with DataFrame behavior). To access a value by position, use `ser.iloc[pos]`\n",
      "  arima_pred = arima_model.forecast(steps=1)[0]\n",
      "c:\\Users\\Luis\\Documents\\DevProjects\\esptfa-arima\\esptfa-arima-venv\\lib\\site-packages\\statsmodels\\tsa\\base\\tsa_model.py:473: ValueWarning: No frequency information was provided, so inferred frequency W-SUN will be used.\n",
      "  self._init_dates(dates, freq)\n",
      "c:\\Users\\Luis\\Documents\\DevProjects\\esptfa-arima\\esptfa-arima-venv\\lib\\site-packages\\statsmodels\\tsa\\base\\tsa_model.py:473: ValueWarning: No frequency information was provided, so inferred frequency W-SUN will be used.\n",
      "  self._init_dates(dates, freq)\n"
     ]
    },
    {
     "name": "stdout",
     "output_type": "stream",
     "text": [
      "\u001b[1m1/1\u001b[0m \u001b[32m━━━━━━━━━━━━━━━━━━━━\u001b[0m\u001b[37m\u001b[0m \u001b[1m0s\u001b[0m 38ms/step\n"
     ]
    },
    {
     "name": "stderr",
     "output_type": "stream",
     "text": [
      "c:\\Users\\Luis\\Documents\\DevProjects\\esptfa-arima\\esptfa-arima-venv\\lib\\site-packages\\statsmodels\\tsa\\base\\tsa_model.py:473: ValueWarning: No frequency information was provided, so inferred frequency W-SUN will be used.\n",
      "  self._init_dates(dates, freq)\n",
      "c:\\Users\\Luis\\Documents\\DevProjects\\esptfa-arima\\esptfa-arima-venv\\lib\\site-packages\\statsmodels\\tsa\\base\\tsa_model.py:473: ValueWarning: No frequency information was provided, so inferred frequency W-SUN will be used.\n",
      "  self._init_dates(dates, freq)\n",
      "C:\\Users\\Luis\\AppData\\Local\\Temp\\ipykernel_4056\\2541929839.py:4: FutureWarning: Series.__getitem__ treating keys as positions is deprecated. In a future version, integer keys will always be treated as labels (consistent with DataFrame behavior). To access a value by position, use `ser.iloc[pos]`\n",
      "  arima_pred = arima_model.forecast(steps=1)[0]\n",
      "c:\\Users\\Luis\\Documents\\DevProjects\\esptfa-arima\\esptfa-arima-venv\\lib\\site-packages\\statsmodels\\tsa\\base\\tsa_model.py:473: ValueWarning: No frequency information was provided, so inferred frequency W-SUN will be used.\n",
      "  self._init_dates(dates, freq)\n",
      "c:\\Users\\Luis\\Documents\\DevProjects\\esptfa-arima\\esptfa-arima-venv\\lib\\site-packages\\statsmodels\\tsa\\base\\tsa_model.py:473: ValueWarning: No frequency information was provided, so inferred frequency W-SUN will be used.\n",
      "  self._init_dates(dates, freq)\n",
      "c:\\Users\\Luis\\Documents\\DevProjects\\esptfa-arima\\esptfa-arima-venv\\lib\\site-packages\\statsmodels\\tsa\\base\\tsa_model.py:473: ValueWarning: No frequency information was provided, so inferred frequency W-SUN will be used.\n",
      "  self._init_dates(dates, freq)\n",
      "c:\\Users\\Luis\\Documents\\DevProjects\\esptfa-arima\\esptfa-arima-venv\\lib\\site-packages\\statsmodels\\tsa\\base\\tsa_model.py:473: ValueWarning: No frequency information was provided, so inferred frequency W-SUN will be used.\n",
      "  self._init_dates(dates, freq)\n",
      "C:\\Users\\Luis\\AppData\\Local\\Temp\\ipykernel_4056\\2541929839.py:4: FutureWarning: Series.__getitem__ treating keys as positions is deprecated. In a future version, integer keys will always be treated as labels (consistent with DataFrame behavior). To access a value by position, use `ser.iloc[pos]`\n",
      "  arima_pred = arima_model.forecast(steps=1)[0]\n"
     ]
    },
    {
     "name": "stdout",
     "output_type": "stream",
     "text": [
      "\u001b[1m1/1\u001b[0m \u001b[32m━━━━━━━━━━━━━━━━━━━━\u001b[0m\u001b[37m\u001b[0m \u001b[1m0s\u001b[0m 36ms/step\n",
      "\u001b[1m1/1\u001b[0m \u001b[32m━━━━━━━━━━━━━━━━━━━━\u001b[0m\u001b[37m\u001b[0m \u001b[1m0s\u001b[0m 20ms/step"
     ]
    },
    {
     "name": "stderr",
     "output_type": "stream",
     "text": [
      "c:\\Users\\Luis\\Documents\\DevProjects\\esptfa-arima\\esptfa-arima-venv\\lib\\site-packages\\statsmodels\\tsa\\base\\tsa_model.py:473: ValueWarning: No frequency information was provided, so inferred frequency W-SUN will be used.\n",
      "  self._init_dates(dates, freq)\n",
      "c:\\Users\\Luis\\Documents\\DevProjects\\esptfa-arima\\esptfa-arima-venv\\lib\\site-packages\\statsmodels\\tsa\\base\\tsa_model.py:473: ValueWarning: No frequency information was provided, so inferred frequency W-SUN will be used.\n",
      "  self._init_dates(dates, freq)\n",
      "c:\\Users\\Luis\\Documents\\DevProjects\\esptfa-arima\\esptfa-arima-venv\\lib\\site-packages\\statsmodels\\tsa\\base\\tsa_model.py:473: ValueWarning: No frequency information was provided, so inferred frequency W-SUN will be used.\n",
      "  self._init_dates(dates, freq)\n",
      "c:\\Users\\Luis\\Documents\\DevProjects\\esptfa-arima\\esptfa-arima-venv\\lib\\site-packages\\statsmodels\\tsa\\base\\tsa_model.py:473: ValueWarning: No frequency information was provided, so inferred frequency W-SUN will be used.\n",
      "  self._init_dates(dates, freq)\n",
      "C:\\Users\\Luis\\AppData\\Local\\Temp\\ipykernel_4056\\2541929839.py:4: FutureWarning: Series.__getitem__ treating keys as positions is deprecated. In a future version, integer keys will always be treated as labels (consistent with DataFrame behavior). To access a value by position, use `ser.iloc[pos]`\n",
      "  arima_pred = arima_model.forecast(steps=1)[0]\n"
     ]
    },
    {
     "name": "stdout",
     "output_type": "stream",
     "text": [
      "\u001b[1m1/1\u001b[0m \u001b[32m━━━━━━━━━━━━━━━━━━━━\u001b[0m\u001b[37m\u001b[0m \u001b[1m0s\u001b[0m 36ms/step\n"
     ]
    },
    {
     "name": "stderr",
     "output_type": "stream",
     "text": [
      "c:\\Users\\Luis\\Documents\\DevProjects\\esptfa-arima\\esptfa-arima-venv\\lib\\site-packages\\statsmodels\\tsa\\base\\tsa_model.py:473: ValueWarning: No frequency information was provided, so inferred frequency W-SUN will be used.\n",
      "  self._init_dates(dates, freq)\n",
      "c:\\Users\\Luis\\Documents\\DevProjects\\esptfa-arima\\esptfa-arima-venv\\lib\\site-packages\\statsmodels\\tsa\\base\\tsa_model.py:473: ValueWarning: No frequency information was provided, so inferred frequency W-SUN will be used.\n",
      "  self._init_dates(dates, freq)\n",
      "c:\\Users\\Luis\\Documents\\DevProjects\\esptfa-arima\\esptfa-arima-venv\\lib\\site-packages\\statsmodels\\tsa\\base\\tsa_model.py:473: ValueWarning: No frequency information was provided, so inferred frequency W-SUN will be used.\n",
      "  self._init_dates(dates, freq)\n",
      "c:\\Users\\Luis\\Documents\\DevProjects\\esptfa-arima\\esptfa-arima-venv\\lib\\site-packages\\statsmodels\\tsa\\base\\tsa_model.py:473: ValueWarning: No frequency information was provided, so inferred frequency W-SUN will be used.\n",
      "  self._init_dates(dates, freq)\n"
     ]
    },
    {
     "name": "stdout",
     "output_type": "stream",
     "text": [
      "\u001b[1m1/1\u001b[0m \u001b[32m━━━━━━━━━━━━━━━━━━━━\u001b[0m\u001b[37m\u001b[0m \u001b[1m0s\u001b[0m 32ms/step\n"
     ]
    },
    {
     "name": "stderr",
     "output_type": "stream",
     "text": [
      "C:\\Users\\Luis\\AppData\\Local\\Temp\\ipykernel_4056\\2541929839.py:4: FutureWarning: Series.__getitem__ treating keys as positions is deprecated. In a future version, integer keys will always be treated as labels (consistent with DataFrame behavior). To access a value by position, use `ser.iloc[pos]`\n",
      "  arima_pred = arima_model.forecast(steps=1)[0]\n",
      "c:\\Users\\Luis\\Documents\\DevProjects\\esptfa-arima\\esptfa-arima-venv\\lib\\site-packages\\statsmodels\\tsa\\base\\tsa_model.py:473: ValueWarning: No frequency information was provided, so inferred frequency W-SUN will be used.\n",
      "  self._init_dates(dates, freq)\n",
      "c:\\Users\\Luis\\Documents\\DevProjects\\esptfa-arima\\esptfa-arima-venv\\lib\\site-packages\\statsmodels\\tsa\\base\\tsa_model.py:473: ValueWarning: No frequency information was provided, so inferred frequency W-SUN will be used.\n",
      "  self._init_dates(dates, freq)\n",
      "c:\\Users\\Luis\\Documents\\DevProjects\\esptfa-arima\\esptfa-arima-venv\\lib\\site-packages\\statsmodels\\tsa\\base\\tsa_model.py:473: ValueWarning: No frequency information was provided, so inferred frequency W-SUN will be used.\n",
      "  self._init_dates(dates, freq)\n",
      "c:\\Users\\Luis\\Documents\\DevProjects\\esptfa-arima\\esptfa-arima-venv\\lib\\site-packages\\statsmodels\\tsa\\base\\tsa_model.py:473: ValueWarning: No frequency information was provided, so inferred frequency W-SUN will be used.\n",
      "  self._init_dates(dates, freq)\n",
      "C:\\Users\\Luis\\AppData\\Local\\Temp\\ipykernel_4056\\2541929839.py:4: FutureWarning: Series.__getitem__ treating keys as positions is deprecated. In a future version, integer keys will always be treated as labels (consistent with DataFrame behavior). To access a value by position, use `ser.iloc[pos]`\n",
      "  arima_pred = arima_model.forecast(steps=1)[0]\n"
     ]
    },
    {
     "name": "stdout",
     "output_type": "stream",
     "text": [
      "\u001b[1m1/1\u001b[0m \u001b[32m━━━━━━━━━━━━━━━━━━━━\u001b[0m\u001b[37m\u001b[0m \u001b[1m0s\u001b[0m 48ms/step\n",
      "\u001b[1m1/1\u001b[0m \u001b[32m━━━━━━━━━━━━━━━━━━━━\u001b[0m\u001b[37m\u001b[0m \u001b[1m0s\u001b[0m 19ms/step"
     ]
    },
    {
     "name": "stderr",
     "output_type": "stream",
     "text": [
      "c:\\Users\\Luis\\Documents\\DevProjects\\esptfa-arima\\esptfa-arima-venv\\lib\\site-packages\\statsmodels\\tsa\\base\\tsa_model.py:473: ValueWarning: No frequency information was provided, so inferred frequency W-SUN will be used.\n",
      "  self._init_dates(dates, freq)\n",
      "c:\\Users\\Luis\\Documents\\DevProjects\\esptfa-arima\\esptfa-arima-venv\\lib\\site-packages\\statsmodels\\tsa\\base\\tsa_model.py:473: ValueWarning: No frequency information was provided, so inferred frequency W-SUN will be used.\n",
      "  self._init_dates(dates, freq)\n",
      "c:\\Users\\Luis\\Documents\\DevProjects\\esptfa-arima\\esptfa-arima-venv\\lib\\site-packages\\statsmodels\\tsa\\base\\tsa_model.py:473: ValueWarning: No frequency information was provided, so inferred frequency W-SUN will be used.\n",
      "  self._init_dates(dates, freq)\n",
      "c:\\Users\\Luis\\Documents\\DevProjects\\esptfa-arima\\esptfa-arima-venv\\lib\\site-packages\\statsmodels\\tsa\\base\\tsa_model.py:473: ValueWarning: No frequency information was provided, so inferred frequency W-SUN will be used.\n",
      "  self._init_dates(dates, freq)\n",
      "C:\\Users\\Luis\\AppData\\Local\\Temp\\ipykernel_4056\\2541929839.py:4: FutureWarning: Series.__getitem__ treating keys as positions is deprecated. In a future version, integer keys will always be treated as labels (consistent with DataFrame behavior). To access a value by position, use `ser.iloc[pos]`\n",
      "  arima_pred = arima_model.forecast(steps=1)[0]\n"
     ]
    },
    {
     "name": "stdout",
     "output_type": "stream",
     "text": [
      "\u001b[1m1/1\u001b[0m \u001b[32m━━━━━━━━━━━━━━━━━━━━\u001b[0m\u001b[37m\u001b[0m \u001b[1m0s\u001b[0m 37ms/step\n",
      "\u001b[1m1/1\u001b[0m \u001b[32m━━━━━━━━━━━━━━━━━━━━\u001b[0m\u001b[37m\u001b[0m \u001b[1m0s\u001b[0m 24ms/step"
     ]
    },
    {
     "name": "stderr",
     "output_type": "stream",
     "text": [
      "c:\\Users\\Luis\\Documents\\DevProjects\\esptfa-arima\\esptfa-arima-venv\\lib\\site-packages\\statsmodels\\tsa\\base\\tsa_model.py:473: ValueWarning: No frequency information was provided, so inferred frequency W-SUN will be used.\n",
      "  self._init_dates(dates, freq)\n",
      "c:\\Users\\Luis\\Documents\\DevProjects\\esptfa-arima\\esptfa-arima-venv\\lib\\site-packages\\statsmodels\\tsa\\base\\tsa_model.py:473: ValueWarning: No frequency information was provided, so inferred frequency W-SUN will be used.\n",
      "  self._init_dates(dates, freq)\n",
      "c:\\Users\\Luis\\Documents\\DevProjects\\esptfa-arima\\esptfa-arima-venv\\lib\\site-packages\\statsmodels\\tsa\\base\\tsa_model.py:473: ValueWarning: No frequency information was provided, so inferred frequency W-SUN will be used.\n",
      "  self._init_dates(dates, freq)\n",
      "c:\\Users\\Luis\\Documents\\DevProjects\\esptfa-arima\\esptfa-arima-venv\\lib\\site-packages\\statsmodels\\tsa\\base\\tsa_model.py:473: ValueWarning: No frequency information was provided, so inferred frequency W-SUN will be used.\n",
      "  self._init_dates(dates, freq)\n",
      "C:\\Users\\Luis\\AppData\\Local\\Temp\\ipykernel_4056\\2541929839.py:4: FutureWarning: Series.__getitem__ treating keys as positions is deprecated. In a future version, integer keys will always be treated as labels (consistent with DataFrame behavior). To access a value by position, use `ser.iloc[pos]`\n",
      "  arima_pred = arima_model.forecast(steps=1)[0]\n"
     ]
    },
    {
     "name": "stdout",
     "output_type": "stream",
     "text": [
      "\u001b[1m1/1\u001b[0m \u001b[32m━━━━━━━━━━━━━━━━━━━━\u001b[0m\u001b[37m\u001b[0m \u001b[1m0s\u001b[0m 42ms/step\n",
      "\u001b[1m1/1\u001b[0m \u001b[32m━━━━━━━━━━━━━━━━━━━━\u001b[0m\u001b[37m\u001b[0m \u001b[1m0s\u001b[0m 19ms/step"
     ]
    },
    {
     "name": "stderr",
     "output_type": "stream",
     "text": [
      "c:\\Users\\Luis\\Documents\\DevProjects\\esptfa-arima\\esptfa-arima-venv\\lib\\site-packages\\statsmodels\\tsa\\base\\tsa_model.py:473: ValueWarning: No frequency information was provided, so inferred frequency W-SUN will be used.\n",
      "  self._init_dates(dates, freq)\n",
      "c:\\Users\\Luis\\Documents\\DevProjects\\esptfa-arima\\esptfa-arima-venv\\lib\\site-packages\\statsmodels\\tsa\\base\\tsa_model.py:473: ValueWarning: No frequency information was provided, so inferred frequency W-SUN will be used.\n",
      "  self._init_dates(dates, freq)\n",
      "c:\\Users\\Luis\\Documents\\DevProjects\\esptfa-arima\\esptfa-arima-venv\\lib\\site-packages\\statsmodels\\tsa\\base\\tsa_model.py:473: ValueWarning: No frequency information was provided, so inferred frequency W-SUN will be used.\n",
      "  self._init_dates(dates, freq)\n",
      "c:\\Users\\Luis\\Documents\\DevProjects\\esptfa-arima\\esptfa-arima-venv\\lib\\site-packages\\statsmodels\\tsa\\base\\tsa_model.py:473: ValueWarning: No frequency information was provided, so inferred frequency W-SUN will be used.\n",
      "  self._init_dates(dates, freq)\n",
      "C:\\Users\\Luis\\AppData\\Local\\Temp\\ipykernel_4056\\2541929839.py:4: FutureWarning: Series.__getitem__ treating keys as positions is deprecated. In a future version, integer keys will always be treated as labels (consistent with DataFrame behavior). To access a value by position, use `ser.iloc[pos]`\n",
      "  arima_pred = arima_model.forecast(steps=1)[0]\n"
     ]
    },
    {
     "name": "stdout",
     "output_type": "stream",
     "text": [
      "\u001b[1m1/1\u001b[0m \u001b[32m━━━━━━━━━━━━━━━━━━━━\u001b[0m\u001b[37m\u001b[0m \u001b[1m0s\u001b[0m 36ms/step\n"
     ]
    },
    {
     "name": "stderr",
     "output_type": "stream",
     "text": [
      "c:\\Users\\Luis\\Documents\\DevProjects\\esptfa-arima\\esptfa-arima-venv\\lib\\site-packages\\statsmodels\\tsa\\base\\tsa_model.py:473: ValueWarning: No frequency information was provided, so inferred frequency W-SUN will be used.\n",
      "  self._init_dates(dates, freq)\n",
      "c:\\Users\\Luis\\Documents\\DevProjects\\esptfa-arima\\esptfa-arima-venv\\lib\\site-packages\\statsmodels\\base\\model.py:607: ConvergenceWarning: Maximum Likelihood optimization failed to converge. Check mle_retvals\n",
      "  warnings.warn(\"Maximum Likelihood optimization failed to \"\n",
      "c:\\Users\\Luis\\Documents\\DevProjects\\esptfa-arima\\esptfa-arima-venv\\lib\\site-packages\\statsmodels\\tsa\\base\\tsa_model.py:473: ValueWarning: No frequency information was provided, so inferred frequency W-SUN will be used.\n",
      "  self._init_dates(dates, freq)\n",
      "c:\\Users\\Luis\\Documents\\DevProjects\\esptfa-arima\\esptfa-arima-venv\\lib\\site-packages\\statsmodels\\tsa\\base\\tsa_model.py:473: ValueWarning: No frequency information was provided, so inferred frequency W-SUN will be used.\n",
      "  self._init_dates(dates, freq)\n",
      "c:\\Users\\Luis\\Documents\\DevProjects\\esptfa-arima\\esptfa-arima-venv\\lib\\site-packages\\statsmodels\\tsa\\base\\tsa_model.py:473: ValueWarning: No frequency information was provided, so inferred frequency W-SUN will be used.\n",
      "  self._init_dates(dates, freq)\n",
      "C:\\Users\\Luis\\AppData\\Local\\Temp\\ipykernel_4056\\2541929839.py:4: FutureWarning: Series.__getitem__ treating keys as positions is deprecated. In a future version, integer keys will always be treated as labels (consistent with DataFrame behavior). To access a value by position, use `ser.iloc[pos]`\n",
      "  arima_pred = arima_model.forecast(steps=1)[0]\n"
     ]
    },
    {
     "name": "stdout",
     "output_type": "stream",
     "text": [
      "\u001b[1m1/1\u001b[0m \u001b[32m━━━━━━━━━━━━━━━━━━━━\u001b[0m\u001b[37m\u001b[0m \u001b[1m0s\u001b[0m 45ms/step\n",
      "\u001b[1m1/1\u001b[0m \u001b[32m━━━━━━━━━━━━━━━━━━━━\u001b[0m\u001b[37m\u001b[0m \u001b[1m0s\u001b[0m 27ms/step\n"
     ]
    },
    {
     "name": "stderr",
     "output_type": "stream",
     "text": [
      "c:\\Users\\Luis\\Documents\\DevProjects\\esptfa-arima\\esptfa-arima-venv\\lib\\site-packages\\statsmodels\\tsa\\base\\tsa_model.py:473: ValueWarning: No frequency information was provided, so inferred frequency W-SUN will be used.\n",
      "  self._init_dates(dates, freq)\n",
      "c:\\Users\\Luis\\Documents\\DevProjects\\esptfa-arima\\esptfa-arima-venv\\lib\\site-packages\\statsmodels\\tsa\\base\\tsa_model.py:473: ValueWarning: No frequency information was provided, so inferred frequency W-SUN will be used.\n",
      "  self._init_dates(dates, freq)\n",
      "c:\\Users\\Luis\\Documents\\DevProjects\\esptfa-arima\\esptfa-arima-venv\\lib\\site-packages\\statsmodels\\tsa\\base\\tsa_model.py:473: ValueWarning: No frequency information was provided, so inferred frequency W-SUN will be used.\n",
      "  self._init_dates(dates, freq)\n",
      "c:\\Users\\Luis\\Documents\\DevProjects\\esptfa-arima\\esptfa-arima-venv\\lib\\site-packages\\statsmodels\\tsa\\base\\tsa_model.py:473: ValueWarning: No frequency information was provided, so inferred frequency W-SUN will be used.\n",
      "  self._init_dates(dates, freq)\n",
      "C:\\Users\\Luis\\AppData\\Local\\Temp\\ipykernel_4056\\2541929839.py:4: FutureWarning: Series.__getitem__ treating keys as positions is deprecated. In a future version, integer keys will always be treated as labels (consistent with DataFrame behavior). To access a value by position, use `ser.iloc[pos]`\n",
      "  arima_pred = arima_model.forecast(steps=1)[0]\n",
      "c:\\Users\\Luis\\Documents\\DevProjects\\esptfa-arima\\esptfa-arima-venv\\lib\\site-packages\\statsmodels\\tsa\\base\\tsa_model.py:473: ValueWarning: No frequency information was provided, so inferred frequency W-SUN will be used.\n",
      "  self._init_dates(dates, freq)\n",
      "c:\\Users\\Luis\\Documents\\DevProjects\\esptfa-arima\\esptfa-arima-venv\\lib\\site-packages\\statsmodels\\tsa\\base\\tsa_model.py:473: ValueWarning: No frequency information was provided, so inferred frequency W-SUN will be used.\n",
      "  self._init_dates(dates, freq)\n"
     ]
    },
    {
     "name": "stdout",
     "output_type": "stream",
     "text": [
      "\u001b[1m1/1\u001b[0m \u001b[32m━━━━━━━━━━━━━━━━━━━━\u001b[0m\u001b[37m\u001b[0m \u001b[1m0s\u001b[0m 27ms/step\n"
     ]
    },
    {
     "name": "stderr",
     "output_type": "stream",
     "text": [
      "c:\\Users\\Luis\\Documents\\DevProjects\\esptfa-arima\\esptfa-arima-venv\\lib\\site-packages\\statsmodels\\tsa\\base\\tsa_model.py:473: ValueWarning: No frequency information was provided, so inferred frequency W-SUN will be used.\n",
      "  self._init_dates(dates, freq)\n",
      "c:\\Users\\Luis\\Documents\\DevProjects\\esptfa-arima\\esptfa-arima-venv\\lib\\site-packages\\statsmodels\\tsa\\base\\tsa_model.py:473: ValueWarning: No frequency information was provided, so inferred frequency W-SUN will be used.\n",
      "  self._init_dates(dates, freq)\n",
      "C:\\Users\\Luis\\AppData\\Local\\Temp\\ipykernel_4056\\2541929839.py:4: FutureWarning: Series.__getitem__ treating keys as positions is deprecated. In a future version, integer keys will always be treated as labels (consistent with DataFrame behavior). To access a value by position, use `ser.iloc[pos]`\n",
      "  arima_pred = arima_model.forecast(steps=1)[0]\n",
      "c:\\Users\\Luis\\Documents\\DevProjects\\esptfa-arima\\esptfa-arima-venv\\lib\\site-packages\\statsmodels\\tsa\\base\\tsa_model.py:473: ValueWarning: No frequency information was provided, so inferred frequency W-SUN will be used.\n",
      "  self._init_dates(dates, freq)\n",
      "c:\\Users\\Luis\\Documents\\DevProjects\\esptfa-arima\\esptfa-arima-venv\\lib\\site-packages\\statsmodels\\tsa\\base\\tsa_model.py:473: ValueWarning: No frequency information was provided, so inferred frequency W-SUN will be used.\n",
      "  self._init_dates(dates, freq)\n"
     ]
    },
    {
     "name": "stdout",
     "output_type": "stream",
     "text": [
      "\u001b[1m1/1\u001b[0m \u001b[32m━━━━━━━━━━━━━━━━━━━━\u001b[0m\u001b[37m\u001b[0m \u001b[1m0s\u001b[0m 28ms/step\n"
     ]
    },
    {
     "name": "stderr",
     "output_type": "stream",
     "text": [
      "c:\\Users\\Luis\\Documents\\DevProjects\\esptfa-arima\\esptfa-arima-venv\\lib\\site-packages\\statsmodels\\tsa\\base\\tsa_model.py:473: ValueWarning: No frequency information was provided, so inferred frequency W-SUN will be used.\n",
      "  self._init_dates(dates, freq)\n",
      "c:\\Users\\Luis\\Documents\\DevProjects\\esptfa-arima\\esptfa-arima-venv\\lib\\site-packages\\statsmodels\\tsa\\base\\tsa_model.py:473: ValueWarning: No frequency information was provided, so inferred frequency W-SUN will be used.\n",
      "  self._init_dates(dates, freq)\n",
      "C:\\Users\\Luis\\AppData\\Local\\Temp\\ipykernel_4056\\2541929839.py:4: FutureWarning: Series.__getitem__ treating keys as positions is deprecated. In a future version, integer keys will always be treated as labels (consistent with DataFrame behavior). To access a value by position, use `ser.iloc[pos]`\n",
      "  arima_pred = arima_model.forecast(steps=1)[0]\n",
      "c:\\Users\\Luis\\Documents\\DevProjects\\esptfa-arima\\esptfa-arima-venv\\lib\\site-packages\\statsmodels\\tsa\\base\\tsa_model.py:473: ValueWarning: No frequency information was provided, so inferred frequency W-SUN will be used.\n",
      "  self._init_dates(dates, freq)\n",
      "c:\\Users\\Luis\\Documents\\DevProjects\\esptfa-arima\\esptfa-arima-venv\\lib\\site-packages\\statsmodels\\tsa\\base\\tsa_model.py:473: ValueWarning: No frequency information was provided, so inferred frequency W-SUN will be used.\n",
      "  self._init_dates(dates, freq)\n",
      "c:\\Users\\Luis\\Documents\\DevProjects\\esptfa-arima\\esptfa-arima-venv\\lib\\site-packages\\statsmodels\\tsa\\statespace\\sarimax.py:978: UserWarning: Non-invertible starting MA parameters found. Using zeros as starting parameters.\n",
      "  warn('Non-invertible starting MA parameters found.'\n",
      "c:\\Users\\Luis\\Documents\\DevProjects\\esptfa-arima\\esptfa-arima-venv\\lib\\site-packages\\statsmodels\\tsa\\base\\tsa_model.py:473: ValueWarning: No frequency information was provided, so inferred frequency W-SUN will be used.\n",
      "  self._init_dates(dates, freq)\n"
     ]
    },
    {
     "name": "stdout",
     "output_type": "stream",
     "text": [
      "\u001b[1m1/1\u001b[0m \u001b[32m━━━━━━━━━━━━━━━━━━━━\u001b[0m\u001b[37m\u001b[0m \u001b[1m0s\u001b[0m 27ms/step\n"
     ]
    },
    {
     "name": "stderr",
     "output_type": "stream",
     "text": [
      "c:\\Users\\Luis\\Documents\\DevProjects\\esptfa-arima\\esptfa-arima-venv\\lib\\site-packages\\statsmodels\\tsa\\base\\tsa_model.py:473: ValueWarning: No frequency information was provided, so inferred frequency W-SUN will be used.\n",
      "  self._init_dates(dates, freq)\n",
      "C:\\Users\\Luis\\AppData\\Local\\Temp\\ipykernel_4056\\2541929839.py:4: FutureWarning: Series.__getitem__ treating keys as positions is deprecated. In a future version, integer keys will always be treated as labels (consistent with DataFrame behavior). To access a value by position, use `ser.iloc[pos]`\n",
      "  arima_pred = arima_model.forecast(steps=1)[0]\n",
      "c:\\Users\\Luis\\Documents\\DevProjects\\esptfa-arima\\esptfa-arima-venv\\lib\\site-packages\\statsmodels\\tsa\\base\\tsa_model.py:473: ValueWarning: No frequency information was provided, so inferred frequency W-SUN will be used.\n",
      "  self._init_dates(dates, freq)\n",
      "c:\\Users\\Luis\\Documents\\DevProjects\\esptfa-arima\\esptfa-arima-venv\\lib\\site-packages\\statsmodels\\tsa\\base\\tsa_model.py:473: ValueWarning: No frequency information was provided, so inferred frequency W-SUN will be used.\n",
      "  self._init_dates(dates, freq)\n",
      "c:\\Users\\Luis\\Documents\\DevProjects\\esptfa-arima\\esptfa-arima-venv\\lib\\site-packages\\statsmodels\\tsa\\statespace\\sarimax.py:978: UserWarning: Non-invertible starting MA parameters found. Using zeros as starting parameters.\n",
      "  warn('Non-invertible starting MA parameters found.'\n",
      "c:\\Users\\Luis\\Documents\\DevProjects\\esptfa-arima\\esptfa-arima-venv\\lib\\site-packages\\statsmodels\\tsa\\base\\tsa_model.py:473: ValueWarning: No frequency information was provided, so inferred frequency W-SUN will be used.\n",
      "  self._init_dates(dates, freq)\n",
      "c:\\Users\\Luis\\Documents\\DevProjects\\esptfa-arima\\esptfa-arima-venv\\lib\\site-packages\\statsmodels\\tsa\\base\\tsa_model.py:473: ValueWarning: No frequency information was provided, so inferred frequency W-SUN will be used.\n",
      "  self._init_dates(dates, freq)\n",
      "c:\\Users\\Luis\\Documents\\DevProjects\\esptfa-arima\\esptfa-arima-venv\\lib\\site-packages\\statsmodels\\tsa\\statespace\\sarimax.py:978: UserWarning: Non-invertible starting MA parameters found. Using zeros as starting parameters.\n",
      "  warn('Non-invertible starting MA parameters found.'\n"
     ]
    },
    {
     "name": "stdout",
     "output_type": "stream",
     "text": [
      "\u001b[1m1/1\u001b[0m \u001b[32m━━━━━━━━━━━━━━━━━━━━\u001b[0m\u001b[37m\u001b[0m \u001b[1m0s\u001b[0m 41ms/step\n"
     ]
    },
    {
     "name": "stderr",
     "output_type": "stream",
     "text": [
      "C:\\Users\\Luis\\AppData\\Local\\Temp\\ipykernel_4056\\2541929839.py:4: FutureWarning: Series.__getitem__ treating keys as positions is deprecated. In a future version, integer keys will always be treated as labels (consistent with DataFrame behavior). To access a value by position, use `ser.iloc[pos]`\n",
      "  arima_pred = arima_model.forecast(steps=1)[0]\n",
      "c:\\Users\\Luis\\Documents\\DevProjects\\esptfa-arima\\esptfa-arima-venv\\lib\\site-packages\\statsmodels\\tsa\\base\\tsa_model.py:473: ValueWarning: No frequency information was provided, so inferred frequency W-SUN will be used.\n",
      "  self._init_dates(dates, freq)\n",
      "c:\\Users\\Luis\\Documents\\DevProjects\\esptfa-arima\\esptfa-arima-venv\\lib\\site-packages\\statsmodels\\base\\model.py:607: ConvergenceWarning: Maximum Likelihood optimization failed to converge. Check mle_retvals\n",
      "  warnings.warn(\"Maximum Likelihood optimization failed to \"\n",
      "c:\\Users\\Luis\\Documents\\DevProjects\\esptfa-arima\\esptfa-arima-venv\\lib\\site-packages\\statsmodels\\tsa\\base\\tsa_model.py:473: ValueWarning: No frequency information was provided, so inferred frequency W-SUN will be used.\n",
      "  self._init_dates(dates, freq)\n",
      "c:\\Users\\Luis\\Documents\\DevProjects\\esptfa-arima\\esptfa-arima-venv\\lib\\site-packages\\statsmodels\\tsa\\base\\tsa_model.py:473: ValueWarning: No frequency information was provided, so inferred frequency W-SUN will be used.\n",
      "  self._init_dates(dates, freq)\n",
      "c:\\Users\\Luis\\Documents\\DevProjects\\esptfa-arima\\esptfa-arima-venv\\lib\\site-packages\\statsmodels\\tsa\\base\\tsa_model.py:473: ValueWarning: No frequency information was provided, so inferred frequency W-SUN will be used.\n",
      "  self._init_dates(dates, freq)\n"
     ]
    },
    {
     "name": "stdout",
     "output_type": "stream",
     "text": [
      "\u001b[1m1/1\u001b[0m \u001b[32m━━━━━━━━━━━━━━━━━━━━\u001b[0m\u001b[37m\u001b[0m \u001b[1m0s\u001b[0m 48ms/step\n"
     ]
    },
    {
     "name": "stderr",
     "output_type": "stream",
     "text": [
      "C:\\Users\\Luis\\AppData\\Local\\Temp\\ipykernel_4056\\2541929839.py:4: FutureWarning: Series.__getitem__ treating keys as positions is deprecated. In a future version, integer keys will always be treated as labels (consistent with DataFrame behavior). To access a value by position, use `ser.iloc[pos]`\n",
      "  arima_pred = arima_model.forecast(steps=1)[0]\n",
      "c:\\Users\\Luis\\Documents\\DevProjects\\esptfa-arima\\esptfa-arima-venv\\lib\\site-packages\\statsmodels\\tsa\\base\\tsa_model.py:473: ValueWarning: No frequency information was provided, so inferred frequency W-SUN will be used.\n",
      "  self._init_dates(dates, freq)\n",
      "c:\\Users\\Luis\\Documents\\DevProjects\\esptfa-arima\\esptfa-arima-venv\\lib\\site-packages\\statsmodels\\tsa\\base\\tsa_model.py:473: ValueWarning: No frequency information was provided, so inferred frequency W-SUN will be used.\n",
      "  self._init_dates(dates, freq)\n",
      "c:\\Users\\Luis\\Documents\\DevProjects\\esptfa-arima\\esptfa-arima-venv\\lib\\site-packages\\statsmodels\\base\\model.py:607: ConvergenceWarning: Maximum Likelihood optimization failed to converge. Check mle_retvals\n",
      "  warnings.warn(\"Maximum Likelihood optimization failed to \"\n",
      "c:\\Users\\Luis\\Documents\\DevProjects\\esptfa-arima\\esptfa-arima-venv\\lib\\site-packages\\statsmodels\\tsa\\base\\tsa_model.py:473: ValueWarning: No frequency information was provided, so inferred frequency W-SUN will be used.\n",
      "  self._init_dates(dates, freq)\n",
      "c:\\Users\\Luis\\Documents\\DevProjects\\esptfa-arima\\esptfa-arima-venv\\lib\\site-packages\\statsmodels\\tsa\\base\\tsa_model.py:473: ValueWarning: No frequency information was provided, so inferred frequency W-SUN will be used.\n",
      "  self._init_dates(dates, freq)\n",
      "c:\\Users\\Luis\\Documents\\DevProjects\\esptfa-arima\\esptfa-arima-venv\\lib\\site-packages\\statsmodels\\tsa\\statespace\\sarimax.py:978: UserWarning: Non-invertible starting MA parameters found. Using zeros as starting parameters.\n",
      "  warn('Non-invertible starting MA parameters found.'\n"
     ]
    },
    {
     "name": "stdout",
     "output_type": "stream",
     "text": [
      "\u001b[1m1/1\u001b[0m \u001b[32m━━━━━━━━━━━━━━━━━━━━\u001b[0m\u001b[37m\u001b[0m \u001b[1m0s\u001b[0m 37ms/step\n"
     ]
    },
    {
     "name": "stderr",
     "output_type": "stream",
     "text": [
      "C:\\Users\\Luis\\AppData\\Local\\Temp\\ipykernel_4056\\2541929839.py:4: FutureWarning: Series.__getitem__ treating keys as positions is deprecated. In a future version, integer keys will always be treated as labels (consistent with DataFrame behavior). To access a value by position, use `ser.iloc[pos]`\n",
      "  arima_pred = arima_model.forecast(steps=1)[0]\n",
      "c:\\Users\\Luis\\Documents\\DevProjects\\esptfa-arima\\esptfa-arima-venv\\lib\\site-packages\\statsmodels\\tsa\\base\\tsa_model.py:473: ValueWarning: No frequency information was provided, so inferred frequency W-SUN will be used.\n",
      "  self._init_dates(dates, freq)\n",
      "c:\\Users\\Luis\\Documents\\DevProjects\\esptfa-arima\\esptfa-arima-venv\\lib\\site-packages\\statsmodels\\tsa\\base\\tsa_model.py:473: ValueWarning: No frequency information was provided, so inferred frequency W-SUN will be used.\n",
      "  self._init_dates(dates, freq)\n",
      "c:\\Users\\Luis\\Documents\\DevProjects\\esptfa-arima\\esptfa-arima-venv\\lib\\site-packages\\statsmodels\\tsa\\base\\tsa_model.py:473: ValueWarning: No frequency information was provided, so inferred frequency W-SUN will be used.\n",
      "  self._init_dates(dates, freq)\n",
      "c:\\Users\\Luis\\Documents\\DevProjects\\esptfa-arima\\esptfa-arima-venv\\lib\\site-packages\\statsmodels\\tsa\\base\\tsa_model.py:473: ValueWarning: No frequency information was provided, so inferred frequency W-SUN will be used.\n",
      "  self._init_dates(dates, freq)\n",
      "c:\\Users\\Luis\\Documents\\DevProjects\\esptfa-arima\\esptfa-arima-venv\\lib\\site-packages\\statsmodels\\tsa\\statespace\\sarimax.py:966: UserWarning: Non-stationary starting autoregressive parameters found. Using zeros as starting parameters.\n",
      "  warn('Non-stationary starting autoregressive parameters'\n",
      "c:\\Users\\Luis\\Documents\\DevProjects\\esptfa-arima\\esptfa-arima-venv\\lib\\site-packages\\statsmodels\\tsa\\statespace\\sarimax.py:978: UserWarning: Non-invertible starting MA parameters found. Using zeros as starting parameters.\n",
      "  warn('Non-invertible starting MA parameters found.'\n",
      "C:\\Users\\Luis\\AppData\\Local\\Temp\\ipykernel_4056\\2541929839.py:4: FutureWarning: Series.__getitem__ treating keys as positions is deprecated. In a future version, integer keys will always be treated as labels (consistent with DataFrame behavior). To access a value by position, use `ser.iloc[pos]`\n",
      "  arima_pred = arima_model.forecast(steps=1)[0]\n"
     ]
    },
    {
     "name": "stdout",
     "output_type": "stream",
     "text": [
      "\u001b[1m1/1\u001b[0m \u001b[32m━━━━━━━━━━━━━━━━━━━━\u001b[0m\u001b[37m\u001b[0m \u001b[1m0s\u001b[0m 31ms/step\n",
      "\u001b[1m1/1\u001b[0m \u001b[32m━━━━━━━━━━━━━━━━━━━━\u001b[0m\u001b[37m\u001b[0m \u001b[1m0s\u001b[0m 26ms/step\n"
     ]
    },
    {
     "name": "stderr",
     "output_type": "stream",
     "text": [
      "c:\\Users\\Luis\\Documents\\DevProjects\\esptfa-arima\\esptfa-arima-venv\\lib\\site-packages\\statsmodels\\tsa\\base\\tsa_model.py:473: ValueWarning: No frequency information was provided, so inferred frequency W-SUN will be used.\n",
      "  self._init_dates(dates, freq)\n",
      "c:\\Users\\Luis\\Documents\\DevProjects\\esptfa-arima\\esptfa-arima-venv\\lib\\site-packages\\statsmodels\\tsa\\base\\tsa_model.py:473: ValueWarning: No frequency information was provided, so inferred frequency W-SUN will be used.\n",
      "  self._init_dates(dates, freq)\n",
      "c:\\Users\\Luis\\Documents\\DevProjects\\esptfa-arima\\esptfa-arima-venv\\lib\\site-packages\\statsmodels\\tsa\\statespace\\sarimax.py:978: UserWarning: Non-invertible starting MA parameters found. Using zeros as starting parameters.\n",
      "  warn('Non-invertible starting MA parameters found.'\n",
      "c:\\Users\\Luis\\Documents\\DevProjects\\esptfa-arima\\esptfa-arima-venv\\lib\\site-packages\\statsmodels\\base\\model.py:607: ConvergenceWarning: Maximum Likelihood optimization failed to converge. Check mle_retvals\n",
      "  warnings.warn(\"Maximum Likelihood optimization failed to \"\n",
      "c:\\Users\\Luis\\Documents\\DevProjects\\esptfa-arima\\esptfa-arima-venv\\lib\\site-packages\\statsmodels\\tsa\\base\\tsa_model.py:473: ValueWarning: No frequency information was provided, so inferred frequency W-SUN will be used.\n",
      "  self._init_dates(dates, freq)\n",
      "c:\\Users\\Luis\\Documents\\DevProjects\\esptfa-arima\\esptfa-arima-venv\\lib\\site-packages\\statsmodels\\tsa\\base\\tsa_model.py:473: ValueWarning: No frequency information was provided, so inferred frequency W-SUN will be used.\n",
      "  self._init_dates(dates, freq)\n",
      "C:\\Users\\Luis\\AppData\\Local\\Temp\\ipykernel_4056\\2541929839.py:4: FutureWarning: Series.__getitem__ treating keys as positions is deprecated. In a future version, integer keys will always be treated as labels (consistent with DataFrame behavior). To access a value by position, use `ser.iloc[pos]`\n",
      "  arima_pred = arima_model.forecast(steps=1)[0]\n",
      "c:\\Users\\Luis\\Documents\\DevProjects\\esptfa-arima\\esptfa-arima-venv\\lib\\site-packages\\statsmodels\\tsa\\base\\tsa_model.py:473: ValueWarning: No frequency information was provided, so inferred frequency W-SUN will be used.\n",
      "  self._init_dates(dates, freq)\n",
      "c:\\Users\\Luis\\Documents\\DevProjects\\esptfa-arima\\esptfa-arima-venv\\lib\\site-packages\\statsmodels\\base\\model.py:607: ConvergenceWarning: Maximum Likelihood optimization failed to converge. Check mle_retvals\n",
      "  warnings.warn(\"Maximum Likelihood optimization failed to \"\n",
      "c:\\Users\\Luis\\Documents\\DevProjects\\esptfa-arima\\esptfa-arima-venv\\lib\\site-packages\\statsmodels\\tsa\\base\\tsa_model.py:473: ValueWarning: No frequency information was provided, so inferred frequency W-SUN will be used.\n",
      "  self._init_dates(dates, freq)\n"
     ]
    },
    {
     "name": "stdout",
     "output_type": "stream",
     "text": [
      "\u001b[1m1/1\u001b[0m \u001b[32m━━━━━━━━━━━━━━━━━━━━\u001b[0m\u001b[37m\u001b[0m \u001b[1m0s\u001b[0m 45ms/step\n"
     ]
    },
    {
     "name": "stderr",
     "output_type": "stream",
     "text": [
      "c:\\Users\\Luis\\Documents\\DevProjects\\esptfa-arima\\esptfa-arima-venv\\lib\\site-packages\\statsmodels\\tsa\\base\\tsa_model.py:473: ValueWarning: No frequency information was provided, so inferred frequency W-SUN will be used.\n",
      "  self._init_dates(dates, freq)\n",
      "c:\\Users\\Luis\\Documents\\DevProjects\\esptfa-arima\\esptfa-arima-venv\\lib\\site-packages\\statsmodels\\tsa\\base\\tsa_model.py:473: ValueWarning: No frequency information was provided, so inferred frequency W-SUN will be used.\n",
      "  self._init_dates(dates, freq)\n",
      "C:\\Users\\Luis\\AppData\\Local\\Temp\\ipykernel_4056\\2541929839.py:4: FutureWarning: Series.__getitem__ treating keys as positions is deprecated. In a future version, integer keys will always be treated as labels (consistent with DataFrame behavior). To access a value by position, use `ser.iloc[pos]`\n",
      "  arima_pred = arima_model.forecast(steps=1)[0]\n",
      "c:\\Users\\Luis\\Documents\\DevProjects\\esptfa-arima\\esptfa-arima-venv\\lib\\site-packages\\statsmodels\\tsa\\base\\tsa_model.py:473: ValueWarning: No frequency information was provided, so inferred frequency W-SUN will be used.\n",
      "  self._init_dates(dates, freq)\n",
      "c:\\Users\\Luis\\Documents\\DevProjects\\esptfa-arima\\esptfa-arima-venv\\lib\\site-packages\\statsmodels\\tsa\\base\\tsa_model.py:473: ValueWarning: No frequency information was provided, so inferred frequency W-SUN will be used.\n",
      "  self._init_dates(dates, freq)\n",
      "c:\\Users\\Luis\\Documents\\DevProjects\\esptfa-arima\\esptfa-arima-venv\\lib\\site-packages\\statsmodels\\tsa\\statespace\\sarimax.py:978: UserWarning: Non-invertible starting MA parameters found. Using zeros as starting parameters.\n",
      "  warn('Non-invertible starting MA parameters found.'\n",
      "c:\\Users\\Luis\\Documents\\DevProjects\\esptfa-arima\\esptfa-arima-venv\\lib\\site-packages\\statsmodels\\tsa\\base\\tsa_model.py:473: ValueWarning: No frequency information was provided, so inferred frequency W-SUN will be used.\n",
      "  self._init_dates(dates, freq)\n",
      "c:\\Users\\Luis\\Documents\\DevProjects\\esptfa-arima\\esptfa-arima-venv\\lib\\site-packages\\statsmodels\\tsa\\base\\tsa_model.py:473: ValueWarning: No frequency information was provided, so inferred frequency W-SUN will be used.\n",
      "  self._init_dates(dates, freq)\n",
      "c:\\Users\\Luis\\Documents\\DevProjects\\esptfa-arima\\esptfa-arima-venv\\lib\\site-packages\\statsmodels\\tsa\\statespace\\sarimax.py:978: UserWarning: Non-invertible starting MA parameters found. Using zeros as starting parameters.\n",
      "  warn('Non-invertible starting MA parameters found.'\n",
      "C:\\Users\\Luis\\AppData\\Local\\Temp\\ipykernel_4056\\2541929839.py:4: FutureWarning: Series.__getitem__ treating keys as positions is deprecated. In a future version, integer keys will always be treated as labels (consistent with DataFrame behavior). To access a value by position, use `ser.iloc[pos]`\n",
      "  arima_pred = arima_model.forecast(steps=1)[0]\n"
     ]
    },
    {
     "name": "stdout",
     "output_type": "stream",
     "text": [
      "\u001b[1m1/1\u001b[0m \u001b[32m━━━━━━━━━━━━━━━━━━━━\u001b[0m\u001b[37m\u001b[0m \u001b[1m0s\u001b[0m 28ms/step\n",
      "\u001b[1m1/1\u001b[0m \u001b[32m━━━━━━━━━━━━━━━━━━━━\u001b[0m\u001b[37m\u001b[0m \u001b[1m0s\u001b[0m 23ms/step"
     ]
    },
    {
     "name": "stderr",
     "output_type": "stream",
     "text": [
      "c:\\Users\\Luis\\Documents\\DevProjects\\esptfa-arima\\esptfa-arima-venv\\lib\\site-packages\\statsmodels\\tsa\\base\\tsa_model.py:473: ValueWarning: No frequency information was provided, so inferred frequency W-SUN will be used.\n",
      "  self._init_dates(dates, freq)\n",
      "c:\\Users\\Luis\\Documents\\DevProjects\\esptfa-arima\\esptfa-arima-venv\\lib\\site-packages\\statsmodels\\tsa\\base\\tsa_model.py:473: ValueWarning: No frequency information was provided, so inferred frequency W-SUN will be used.\n",
      "  self._init_dates(dates, freq)\n",
      "c:\\Users\\Luis\\Documents\\DevProjects\\esptfa-arima\\esptfa-arima-venv\\lib\\site-packages\\statsmodels\\tsa\\base\\tsa_model.py:473: ValueWarning: No frequency information was provided, so inferred frequency W-SUN will be used.\n",
      "  self._init_dates(dates, freq)\n",
      "c:\\Users\\Luis\\Documents\\DevProjects\\esptfa-arima\\esptfa-arima-venv\\lib\\site-packages\\statsmodels\\tsa\\base\\tsa_model.py:473: ValueWarning: No frequency information was provided, so inferred frequency W-SUN will be used.\n",
      "  self._init_dates(dates, freq)\n",
      "C:\\Users\\Luis\\AppData\\Local\\Temp\\ipykernel_4056\\2541929839.py:4: FutureWarning: Series.__getitem__ treating keys as positions is deprecated. In a future version, integer keys will always be treated as labels (consistent with DataFrame behavior). To access a value by position, use `ser.iloc[pos]`\n",
      "  arima_pred = arima_model.forecast(steps=1)[0]\n"
     ]
    },
    {
     "name": "stdout",
     "output_type": "stream",
     "text": [
      "\u001b[1m1/1\u001b[0m \u001b[32m━━━━━━━━━━━━━━━━━━━━\u001b[0m\u001b[37m\u001b[0m \u001b[1m0s\u001b[0m 40ms/step\n",
      "\u001b[1m1/1\u001b[0m \u001b[32m━━━━━━━━━━━━━━━━━━━━\u001b[0m\u001b[37m\u001b[0m \u001b[1m0s\u001b[0m 29ms/step\n"
     ]
    },
    {
     "name": "stderr",
     "output_type": "stream",
     "text": [
      "c:\\Users\\Luis\\Documents\\DevProjects\\esptfa-arima\\esptfa-arima-venv\\lib\\site-packages\\statsmodels\\tsa\\base\\tsa_model.py:473: ValueWarning: No frequency information was provided, so inferred frequency W-SUN will be used.\n",
      "  self._init_dates(dates, freq)\n",
      "c:\\Users\\Luis\\Documents\\DevProjects\\esptfa-arima\\esptfa-arima-venv\\lib\\site-packages\\statsmodels\\tsa\\base\\tsa_model.py:473: ValueWarning: No frequency information was provided, so inferred frequency W-SUN will be used.\n",
      "  self._init_dates(dates, freq)\n",
      "c:\\Users\\Luis\\Documents\\DevProjects\\esptfa-arima\\esptfa-arima-venv\\lib\\site-packages\\statsmodels\\tsa\\base\\tsa_model.py:473: ValueWarning: No frequency information was provided, so inferred frequency W-SUN will be used.\n",
      "  self._init_dates(dates, freq)\n",
      "c:\\Users\\Luis\\Documents\\DevProjects\\esptfa-arima\\esptfa-arima-venv\\lib\\site-packages\\statsmodels\\tsa\\base\\tsa_model.py:473: ValueWarning: No frequency information was provided, so inferred frequency W-SUN will be used.\n",
      "  self._init_dates(dates, freq)\n",
      "c:\\Users\\Luis\\Documents\\DevProjects\\esptfa-arima\\esptfa-arima-venv\\lib\\site-packages\\statsmodels\\base\\model.py:607: ConvergenceWarning: Maximum Likelihood optimization failed to converge. Check mle_retvals\n",
      "  warnings.warn(\"Maximum Likelihood optimization failed to \"\n",
      "C:\\Users\\Luis\\AppData\\Local\\Temp\\ipykernel_4056\\2541929839.py:4: FutureWarning: Series.__getitem__ treating keys as positions is deprecated. In a future version, integer keys will always be treated as labels (consistent with DataFrame behavior). To access a value by position, use `ser.iloc[pos]`\n",
      "  arima_pred = arima_model.forecast(steps=1)[0]\n",
      "c:\\Users\\Luis\\Documents\\DevProjects\\esptfa-arima\\esptfa-arima-venv\\lib\\site-packages\\statsmodels\\tsa\\base\\tsa_model.py:473: ValueWarning: No frequency information was provided, so inferred frequency W-SUN will be used.\n",
      "  self._init_dates(dates, freq)\n",
      "c:\\Users\\Luis\\Documents\\DevProjects\\esptfa-arima\\esptfa-arima-venv\\lib\\site-packages\\statsmodels\\tsa\\base\\tsa_model.py:473: ValueWarning: No frequency information was provided, so inferred frequency W-SUN will be used.\n",
      "  self._init_dates(dates, freq)\n",
      "c:\\Users\\Luis\\Documents\\DevProjects\\esptfa-arima\\esptfa-arima-venv\\lib\\site-packages\\statsmodels\\tsa\\statespace\\sarimax.py:978: UserWarning: Non-invertible starting MA parameters found. Using zeros as starting parameters.\n",
      "  warn('Non-invertible starting MA parameters found.'\n",
      "c:\\Users\\Luis\\Documents\\DevProjects\\esptfa-arima\\esptfa-arima-venv\\lib\\site-packages\\statsmodels\\tsa\\base\\tsa_model.py:473: ValueWarning: No frequency information was provided, so inferred frequency W-SUN will be used.\n",
      "  self._init_dates(dates, freq)\n",
      "c:\\Users\\Luis\\Documents\\DevProjects\\esptfa-arima\\esptfa-arima-venv\\lib\\site-packages\\statsmodels\\tsa\\base\\tsa_model.py:473: ValueWarning: No frequency information was provided, so inferred frequency W-SUN will be used.\n",
      "  self._init_dates(dates, freq)\n",
      "C:\\Users\\Luis\\AppData\\Local\\Temp\\ipykernel_4056\\2541929839.py:4: FutureWarning: Series.__getitem__ treating keys as positions is deprecated. In a future version, integer keys will always be treated as labels (consistent with DataFrame behavior). To access a value by position, use `ser.iloc[pos]`\n",
      "  arima_pred = arima_model.forecast(steps=1)[0]\n"
     ]
    },
    {
     "name": "stdout",
     "output_type": "stream",
     "text": [
      "\u001b[1m1/1\u001b[0m \u001b[32m━━━━━━━━━━━━━━━━━━━━\u001b[0m\u001b[37m\u001b[0m \u001b[1m0s\u001b[0m 44ms/step\n",
      "\u001b[1m1/1\u001b[0m \u001b[32m━━━━━━━━━━━━━━━━━━━━\u001b[0m\u001b[37m\u001b[0m \u001b[1m0s\u001b[0m 28ms/step\n"
     ]
    },
    {
     "name": "stderr",
     "output_type": "stream",
     "text": [
      "c:\\Users\\Luis\\Documents\\DevProjects\\esptfa-arima\\esptfa-arima-venv\\lib\\site-packages\\statsmodels\\tsa\\base\\tsa_model.py:473: ValueWarning: No frequency information was provided, so inferred frequency W-SUN will be used.\n",
      "  self._init_dates(dates, freq)\n",
      "c:\\Users\\Luis\\Documents\\DevProjects\\esptfa-arima\\esptfa-arima-venv\\lib\\site-packages\\statsmodels\\tsa\\base\\tsa_model.py:473: ValueWarning: No frequency information was provided, so inferred frequency W-SUN will be used.\n",
      "  self._init_dates(dates, freq)\n",
      "c:\\Users\\Luis\\Documents\\DevProjects\\esptfa-arima\\esptfa-arima-venv\\lib\\site-packages\\statsmodels\\tsa\\base\\tsa_model.py:473: ValueWarning: No frequency information was provided, so inferred frequency W-SUN will be used.\n",
      "  self._init_dates(dates, freq)\n",
      "c:\\Users\\Luis\\Documents\\DevProjects\\esptfa-arima\\esptfa-arima-venv\\lib\\site-packages\\statsmodels\\tsa\\base\\tsa_model.py:473: ValueWarning: No frequency information was provided, so inferred frequency W-SUN will be used.\n",
      "  self._init_dates(dates, freq)\n",
      "C:\\Users\\Luis\\AppData\\Local\\Temp\\ipykernel_4056\\2541929839.py:4: FutureWarning: Series.__getitem__ treating keys as positions is deprecated. In a future version, integer keys will always be treated as labels (consistent with DataFrame behavior). To access a value by position, use `ser.iloc[pos]`\n",
      "  arima_pred = arima_model.forecast(steps=1)[0]\n",
      "c:\\Users\\Luis\\Documents\\DevProjects\\esptfa-arima\\esptfa-arima-venv\\lib\\site-packages\\statsmodels\\tsa\\base\\tsa_model.py:473: ValueWarning: No frequency information was provided, so inferred frequency W-SUN will be used.\n",
      "  self._init_dates(dates, freq)\n",
      "c:\\Users\\Luis\\Documents\\DevProjects\\esptfa-arima\\esptfa-arima-venv\\lib\\site-packages\\statsmodels\\tsa\\base\\tsa_model.py:473: ValueWarning: No frequency information was provided, so inferred frequency W-SUN will be used.\n",
      "  self._init_dates(dates, freq)\n"
     ]
    },
    {
     "name": "stdout",
     "output_type": "stream",
     "text": [
      "\u001b[1m1/1\u001b[0m \u001b[32m━━━━━━━━━━━━━━━━━━━━\u001b[0m\u001b[37m\u001b[0m \u001b[1m0s\u001b[0m 27ms/step\n"
     ]
    },
    {
     "name": "stderr",
     "output_type": "stream",
     "text": [
      "c:\\Users\\Luis\\Documents\\DevProjects\\esptfa-arima\\esptfa-arima-venv\\lib\\site-packages\\statsmodels\\tsa\\base\\tsa_model.py:473: ValueWarning: No frequency information was provided, so inferred frequency W-SUN will be used.\n",
      "  self._init_dates(dates, freq)\n",
      "c:\\Users\\Luis\\Documents\\DevProjects\\esptfa-arima\\esptfa-arima-venv\\lib\\site-packages\\statsmodels\\tsa\\base\\tsa_model.py:473: ValueWarning: No frequency information was provided, so inferred frequency W-SUN will be used.\n",
      "  self._init_dates(dates, freq)\n",
      "C:\\Users\\Luis\\AppData\\Local\\Temp\\ipykernel_4056\\2541929839.py:4: FutureWarning: Series.__getitem__ treating keys as positions is deprecated. In a future version, integer keys will always be treated as labels (consistent with DataFrame behavior). To access a value by position, use `ser.iloc[pos]`\n",
      "  arima_pred = arima_model.forecast(steps=1)[0]\n"
     ]
    },
    {
     "data": {
      "text/html": [
       "<div>\n",
       "<style scoped>\n",
       "    .dataframe tbody tr th:only-of-type {\n",
       "        vertical-align: middle;\n",
       "    }\n",
       "\n",
       "    .dataframe tbody tr th {\n",
       "        vertical-align: top;\n",
       "    }\n",
       "\n",
       "    .dataframe thead th {\n",
       "        text-align: right;\n",
       "    }\n",
       "</style>\n",
       "<table border=\"1\" class=\"dataframe\">\n",
       "  <thead>\n",
       "    <tr style=\"text-align: right;\">\n",
       "      <th></th>\n",
       "      <th>student_id</th>\n",
       "      <th>arima_mae</th>\n",
       "      <th>hybrid_mae</th>\n",
       "      <th>best_prediction</th>\n",
       "    </tr>\n",
       "  </thead>\n",
       "  <tbody>\n",
       "    <tr>\n",
       "      <th>0</th>\n",
       "      <td>105522130030</td>\n",
       "      <td>0.307350</td>\n",
       "      <td>0.610487</td>\n",
       "      <td>[5.307349597861562]</td>\n",
       "    </tr>\n",
       "    <tr>\n",
       "      <th>1</th>\n",
       "      <td>108934110011</td>\n",
       "      <td>0.349716</td>\n",
       "      <td>0.718046</td>\n",
       "      <td>[14.650283534644565]</td>\n",
       "    </tr>\n",
       "    <tr>\n",
       "      <th>2</th>\n",
       "      <td>109323130439</td>\n",
       "      <td>1.000000</td>\n",
       "      <td>1.543188</td>\n",
       "      <td>[18.0]</td>\n",
       "    </tr>\n",
       "    <tr>\n",
       "      <th>3</th>\n",
       "      <td>109461140179</td>\n",
       "      <td>1.000388</td>\n",
       "      <td>1.043382</td>\n",
       "      <td>[14.999612422303885]</td>\n",
       "    </tr>\n",
       "    <tr>\n",
       "      <th>4</th>\n",
       "      <td>109466130459</td>\n",
       "      <td>2.000000</td>\n",
       "      <td>1.956812</td>\n",
       "      <td>[13.956812071613967]</td>\n",
       "    </tr>\n",
       "    <tr>\n",
       "      <th>5</th>\n",
       "      <td>109466130504</td>\n",
       "      <td>0.538224</td>\n",
       "      <td>0.725924</td>\n",
       "      <td>[5.538223569298584]</td>\n",
       "    </tr>\n",
       "    <tr>\n",
       "      <th>6</th>\n",
       "      <td>109466140189</td>\n",
       "      <td>0.692584</td>\n",
       "      <td>0.803104</td>\n",
       "      <td>[8.692583651633024]</td>\n",
       "    </tr>\n",
       "    <tr>\n",
       "      <th>7</th>\n",
       "      <td>109469121797</td>\n",
       "      <td>1.746635</td>\n",
       "      <td>1.830130</td>\n",
       "      <td>[8.746635314421132]</td>\n",
       "    </tr>\n",
       "    <tr>\n",
       "      <th>8</th>\n",
       "      <td>109469140122</td>\n",
       "      <td>0.154004</td>\n",
       "      <td>0.120190</td>\n",
       "      <td>[12.879809885030845]</td>\n",
       "    </tr>\n",
       "    <tr>\n",
       "      <th>9</th>\n",
       "      <td>109471100020</td>\n",
       "      <td>0.461538</td>\n",
       "      <td>0.187581</td>\n",
       "      <td>[20.18758131373069]</td>\n",
       "    </tr>\n",
       "    <tr>\n",
       "      <th>10</th>\n",
       "      <td>109476130060</td>\n",
       "      <td>1.000000</td>\n",
       "      <td>0.956812</td>\n",
       "      <td>[6.956812071613967]</td>\n",
       "    </tr>\n",
       "    <tr>\n",
       "      <th>11</th>\n",
       "      <td>109476130094</td>\n",
       "      <td>2.257184</td>\n",
       "      <td>2.085404</td>\n",
       "      <td>[20.085404135992427]</td>\n",
       "    </tr>\n",
       "    <tr>\n",
       "      <th>12</th>\n",
       "      <td>109477130972</td>\n",
       "      <td>1.512480</td>\n",
       "      <td>1.713052</td>\n",
       "      <td>[7.512479732271658]</td>\n",
       "    </tr>\n",
       "    <tr>\n",
       "      <th>13</th>\n",
       "      <td>109477140705</td>\n",
       "      <td>0.290746</td>\n",
       "      <td>0.602185</td>\n",
       "      <td>[9.290745853158406]</td>\n",
       "    </tr>\n",
       "    <tr>\n",
       "      <th>14</th>\n",
       "      <td>109478060616</td>\n",
       "      <td>0.818553</td>\n",
       "      <td>0.452465</td>\n",
       "      <td>[0.5475354934572261]</td>\n",
       "    </tr>\n",
       "    <tr>\n",
       "      <th>15</th>\n",
       "      <td>109478120108</td>\n",
       "      <td>1.153846</td>\n",
       "      <td>1.120111</td>\n",
       "      <td>[9.879889013245364]</td>\n",
       "    </tr>\n",
       "    <tr>\n",
       "      <th>16</th>\n",
       "      <td>109478120133</td>\n",
       "      <td>1.769256</td>\n",
       "      <td>1.841440</td>\n",
       "      <td>[9.769256051319832]</td>\n",
       "    </tr>\n",
       "    <tr>\n",
       "      <th>17</th>\n",
       "      <td>109478121154</td>\n",
       "      <td>1.000000</td>\n",
       "      <td>0.043188</td>\n",
       "      <td>[5.956812071613967]</td>\n",
       "    </tr>\n",
       "    <tr>\n",
       "      <th>18</th>\n",
       "      <td>109478130104</td>\n",
       "      <td>1.641137</td>\n",
       "      <td>1.363756</td>\n",
       "      <td>[1.63624374287347]</td>\n",
       "    </tr>\n",
       "    <tr>\n",
       "      <th>19</th>\n",
       "      <td>109478130109</td>\n",
       "      <td>0.846253</td>\n",
       "      <td>0.966315</td>\n",
       "      <td>[13.153746701605991]</td>\n",
       "    </tr>\n",
       "    <tr>\n",
       "      <th>20</th>\n",
       "      <td>109478130361</td>\n",
       "      <td>0.077886</td>\n",
       "      <td>0.004245</td>\n",
       "      <td>[13.995755116144602]</td>\n",
       "    </tr>\n",
       "    <tr>\n",
       "      <th>21</th>\n",
       "      <td>109478130515</td>\n",
       "      <td>0.692305</td>\n",
       "      <td>0.889341</td>\n",
       "      <td>[18.30769453885721]</td>\n",
       "    </tr>\n",
       "    <tr>\n",
       "      <th>22</th>\n",
       "      <td>109478130516</td>\n",
       "      <td>0.648020</td>\n",
       "      <td>0.367198</td>\n",
       "      <td>[13.632802128704233]</td>\n",
       "    </tr>\n",
       "    <tr>\n",
       "      <th>23</th>\n",
       "      <td>109478130737</td>\n",
       "      <td>0.685237</td>\n",
       "      <td>0.299431</td>\n",
       "      <td>[20.29943065661336]</td>\n",
       "    </tr>\n",
       "    <tr>\n",
       "      <th>24</th>\n",
       "      <td>109478130739</td>\n",
       "      <td>2.438757</td>\n",
       "      <td>1.676191</td>\n",
       "      <td>[14.676190528862836]</td>\n",
       "    </tr>\n",
       "    <tr>\n",
       "      <th>25</th>\n",
       "      <td>109478130868</td>\n",
       "      <td>1.338215</td>\n",
       "      <td>1.212295</td>\n",
       "      <td>[15.787704635889902]</td>\n",
       "    </tr>\n",
       "    <tr>\n",
       "      <th>26</th>\n",
       "      <td>109478131055</td>\n",
       "      <td>4.000000</td>\n",
       "      <td>2.956812</td>\n",
       "      <td>[19.956812071613967]</td>\n",
       "    </tr>\n",
       "    <tr>\n",
       "      <th>27</th>\n",
       "      <td>109479140148</td>\n",
       "      <td>3.646999</td>\n",
       "      <td>2.866688</td>\n",
       "      <td>[17.133312337866066]</td>\n",
       "    </tr>\n",
       "    <tr>\n",
       "      <th>28</th>\n",
       "      <td>109479140506</td>\n",
       "      <td>0.692350</td>\n",
       "      <td>0.889363</td>\n",
       "      <td>[19.30764985075099]</td>\n",
       "    </tr>\n",
       "    <tr>\n",
       "      <th>29</th>\n",
       "      <td>109480120148</td>\n",
       "      <td>0.269092</td>\n",
       "      <td>0.591358</td>\n",
       "      <td>[2.2690924201717797]</td>\n",
       "    </tr>\n",
       "    <tr>\n",
       "      <th>30</th>\n",
       "      <td>109480120395</td>\n",
       "      <td>2.616666</td>\n",
       "      <td>2.265145</td>\n",
       "      <td>[20.265144844570322]</td>\n",
       "    </tr>\n",
       "    <tr>\n",
       "      <th>31</th>\n",
       "      <td>111395130027</td>\n",
       "      <td>2.077044</td>\n",
       "      <td>1.995334</td>\n",
       "      <td>[11.99533401662572]</td>\n",
       "    </tr>\n",
       "    <tr>\n",
       "      <th>32</th>\n",
       "      <td>124440130048</td>\n",
       "      <td>1.621973</td>\n",
       "      <td>1.854174</td>\n",
       "      <td>[8.378027391443197]</td>\n",
       "    </tr>\n",
       "    <tr>\n",
       "      <th>33</th>\n",
       "      <td>124635120016</td>\n",
       "      <td>2.000529</td>\n",
       "      <td>1.957077</td>\n",
       "      <td>[9.957076771695247]</td>\n",
       "    </tr>\n",
       "    <tr>\n",
       "      <th>34</th>\n",
       "      <td>130428130173</td>\n",
       "      <td>0.230769</td>\n",
       "      <td>0.072197</td>\n",
       "      <td>[15.072196606083793]</td>\n",
       "    </tr>\n",
       "    <tr>\n",
       "      <th>35</th>\n",
       "      <td>136470130026</td>\n",
       "      <td>1.596129</td>\n",
       "      <td>1.841252</td>\n",
       "      <td>[15.403870894076865]</td>\n",
       "    </tr>\n",
       "    <tr>\n",
       "      <th>36</th>\n",
       "      <td>136540141587</td>\n",
       "      <td>1.000000</td>\n",
       "      <td>0.043188</td>\n",
       "      <td>[16.956812071613967]</td>\n",
       "    </tr>\n",
       "    <tr>\n",
       "      <th>37</th>\n",
       "      <td>136541122414</td>\n",
       "      <td>1.843951</td>\n",
       "      <td>1.965164</td>\n",
       "      <td>[14.156048839906596]</td>\n",
       "    </tr>\n",
       "    <tr>\n",
       "      <th>38</th>\n",
       "      <td>136545120177</td>\n",
       "      <td>2.000000</td>\n",
       "      <td>1.543188</td>\n",
       "      <td>[5.456812071613967]</td>\n",
       "    </tr>\n",
       "    <tr>\n",
       "      <th>39</th>\n",
       "      <td>136573130994</td>\n",
       "      <td>4.250967</td>\n",
       "      <td>2.582296</td>\n",
       "      <td>[11.582295598032903]</td>\n",
       "    </tr>\n",
       "    <tr>\n",
       "      <th>40</th>\n",
       "      <td>136584130063</td>\n",
       "      <td>1.846320</td>\n",
       "      <td>1.966348</td>\n",
       "      <td>[16.153680028833158]</td>\n",
       "    </tr>\n",
       "    <tr>\n",
       "      <th>41</th>\n",
       "      <td>165502090205</td>\n",
       "      <td>0.384646</td>\n",
       "      <td>0.235511</td>\n",
       "      <td>[9.764489276672442]</td>\n",
       "    </tr>\n",
       "    <tr>\n",
       "      <th>42</th>\n",
       "      <td>165502120357</td>\n",
       "      <td>0.614583</td>\n",
       "      <td>0.850479</td>\n",
       "      <td>[19.38541728770526]</td>\n",
       "    </tr>\n",
       "    <tr>\n",
       "      <th>43</th>\n",
       "      <td>165502130414</td>\n",
       "      <td>0.461235</td>\n",
       "      <td>0.273805</td>\n",
       "      <td>[5.72619479204476]</td>\n",
       "    </tr>\n",
       "    <tr>\n",
       "      <th>44</th>\n",
       "      <td>165502140223</td>\n",
       "      <td>1.483957</td>\n",
       "      <td>1.198791</td>\n",
       "      <td>[15.198790591584665]</td>\n",
       "    </tr>\n",
       "    <tr>\n",
       "      <th>45</th>\n",
       "      <td>165502140518</td>\n",
       "      <td>1.727990</td>\n",
       "      <td>1.320807</td>\n",
       "      <td>[11.320806841897213]</td>\n",
       "    </tr>\n",
       "    <tr>\n",
       "      <th>46</th>\n",
       "      <td>165509130091</td>\n",
       "      <td>2.000000</td>\n",
       "      <td>0.956812</td>\n",
       "      <td>[18.956812071613967]</td>\n",
       "    </tr>\n",
       "    <tr>\n",
       "      <th>47</th>\n",
       "      <td>165510131492</td>\n",
       "      <td>2.017579</td>\n",
       "      <td>2.051977</td>\n",
       "      <td>[16.98242087764448]</td>\n",
       "    </tr>\n",
       "    <tr>\n",
       "      <th>48</th>\n",
       "      <td>403072150096</td>\n",
       "      <td>0.803071</td>\n",
       "      <td>0.858347</td>\n",
       "      <td>[2.8030706346271685]</td>\n",
       "    </tr>\n",
       "    <tr>\n",
       "      <th>49</th>\n",
       "      <td>425544150047</td>\n",
       "      <td>1.693871</td>\n",
       "      <td>0.890123</td>\n",
       "      <td>[16.10987677285463]</td>\n",
       "    </tr>\n",
       "    <tr>\n",
       "      <th>50</th>\n",
       "      <td>425654150106</td>\n",
       "      <td>1.692264</td>\n",
       "      <td>1.389320</td>\n",
       "      <td>[0.6106802953514874]</td>\n",
       "    </tr>\n",
       "    <tr>\n",
       "      <th>51</th>\n",
       "      <td>425687150112</td>\n",
       "      <td>1.667063</td>\n",
       "      <td>1.376719</td>\n",
       "      <td>[14.62328078602412]</td>\n",
       "    </tr>\n",
       "    <tr>\n",
       "      <th>52</th>\n",
       "      <td>425770150029</td>\n",
       "      <td>1.153845</td>\n",
       "      <td>1.120110</td>\n",
       "      <td>[9.879889595545222]</td>\n",
       "    </tr>\n",
       "    <tr>\n",
       "      <th>53</th>\n",
       "      <td>425808150085</td>\n",
       "      <td>0.815364</td>\n",
       "      <td>0.450870</td>\n",
       "      <td>[2.5491301856996174]</td>\n",
       "    </tr>\n",
       "    <tr>\n",
       "      <th>54</th>\n",
       "      <td>482053160173</td>\n",
       "      <td>1.397699</td>\n",
       "      <td>1.155661</td>\n",
       "      <td>[6.155661328324991]</td>\n",
       "    </tr>\n",
       "    <tr>\n",
       "      <th>55</th>\n",
       "      <td>488011150101</td>\n",
       "      <td>2.000000</td>\n",
       "      <td>0.956812</td>\n",
       "      <td>[11.95681207161397]</td>\n",
       "    </tr>\n",
       "    <tr>\n",
       "      <th>56</th>\n",
       "      <td>488127150037</td>\n",
       "      <td>1.364242</td>\n",
       "      <td>1.638933</td>\n",
       "      <td>[12.364241951997366]</td>\n",
       "    </tr>\n",
       "  </tbody>\n",
       "</table>\n",
       "</div>"
      ],
      "text/plain": [
       "      student_id  arima_mae  hybrid_mae       best_prediction\n",
       "0   105522130030   0.307350    0.610487   [5.307349597861562]\n",
       "1   108934110011   0.349716    0.718046  [14.650283534644565]\n",
       "2   109323130439   1.000000    1.543188                [18.0]\n",
       "3   109461140179   1.000388    1.043382  [14.999612422303885]\n",
       "4   109466130459   2.000000    1.956812  [13.956812071613967]\n",
       "5   109466130504   0.538224    0.725924   [5.538223569298584]\n",
       "6   109466140189   0.692584    0.803104   [8.692583651633024]\n",
       "7   109469121797   1.746635    1.830130   [8.746635314421132]\n",
       "8   109469140122   0.154004    0.120190  [12.879809885030845]\n",
       "9   109471100020   0.461538    0.187581   [20.18758131373069]\n",
       "10  109476130060   1.000000    0.956812   [6.956812071613967]\n",
       "11  109476130094   2.257184    2.085404  [20.085404135992427]\n",
       "12  109477130972   1.512480    1.713052   [7.512479732271658]\n",
       "13  109477140705   0.290746    0.602185   [9.290745853158406]\n",
       "14  109478060616   0.818553    0.452465  [0.5475354934572261]\n",
       "15  109478120108   1.153846    1.120111   [9.879889013245364]\n",
       "16  109478120133   1.769256    1.841440   [9.769256051319832]\n",
       "17  109478121154   1.000000    0.043188   [5.956812071613967]\n",
       "18  109478130104   1.641137    1.363756    [1.63624374287347]\n",
       "19  109478130109   0.846253    0.966315  [13.153746701605991]\n",
       "20  109478130361   0.077886    0.004245  [13.995755116144602]\n",
       "21  109478130515   0.692305    0.889341   [18.30769453885721]\n",
       "22  109478130516   0.648020    0.367198  [13.632802128704233]\n",
       "23  109478130737   0.685237    0.299431   [20.29943065661336]\n",
       "24  109478130739   2.438757    1.676191  [14.676190528862836]\n",
       "25  109478130868   1.338215    1.212295  [15.787704635889902]\n",
       "26  109478131055   4.000000    2.956812  [19.956812071613967]\n",
       "27  109479140148   3.646999    2.866688  [17.133312337866066]\n",
       "28  109479140506   0.692350    0.889363   [19.30764985075099]\n",
       "29  109480120148   0.269092    0.591358  [2.2690924201717797]\n",
       "30  109480120395   2.616666    2.265145  [20.265144844570322]\n",
       "31  111395130027   2.077044    1.995334   [11.99533401662572]\n",
       "32  124440130048   1.621973    1.854174   [8.378027391443197]\n",
       "33  124635120016   2.000529    1.957077   [9.957076771695247]\n",
       "34  130428130173   0.230769    0.072197  [15.072196606083793]\n",
       "35  136470130026   1.596129    1.841252  [15.403870894076865]\n",
       "36  136540141587   1.000000    0.043188  [16.956812071613967]\n",
       "37  136541122414   1.843951    1.965164  [14.156048839906596]\n",
       "38  136545120177   2.000000    1.543188   [5.456812071613967]\n",
       "39  136573130994   4.250967    2.582296  [11.582295598032903]\n",
       "40  136584130063   1.846320    1.966348  [16.153680028833158]\n",
       "41  165502090205   0.384646    0.235511   [9.764489276672442]\n",
       "42  165502120357   0.614583    0.850479   [19.38541728770526]\n",
       "43  165502130414   0.461235    0.273805    [5.72619479204476]\n",
       "44  165502140223   1.483957    1.198791  [15.198790591584665]\n",
       "45  165502140518   1.727990    1.320807  [11.320806841897213]\n",
       "46  165509130091   2.000000    0.956812  [18.956812071613967]\n",
       "47  165510131492   2.017579    2.051977   [16.98242087764448]\n",
       "48  403072150096   0.803071    0.858347  [2.8030706346271685]\n",
       "49  425544150047   1.693871    0.890123   [16.10987677285463]\n",
       "50  425654150106   1.692264    1.389320  [0.6106802953514874]\n",
       "51  425687150112   1.667063    1.376719   [14.62328078602412]\n",
       "52  425770150029   1.153845    1.120110   [9.879889595545222]\n",
       "53  425808150085   0.815364    0.450870  [2.5491301856996174]\n",
       "54  482053160173   1.397699    1.155661   [6.155661328324991]\n",
       "55  488011150101   2.000000    0.956812   [11.95681207161397]\n",
       "56  488127150037   1.364242    1.638933  [12.364241951997366]"
      ]
     },
     "execution_count": 10,
     "metadata": {},
     "output_type": "execute_result"
    }
   ],
   "source": [
    "# train the arima model and make predictions\n",
    "mae_df = train_model(test_data_long)\n",
    "mae_df"
   ]
  },
  {
   "cell_type": "code",
   "execution_count": 11,
   "metadata": {},
   "outputs": [
    {
     "name": "stdout",
     "output_type": "stream",
     "text": [
      "1.357728234561667\n",
      "1.1797707435281464\n"
     ]
    }
   ],
   "source": [
    "print(mae_df[\"arima_mae\"].mean())\n",
    "print(mae_df[\"hybrid_mae\"].mean())"
   ]
  },
  {
   "cell_type": "code",
   "execution_count": 16,
   "metadata": {},
   "outputs": [
    {
     "name": "stdout",
     "output_type": "stream",
     "text": [
      "\u001b[1m1/1\u001b[0m \u001b[32m━━━━━━━━━━━━━━━━━━━━\u001b[0m\u001b[37m\u001b[0m \u001b[1m0s\u001b[0m 30ms/step\n"
     ]
    },
    {
     "name": "stderr",
     "output_type": "stream",
     "text": [
      "c:\\Users\\Luis\\Documents\\DevProjects\\esptfa-arima\\esptfa-arima-venv\\lib\\site-packages\\statsmodels\\tsa\\base\\tsa_model.py:473: ValueWarning: No frequency information was provided, so inferred frequency W-SUN will be used.\n",
      "  self._init_dates(dates, freq)\n",
      "c:\\Users\\Luis\\Documents\\DevProjects\\esptfa-arima\\esptfa-arima-venv\\lib\\site-packages\\statsmodels\\tsa\\base\\tsa_model.py:473: ValueWarning: No frequency information was provided, so inferred frequency W-SUN will be used.\n",
      "  self._init_dates(dates, freq)\n",
      "c:\\Users\\Luis\\Documents\\DevProjects\\esptfa-arima\\esptfa-arima-venv\\lib\\site-packages\\statsmodels\\tsa\\base\\tsa_model.py:473: ValueWarning: No frequency information was provided, so inferred frequency W-SUN will be used.\n",
      "  self._init_dates(dates, freq)\n",
      "c:\\Users\\Luis\\Documents\\DevProjects\\esptfa-arima\\esptfa-arima-venv\\lib\\site-packages\\statsmodels\\tsa\\base\\tsa_model.py:473: ValueWarning: No frequency information was provided, so inferred frequency W-SUN will be used.\n",
      "  self._init_dates(dates, freq)\n",
      "C:\\Users\\Luis\\AppData\\Local\\Temp\\ipykernel_4056\\2541929839.py:4: FutureWarning: Series.__getitem__ treating keys as positions is deprecated. In a future version, integer keys will always be treated as labels (consistent with DataFrame behavior). To access a value by position, use `ser.iloc[pos]`\n",
      "  arima_pred = arima_model.forecast(steps=1)[0]\n",
      "c:\\Users\\Luis\\Documents\\DevProjects\\esptfa-arima\\esptfa-arima-venv\\lib\\site-packages\\statsmodels\\tsa\\base\\tsa_model.py:473: ValueWarning: No frequency information was provided, so inferred frequency W-SUN will be used.\n",
      "  self._init_dates(dates, freq)\n",
      "c:\\Users\\Luis\\Documents\\DevProjects\\esptfa-arima\\esptfa-arima-venv\\lib\\site-packages\\statsmodels\\tsa\\base\\tsa_model.py:473: ValueWarning: No frequency information was provided, so inferred frequency W-SUN will be used.\n",
      "  self._init_dates(dates, freq)\n",
      "c:\\Users\\Luis\\Documents\\DevProjects\\esptfa-arima\\esptfa-arima-venv\\lib\\site-packages\\statsmodels\\tsa\\base\\tsa_model.py:473: ValueWarning: No frequency information was provided, so inferred frequency W-SUN will be used.\n",
      "  self._init_dates(dates, freq)\n",
      "c:\\Users\\Luis\\Documents\\DevProjects\\esptfa-arima\\esptfa-arima-venv\\lib\\site-packages\\statsmodels\\tsa\\base\\tsa_model.py:473: ValueWarning: No frequency information was provided, so inferred frequency W-SUN will be used.\n",
      "  self._init_dates(dates, freq)\n",
      "C:\\Users\\Luis\\AppData\\Local\\Temp\\ipykernel_4056\\2541929839.py:4: FutureWarning: Series.__getitem__ treating keys as positions is deprecated. In a future version, integer keys will always be treated as labels (consistent with DataFrame behavior). To access a value by position, use `ser.iloc[pos]`\n",
      "  arima_pred = arima_model.forecast(steps=1)[0]\n"
     ]
    },
    {
     "name": "stdout",
     "output_type": "stream",
     "text": [
      "\u001b[1m1/1\u001b[0m \u001b[32m━━━━━━━━━━━━━━━━━━━━\u001b[0m\u001b[37m\u001b[0m \u001b[1m0s\u001b[0m 50ms/step\n"
     ]
    },
    {
     "name": "stderr",
     "output_type": "stream",
     "text": [
      "c:\\Users\\Luis\\Documents\\DevProjects\\esptfa-arima\\esptfa-arima-venv\\lib\\site-packages\\statsmodels\\tsa\\base\\tsa_model.py:473: ValueWarning: No frequency information was provided, so inferred frequency W-SUN will be used.\n",
      "  self._init_dates(dates, freq)\n",
      "c:\\Users\\Luis\\Documents\\DevProjects\\esptfa-arima\\esptfa-arima-venv\\lib\\site-packages\\statsmodels\\base\\model.py:607: ConvergenceWarning: Maximum Likelihood optimization failed to converge. Check mle_retvals\n",
      "  warnings.warn(\"Maximum Likelihood optimization failed to \"\n",
      "c:\\Users\\Luis\\Documents\\DevProjects\\esptfa-arima\\esptfa-arima-venv\\lib\\site-packages\\statsmodels\\tsa\\base\\tsa_model.py:473: ValueWarning: No frequency information was provided, so inferred frequency W-SUN will be used.\n",
      "  self._init_dates(dates, freq)\n",
      "c:\\Users\\Luis\\Documents\\DevProjects\\esptfa-arima\\esptfa-arima-venv\\lib\\site-packages\\statsmodels\\tsa\\base\\tsa_model.py:473: ValueWarning: No frequency information was provided, so inferred frequency W-SUN will be used.\n",
      "  self._init_dates(dates, freq)\n",
      "c:\\Users\\Luis\\Documents\\DevProjects\\esptfa-arima\\esptfa-arima-venv\\lib\\site-packages\\statsmodels\\tsa\\base\\tsa_model.py:473: ValueWarning: No frequency information was provided, so inferred frequency W-SUN will be used.\n",
      "  self._init_dates(dates, freq)\n",
      "c:\\Users\\Luis\\Documents\\DevProjects\\esptfa-arima\\esptfa-arima-venv\\lib\\site-packages\\statsmodels\\tsa\\statespace\\sarimax.py:966: UserWarning: Non-stationary starting autoregressive parameters found. Using zeros as starting parameters.\n",
      "  warn('Non-stationary starting autoregressive parameters'\n",
      "c:\\Users\\Luis\\Documents\\DevProjects\\esptfa-arima\\esptfa-arima-venv\\lib\\site-packages\\statsmodels\\tsa\\statespace\\sarimax.py:978: UserWarning: Non-invertible starting MA parameters found. Using zeros as starting parameters.\n",
      "  warn('Non-invertible starting MA parameters found.'\n",
      "C:\\Users\\Luis\\AppData\\Local\\Temp\\ipykernel_4056\\2541929839.py:4: FutureWarning: Series.__getitem__ treating keys as positions is deprecated. In a future version, integer keys will always be treated as labels (consistent with DataFrame behavior). To access a value by position, use `ser.iloc[pos]`\n",
      "  arima_pred = arima_model.forecast(steps=1)[0]\n"
     ]
    },
    {
     "name": "stdout",
     "output_type": "stream",
     "text": [
      "\u001b[1m1/1\u001b[0m \u001b[32m━━━━━━━━━━━━━━━━━━━━\u001b[0m\u001b[37m\u001b[0m \u001b[1m0s\u001b[0m 47ms/step\n"
     ]
    },
    {
     "name": "stderr",
     "output_type": "stream",
     "text": [
      "c:\\Users\\Luis\\Documents\\DevProjects\\esptfa-arima\\esptfa-arima-venv\\lib\\site-packages\\statsmodels\\tsa\\base\\tsa_model.py:473: ValueWarning: No frequency information was provided, so inferred frequency W-SUN will be used.\n",
      "  self._init_dates(dates, freq)\n",
      "c:\\Users\\Luis\\Documents\\DevProjects\\esptfa-arima\\esptfa-arima-venv\\lib\\site-packages\\statsmodels\\tsa\\base\\tsa_model.py:473: ValueWarning: No frequency information was provided, so inferred frequency W-SUN will be used.\n",
      "  self._init_dates(dates, freq)\n",
      "c:\\Users\\Luis\\Documents\\DevProjects\\esptfa-arima\\esptfa-arima-venv\\lib\\site-packages\\statsmodels\\tsa\\base\\tsa_model.py:473: ValueWarning: No frequency information was provided, so inferred frequency W-SUN will be used.\n",
      "  self._init_dates(dates, freq)\n",
      "c:\\Users\\Luis\\Documents\\DevProjects\\esptfa-arima\\esptfa-arima-venv\\lib\\site-packages\\statsmodels\\tsa\\base\\tsa_model.py:473: ValueWarning: No frequency information was provided, so inferred frequency W-SUN will be used.\n",
      "  self._init_dates(dates, freq)\n",
      "C:\\Users\\Luis\\AppData\\Local\\Temp\\ipykernel_4056\\2541929839.py:4: FutureWarning: Series.__getitem__ treating keys as positions is deprecated. In a future version, integer keys will always be treated as labels (consistent with DataFrame behavior). To access a value by position, use `ser.iloc[pos]`\n",
      "  arima_pred = arima_model.forecast(steps=1)[0]\n"
     ]
    },
    {
     "name": "stdout",
     "output_type": "stream",
     "text": [
      "\u001b[1m1/1\u001b[0m \u001b[32m━━━━━━━━━━━━━━━━━━━━\u001b[0m\u001b[37m\u001b[0m \u001b[1m0s\u001b[0m 49ms/step\n",
      "\u001b[1m1/1\u001b[0m \u001b[32m━━━━━━━━━━━━━━━━━━━━\u001b[0m\u001b[37m\u001b[0m \u001b[1m0s\u001b[0m 26ms/step"
     ]
    },
    {
     "name": "stderr",
     "output_type": "stream",
     "text": [
      "c:\\Users\\Luis\\Documents\\DevProjects\\esptfa-arima\\esptfa-arima-venv\\lib\\site-packages\\statsmodels\\tsa\\base\\tsa_model.py:473: ValueWarning: No frequency information was provided, so inferred frequency W-SUN will be used.\n",
      "  self._init_dates(dates, freq)\n",
      "c:\\Users\\Luis\\Documents\\DevProjects\\esptfa-arima\\esptfa-arima-venv\\lib\\site-packages\\statsmodels\\tsa\\base\\tsa_model.py:473: ValueWarning: No frequency information was provided, so inferred frequency W-SUN will be used.\n",
      "  self._init_dates(dates, freq)\n",
      "c:\\Users\\Luis\\Documents\\DevProjects\\esptfa-arima\\esptfa-arima-venv\\lib\\site-packages\\statsmodels\\tsa\\base\\tsa_model.py:473: ValueWarning: No frequency information was provided, so inferred frequency W-SUN will be used.\n",
      "  self._init_dates(dates, freq)\n",
      "c:\\Users\\Luis\\Documents\\DevProjects\\esptfa-arima\\esptfa-arima-venv\\lib\\site-packages\\statsmodels\\tsa\\base\\tsa_model.py:473: ValueWarning: No frequency information was provided, so inferred frequency W-SUN will be used.\n",
      "  self._init_dates(dates, freq)\n",
      "c:\\Users\\Luis\\Documents\\DevProjects\\esptfa-arima\\esptfa-arima-venv\\lib\\site-packages\\statsmodels\\tsa\\statespace\\sarimax.py:966: UserWarning: Non-stationary starting autoregressive parameters found. Using zeros as starting parameters.\n",
      "  warn('Non-stationary starting autoregressive parameters'\n",
      "c:\\Users\\Luis\\Documents\\DevProjects\\esptfa-arima\\esptfa-arima-venv\\lib\\site-packages\\statsmodels\\tsa\\statespace\\sarimax.py:978: UserWarning: Non-invertible starting MA parameters found. Using zeros as starting parameters.\n",
      "  warn('Non-invertible starting MA parameters found.'\n",
      "C:\\Users\\Luis\\AppData\\Local\\Temp\\ipykernel_4056\\2541929839.py:4: FutureWarning: Series.__getitem__ treating keys as positions is deprecated. In a future version, integer keys will always be treated as labels (consistent with DataFrame behavior). To access a value by position, use `ser.iloc[pos]`\n",
      "  arima_pred = arima_model.forecast(steps=1)[0]\n"
     ]
    },
    {
     "name": "stdout",
     "output_type": "stream",
     "text": [
      "\u001b[1m1/1\u001b[0m \u001b[32m━━━━━━━━━━━━━━━━━━━━\u001b[0m\u001b[37m\u001b[0m \u001b[1m0s\u001b[0m 45ms/step\n"
     ]
    },
    {
     "name": "stderr",
     "output_type": "stream",
     "text": [
      "c:\\Users\\Luis\\Documents\\DevProjects\\esptfa-arima\\esptfa-arima-venv\\lib\\site-packages\\statsmodels\\tsa\\base\\tsa_model.py:473: ValueWarning: No frequency information was provided, so inferred frequency W-SUN will be used.\n",
      "  self._init_dates(dates, freq)\n",
      "c:\\Users\\Luis\\Documents\\DevProjects\\esptfa-arima\\esptfa-arima-venv\\lib\\site-packages\\statsmodels\\tsa\\base\\tsa_model.py:473: ValueWarning: No frequency information was provided, so inferred frequency W-SUN will be used.\n",
      "  self._init_dates(dates, freq)\n",
      "c:\\Users\\Luis\\Documents\\DevProjects\\esptfa-arima\\esptfa-arima-venv\\lib\\site-packages\\statsmodels\\tsa\\base\\tsa_model.py:473: ValueWarning: No frequency information was provided, so inferred frequency W-SUN will be used.\n",
      "  self._init_dates(dates, freq)\n",
      "c:\\Users\\Luis\\Documents\\DevProjects\\esptfa-arima\\esptfa-arima-venv\\lib\\site-packages\\statsmodels\\tsa\\base\\tsa_model.py:473: ValueWarning: No frequency information was provided, so inferred frequency W-SUN will be used.\n",
      "  self._init_dates(dates, freq)\n",
      "c:\\Users\\Luis\\Documents\\DevProjects\\esptfa-arima\\esptfa-arima-venv\\lib\\site-packages\\statsmodels\\tsa\\statespace\\sarimax.py:966: UserWarning: Non-stationary starting autoregressive parameters found. Using zeros as starting parameters.\n",
      "  warn('Non-stationary starting autoregressive parameters'\n",
      "c:\\Users\\Luis\\Documents\\DevProjects\\esptfa-arima\\esptfa-arima-venv\\lib\\site-packages\\statsmodels\\tsa\\statespace\\sarimax.py:978: UserWarning: Non-invertible starting MA parameters found. Using zeros as starting parameters.\n",
      "  warn('Non-invertible starting MA parameters found.'\n",
      "C:\\Users\\Luis\\AppData\\Local\\Temp\\ipykernel_4056\\2541929839.py:4: FutureWarning: Series.__getitem__ treating keys as positions is deprecated. In a future version, integer keys will always be treated as labels (consistent with DataFrame behavior). To access a value by position, use `ser.iloc[pos]`\n",
      "  arima_pred = arima_model.forecast(steps=1)[0]\n"
     ]
    },
    {
     "name": "stdout",
     "output_type": "stream",
     "text": [
      "\u001b[1m1/1\u001b[0m \u001b[32m━━━━━━━━━━━━━━━━━━━━\u001b[0m\u001b[37m\u001b[0m \u001b[1m0s\u001b[0m 64ms/step\n",
      "\u001b[1m1/1\u001b[0m \u001b[32m━━━━━━━━━━━━━━━━━━━━\u001b[0m\u001b[37m\u001b[0m \u001b[1m0s\u001b[0m 32ms/step\n"
     ]
    },
    {
     "name": "stderr",
     "output_type": "stream",
     "text": [
      "c:\\Users\\Luis\\Documents\\DevProjects\\esptfa-arima\\esptfa-arima-venv\\lib\\site-packages\\statsmodels\\tsa\\base\\tsa_model.py:473: ValueWarning: No frequency information was provided, so inferred frequency W-SUN will be used.\n",
      "  self._init_dates(dates, freq)\n",
      "c:\\Users\\Luis\\Documents\\DevProjects\\esptfa-arima\\esptfa-arima-venv\\lib\\site-packages\\statsmodels\\tsa\\base\\tsa_model.py:473: ValueWarning: No frequency information was provided, so inferred frequency W-SUN will be used.\n",
      "  self._init_dates(dates, freq)\n",
      "c:\\Users\\Luis\\Documents\\DevProjects\\esptfa-arima\\esptfa-arima-venv\\lib\\site-packages\\statsmodels\\tsa\\base\\tsa_model.py:473: ValueWarning: No frequency information was provided, so inferred frequency W-SUN will be used.\n",
      "  self._init_dates(dates, freq)\n",
      "c:\\Users\\Luis\\Documents\\DevProjects\\esptfa-arima\\esptfa-arima-venv\\lib\\site-packages\\statsmodels\\tsa\\base\\tsa_model.py:473: ValueWarning: No frequency information was provided, so inferred frequency W-SUN will be used.\n",
      "  self._init_dates(dates, freq)\n",
      "c:\\Users\\Luis\\Documents\\DevProjects\\esptfa-arima\\esptfa-arima-venv\\lib\\site-packages\\statsmodels\\tsa\\statespace\\sarimax.py:978: UserWarning: Non-invertible starting MA parameters found. Using zeros as starting parameters.\n",
      "  warn('Non-invertible starting MA parameters found.'\n",
      "C:\\Users\\Luis\\AppData\\Local\\Temp\\ipykernel_4056\\2541929839.py:4: FutureWarning: Series.__getitem__ treating keys as positions is deprecated. In a future version, integer keys will always be treated as labels (consistent with DataFrame behavior). To access a value by position, use `ser.iloc[pos]`\n",
      "  arima_pred = arima_model.forecast(steps=1)[0]\n",
      "c:\\Users\\Luis\\Documents\\DevProjects\\esptfa-arima\\esptfa-arima-venv\\lib\\site-packages\\statsmodels\\tsa\\base\\tsa_model.py:473: ValueWarning: No frequency information was provided, so inferred frequency W-SUN will be used.\n",
      "  self._init_dates(dates, freq)\n",
      "c:\\Users\\Luis\\Documents\\DevProjects\\esptfa-arima\\esptfa-arima-venv\\lib\\site-packages\\statsmodels\\tsa\\base\\tsa_model.py:473: ValueWarning: No frequency information was provided, so inferred frequency W-SUN will be used.\n",
      "  self._init_dates(dates, freq)\n"
     ]
    },
    {
     "name": "stdout",
     "output_type": "stream",
     "text": [
      "\u001b[1m1/1\u001b[0m \u001b[32m━━━━━━━━━━━━━━━━━━━━\u001b[0m\u001b[37m\u001b[0m \u001b[1m0s\u001b[0m 33ms/step\n"
     ]
    },
    {
     "name": "stderr",
     "output_type": "stream",
     "text": [
      "c:\\Users\\Luis\\Documents\\DevProjects\\esptfa-arima\\esptfa-arima-venv\\lib\\site-packages\\statsmodels\\tsa\\base\\tsa_model.py:473: ValueWarning: No frequency information was provided, so inferred frequency W-SUN will be used.\n",
      "  self._init_dates(dates, freq)\n",
      "c:\\Users\\Luis\\Documents\\DevProjects\\esptfa-arima\\esptfa-arima-venv\\lib\\site-packages\\statsmodels\\tsa\\base\\tsa_model.py:473: ValueWarning: No frequency information was provided, so inferred frequency W-SUN will be used.\n",
      "  self._init_dates(dates, freq)\n",
      "c:\\Users\\Luis\\Documents\\DevProjects\\esptfa-arima\\esptfa-arima-venv\\lib\\site-packages\\statsmodels\\tsa\\statespace\\sarimax.py:978: UserWarning: Non-invertible starting MA parameters found. Using zeros as starting parameters.\n",
      "  warn('Non-invertible starting MA parameters found.'\n",
      "C:\\Users\\Luis\\AppData\\Local\\Temp\\ipykernel_4056\\2541929839.py:4: FutureWarning: Series.__getitem__ treating keys as positions is deprecated. In a future version, integer keys will always be treated as labels (consistent with DataFrame behavior). To access a value by position, use `ser.iloc[pos]`\n",
      "  arima_pred = arima_model.forecast(steps=1)[0]\n",
      "c:\\Users\\Luis\\Documents\\DevProjects\\esptfa-arima\\esptfa-arima-venv\\lib\\site-packages\\statsmodels\\tsa\\base\\tsa_model.py:473: ValueWarning: No frequency information was provided, so inferred frequency W-SUN will be used.\n",
      "  self._init_dates(dates, freq)\n",
      "c:\\Users\\Luis\\Documents\\DevProjects\\esptfa-arima\\esptfa-arima-venv\\lib\\site-packages\\statsmodels\\tsa\\base\\tsa_model.py:473: ValueWarning: No frequency information was provided, so inferred frequency W-SUN will be used.\n",
      "  self._init_dates(dates, freq)\n",
      "c:\\Users\\Luis\\Documents\\DevProjects\\esptfa-arima\\esptfa-arima-venv\\lib\\site-packages\\statsmodels\\tsa\\base\\tsa_model.py:473: ValueWarning: No frequency information was provided, so inferred frequency W-SUN will be used.\n",
      "  self._init_dates(dates, freq)\n"
     ]
    },
    {
     "name": "stdout",
     "output_type": "stream",
     "text": [
      "\u001b[1m1/1\u001b[0m \u001b[32m━━━━━━━━━━━━━━━━━━━━\u001b[0m\u001b[37m\u001b[0m \u001b[1m0s\u001b[0m 26ms/step\n"
     ]
    },
    {
     "name": "stderr",
     "output_type": "stream",
     "text": [
      "c:\\Users\\Luis\\Documents\\DevProjects\\esptfa-arima\\esptfa-arima-venv\\lib\\site-packages\\statsmodels\\tsa\\base\\tsa_model.py:473: ValueWarning: No frequency information was provided, so inferred frequency W-SUN will be used.\n",
      "  self._init_dates(dates, freq)\n",
      "C:\\Users\\Luis\\AppData\\Local\\Temp\\ipykernel_4056\\2541929839.py:4: FutureWarning: Series.__getitem__ treating keys as positions is deprecated. In a future version, integer keys will always be treated as labels (consistent with DataFrame behavior). To access a value by position, use `ser.iloc[pos]`\n",
      "  arima_pred = arima_model.forecast(steps=1)[0]\n",
      "c:\\Users\\Luis\\Documents\\DevProjects\\esptfa-arima\\esptfa-arima-venv\\lib\\site-packages\\statsmodels\\tsa\\base\\tsa_model.py:473: ValueWarning: No frequency information was provided, so inferred frequency W-SUN will be used.\n",
      "  self._init_dates(dates, freq)\n",
      "c:\\Users\\Luis\\Documents\\DevProjects\\esptfa-arima\\esptfa-arima-venv\\lib\\site-packages\\statsmodels\\tsa\\base\\tsa_model.py:473: ValueWarning: No frequency information was provided, so inferred frequency W-SUN will be used.\n",
      "  self._init_dates(dates, freq)\n",
      "c:\\Users\\Luis\\Documents\\DevProjects\\esptfa-arima\\esptfa-arima-venv\\lib\\site-packages\\statsmodels\\tsa\\base\\tsa_model.py:473: ValueWarning: No frequency information was provided, so inferred frequency W-SUN will be used.\n",
      "  self._init_dates(dates, freq)\n"
     ]
    },
    {
     "name": "stdout",
     "output_type": "stream",
     "text": [
      "\u001b[1m1/1\u001b[0m \u001b[32m━━━━━━━━━━━━━━━━━━━━\u001b[0m\u001b[37m\u001b[0m \u001b[1m0s\u001b[0m 32ms/step\n"
     ]
    },
    {
     "name": "stderr",
     "output_type": "stream",
     "text": [
      "c:\\Users\\Luis\\Documents\\DevProjects\\esptfa-arima\\esptfa-arima-venv\\lib\\site-packages\\statsmodels\\tsa\\base\\tsa_model.py:473: ValueWarning: No frequency information was provided, so inferred frequency W-SUN will be used.\n",
      "  self._init_dates(dates, freq)\n",
      "C:\\Users\\Luis\\AppData\\Local\\Temp\\ipykernel_4056\\2541929839.py:4: FutureWarning: Series.__getitem__ treating keys as positions is deprecated. In a future version, integer keys will always be treated as labels (consistent with DataFrame behavior). To access a value by position, use `ser.iloc[pos]`\n",
      "  arima_pred = arima_model.forecast(steps=1)[0]\n"
     ]
    },
    {
     "name": "stdout",
     "output_type": "stream",
     "text": [
      "\u001b[1m1/1\u001b[0m \u001b[32m━━━━━━━━━━━━━━━━━━━━\u001b[0m\u001b[37m\u001b[0m \u001b[1m0s\u001b[0m 16ms/step"
     ]
    },
    {
     "name": "stderr",
     "output_type": "stream",
     "text": [
      "c:\\Users\\Luis\\Documents\\DevProjects\\esptfa-arima\\esptfa-arima-venv\\lib\\site-packages\\statsmodels\\tsa\\base\\tsa_model.py:473: ValueWarning: No frequency information was provided, so inferred frequency W-SUN will be used.\n",
      "  self._init_dates(dates, freq)\n",
      "c:\\Users\\Luis\\Documents\\DevProjects\\esptfa-arima\\esptfa-arima-venv\\lib\\site-packages\\statsmodels\\base\\model.py:607: ConvergenceWarning: Maximum Likelihood optimization failed to converge. Check mle_retvals\n",
      "  warnings.warn(\"Maximum Likelihood optimization failed to \"\n",
      "c:\\Users\\Luis\\Documents\\DevProjects\\esptfa-arima\\esptfa-arima-venv\\lib\\site-packages\\statsmodels\\tsa\\base\\tsa_model.py:473: ValueWarning: No frequency information was provided, so inferred frequency W-SUN will be used.\n",
      "  self._init_dates(dates, freq)\n",
      "c:\\Users\\Luis\\Documents\\DevProjects\\esptfa-arima\\esptfa-arima-venv\\lib\\site-packages\\statsmodels\\tsa\\base\\tsa_model.py:473: ValueWarning: No frequency information was provided, so inferred frequency W-SUN will be used.\n",
      "  self._init_dates(dates, freq)\n",
      "c:\\Users\\Luis\\Documents\\DevProjects\\esptfa-arima\\esptfa-arima-venv\\lib\\site-packages\\statsmodels\\tsa\\base\\tsa_model.py:473: ValueWarning: No frequency information was provided, so inferred frequency W-SUN will be used.\n",
      "  self._init_dates(dates, freq)\n",
      "C:\\Users\\Luis\\AppData\\Local\\Temp\\ipykernel_4056\\2541929839.py:4: FutureWarning: Series.__getitem__ treating keys as positions is deprecated. In a future version, integer keys will always be treated as labels (consistent with DataFrame behavior). To access a value by position, use `ser.iloc[pos]`\n",
      "  arima_pred = arima_model.forecast(steps=1)[0]\n"
     ]
    },
    {
     "name": "stdout",
     "output_type": "stream",
     "text": [
      "\u001b[1m1/1\u001b[0m \u001b[32m━━━━━━━━━━━━━━━━━━━━\u001b[0m\u001b[37m\u001b[0m \u001b[1m0s\u001b[0m 32ms/step\n",
      "\u001b[1m1/1\u001b[0m \u001b[32m━━━━━━━━━━━━━━━━━━━━\u001b[0m\u001b[37m\u001b[0m \u001b[1m0s\u001b[0m 29ms/step\n"
     ]
    },
    {
     "name": "stderr",
     "output_type": "stream",
     "text": [
      "c:\\Users\\Luis\\Documents\\DevProjects\\esptfa-arima\\esptfa-arima-venv\\lib\\site-packages\\statsmodels\\tsa\\base\\tsa_model.py:473: ValueWarning: No frequency information was provided, so inferred frequency W-SUN will be used.\n",
      "  self._init_dates(dates, freq)\n",
      "c:\\Users\\Luis\\Documents\\DevProjects\\esptfa-arima\\esptfa-arima-venv\\lib\\site-packages\\statsmodels\\tsa\\base\\tsa_model.py:473: ValueWarning: No frequency information was provided, so inferred frequency W-SUN will be used.\n",
      "  self._init_dates(dates, freq)\n",
      "c:\\Users\\Luis\\Documents\\DevProjects\\esptfa-arima\\esptfa-arima-venv\\lib\\site-packages\\statsmodels\\tsa\\statespace\\sarimax.py:978: UserWarning: Non-invertible starting MA parameters found. Using zeros as starting parameters.\n",
      "  warn('Non-invertible starting MA parameters found.'\n",
      "c:\\Users\\Luis\\Documents\\DevProjects\\esptfa-arima\\esptfa-arima-venv\\lib\\site-packages\\statsmodels\\tsa\\base\\tsa_model.py:473: ValueWarning: No frequency information was provided, so inferred frequency W-SUN will be used.\n",
      "  self._init_dates(dates, freq)\n",
      "c:\\Users\\Luis\\Documents\\DevProjects\\esptfa-arima\\esptfa-arima-venv\\lib\\site-packages\\statsmodels\\tsa\\base\\tsa_model.py:473: ValueWarning: No frequency information was provided, so inferred frequency W-SUN will be used.\n",
      "  self._init_dates(dates, freq)\n",
      "C:\\Users\\Luis\\AppData\\Local\\Temp\\ipykernel_4056\\2541929839.py:4: FutureWarning: Series.__getitem__ treating keys as positions is deprecated. In a future version, integer keys will always be treated as labels (consistent with DataFrame behavior). To access a value by position, use `ser.iloc[pos]`\n",
      "  arima_pred = arima_model.forecast(steps=1)[0]\n",
      "c:\\Users\\Luis\\Documents\\DevProjects\\esptfa-arima\\esptfa-arima-venv\\lib\\site-packages\\statsmodels\\tsa\\base\\tsa_model.py:473: ValueWarning: No frequency information was provided, so inferred frequency W-SUN will be used.\n",
      "  self._init_dates(dates, freq)\n",
      "c:\\Users\\Luis\\Documents\\DevProjects\\esptfa-arima\\esptfa-arima-venv\\lib\\site-packages\\statsmodels\\tsa\\base\\tsa_model.py:473: ValueWarning: No frequency information was provided, so inferred frequency W-SUN will be used.\n",
      "  self._init_dates(dates, freq)\n"
     ]
    },
    {
     "name": "stdout",
     "output_type": "stream",
     "text": [
      "\u001b[1m1/1\u001b[0m \u001b[32m━━━━━━━━━━━━━━━━━━━━\u001b[0m\u001b[37m\u001b[0m \u001b[1m0s\u001b[0m 36ms/step\n"
     ]
    },
    {
     "name": "stderr",
     "output_type": "stream",
     "text": [
      "c:\\Users\\Luis\\Documents\\DevProjects\\esptfa-arima\\esptfa-arima-venv\\lib\\site-packages\\statsmodels\\tsa\\base\\tsa_model.py:473: ValueWarning: No frequency information was provided, so inferred frequency W-SUN will be used.\n",
      "  self._init_dates(dates, freq)\n",
      "c:\\Users\\Luis\\Documents\\DevProjects\\esptfa-arima\\esptfa-arima-venv\\lib\\site-packages\\statsmodels\\tsa\\base\\tsa_model.py:473: ValueWarning: No frequency information was provided, so inferred frequency W-SUN will be used.\n",
      "  self._init_dates(dates, freq)\n",
      "C:\\Users\\Luis\\AppData\\Local\\Temp\\ipykernel_4056\\2541929839.py:4: FutureWarning: Series.__getitem__ treating keys as positions is deprecated. In a future version, integer keys will always be treated as labels (consistent with DataFrame behavior). To access a value by position, use `ser.iloc[pos]`\n",
      "  arima_pred = arima_model.forecast(steps=1)[0]\n",
      "c:\\Users\\Luis\\Documents\\DevProjects\\esptfa-arima\\esptfa-arima-venv\\lib\\site-packages\\statsmodels\\tsa\\base\\tsa_model.py:473: ValueWarning: No frequency information was provided, so inferred frequency W-SUN will be used.\n",
      "  self._init_dates(dates, freq)\n",
      "c:\\Users\\Luis\\Documents\\DevProjects\\esptfa-arima\\esptfa-arima-venv\\lib\\site-packages\\statsmodels\\base\\model.py:607: ConvergenceWarning: Maximum Likelihood optimization failed to converge. Check mle_retvals\n",
      "  warnings.warn(\"Maximum Likelihood optimization failed to \"\n",
      "c:\\Users\\Luis\\Documents\\DevProjects\\esptfa-arima\\esptfa-arima-venv\\lib\\site-packages\\statsmodels\\tsa\\base\\tsa_model.py:473: ValueWarning: No frequency information was provided, so inferred frequency W-SUN will be used.\n",
      "  self._init_dates(dates, freq)\n",
      "c:\\Users\\Luis\\Documents\\DevProjects\\esptfa-arima\\esptfa-arima-venv\\lib\\site-packages\\statsmodels\\tsa\\base\\tsa_model.py:473: ValueWarning: No frequency information was provided, so inferred frequency W-SUN will be used.\n",
      "  self._init_dates(dates, freq)\n"
     ]
    },
    {
     "name": "stdout",
     "output_type": "stream",
     "text": [
      "\u001b[1m1/1\u001b[0m \u001b[32m━━━━━━━━━━━━━━━━━━━━\u001b[0m\u001b[37m\u001b[0m \u001b[1m0s\u001b[0m 44ms/step\n"
     ]
    },
    {
     "name": "stderr",
     "output_type": "stream",
     "text": [
      "c:\\Users\\Luis\\Documents\\DevProjects\\esptfa-arima\\esptfa-arima-venv\\lib\\site-packages\\statsmodels\\tsa\\base\\tsa_model.py:473: ValueWarning: No frequency information was provided, so inferred frequency W-SUN will be used.\n",
      "  self._init_dates(dates, freq)\n",
      "C:\\Users\\Luis\\AppData\\Local\\Temp\\ipykernel_4056\\2541929839.py:4: FutureWarning: Series.__getitem__ treating keys as positions is deprecated. In a future version, integer keys will always be treated as labels (consistent with DataFrame behavior). To access a value by position, use `ser.iloc[pos]`\n",
      "  arima_pred = arima_model.forecast(steps=1)[0]\n",
      "c:\\Users\\Luis\\Documents\\DevProjects\\esptfa-arima\\esptfa-arima-venv\\lib\\site-packages\\statsmodels\\tsa\\base\\tsa_model.py:473: ValueWarning: No frequency information was provided, so inferred frequency W-SUN will be used.\n",
      "  self._init_dates(dates, freq)\n",
      "c:\\Users\\Luis\\Documents\\DevProjects\\esptfa-arima\\esptfa-arima-venv\\lib\\site-packages\\statsmodels\\base\\model.py:607: ConvergenceWarning: Maximum Likelihood optimization failed to converge. Check mle_retvals\n",
      "  warnings.warn(\"Maximum Likelihood optimization failed to \"\n",
      "c:\\Users\\Luis\\Documents\\DevProjects\\esptfa-arima\\esptfa-arima-venv\\lib\\site-packages\\statsmodels\\tsa\\base\\tsa_model.py:473: ValueWarning: No frequency information was provided, so inferred frequency W-SUN will be used.\n",
      "  self._init_dates(dates, freq)\n",
      "c:\\Users\\Luis\\Documents\\DevProjects\\esptfa-arima\\esptfa-arima-venv\\lib\\site-packages\\statsmodels\\tsa\\base\\tsa_model.py:473: ValueWarning: No frequency information was provided, so inferred frequency W-SUN will be used.\n",
      "  self._init_dates(dates, freq)\n"
     ]
    },
    {
     "name": "stdout",
     "output_type": "stream",
     "text": [
      "\u001b[1m1/1\u001b[0m \u001b[32m━━━━━━━━━━━━━━━━━━━━\u001b[0m\u001b[37m\u001b[0m \u001b[1m0s\u001b[0m 27ms/step\n"
     ]
    },
    {
     "name": "stderr",
     "output_type": "stream",
     "text": [
      "c:\\Users\\Luis\\Documents\\DevProjects\\esptfa-arima\\esptfa-arima-venv\\lib\\site-packages\\statsmodels\\tsa\\base\\tsa_model.py:473: ValueWarning: No frequency information was provided, so inferred frequency W-SUN will be used.\n",
      "  self._init_dates(dates, freq)\n",
      "c:\\Users\\Luis\\Documents\\DevProjects\\esptfa-arima\\esptfa-arima-venv\\lib\\site-packages\\statsmodels\\tsa\\statespace\\sarimax.py:966: UserWarning: Non-stationary starting autoregressive parameters found. Using zeros as starting parameters.\n",
      "  warn('Non-stationary starting autoregressive parameters'\n",
      "c:\\Users\\Luis\\Documents\\DevProjects\\esptfa-arima\\esptfa-arima-venv\\lib\\site-packages\\statsmodels\\tsa\\statespace\\sarimax.py:978: UserWarning: Non-invertible starting MA parameters found. Using zeros as starting parameters.\n",
      "  warn('Non-invertible starting MA parameters found.'\n",
      "C:\\Users\\Luis\\AppData\\Local\\Temp\\ipykernel_4056\\2541929839.py:4: FutureWarning: Series.__getitem__ treating keys as positions is deprecated. In a future version, integer keys will always be treated as labels (consistent with DataFrame behavior). To access a value by position, use `ser.iloc[pos]`\n",
      "  arima_pred = arima_model.forecast(steps=1)[0]\n",
      "c:\\Users\\Luis\\Documents\\DevProjects\\esptfa-arima\\esptfa-arima-venv\\lib\\site-packages\\statsmodels\\tsa\\base\\tsa_model.py:473: ValueWarning: No frequency information was provided, so inferred frequency W-SUN will be used.\n",
      "  self._init_dates(dates, freq)\n",
      "c:\\Users\\Luis\\Documents\\DevProjects\\esptfa-arima\\esptfa-arima-venv\\lib\\site-packages\\statsmodels\\tsa\\base\\tsa_model.py:473: ValueWarning: No frequency information was provided, so inferred frequency W-SUN will be used.\n",
      "  self._init_dates(dates, freq)\n",
      "c:\\Users\\Luis\\Documents\\DevProjects\\esptfa-arima\\esptfa-arima-venv\\lib\\site-packages\\statsmodels\\tsa\\base\\tsa_model.py:473: ValueWarning: No frequency information was provided, so inferred frequency W-SUN will be used.\n",
      "  self._init_dates(dates, freq)\n"
     ]
    },
    {
     "name": "stdout",
     "output_type": "stream",
     "text": [
      "\u001b[1m1/1\u001b[0m \u001b[32m━━━━━━━━━━━━━━━━━━━━\u001b[0m\u001b[37m\u001b[0m \u001b[1m0s\u001b[0m 32ms/step\n"
     ]
    },
    {
     "name": "stderr",
     "output_type": "stream",
     "text": [
      "c:\\Users\\Luis\\Documents\\DevProjects\\esptfa-arima\\esptfa-arima-venv\\lib\\site-packages\\statsmodels\\tsa\\base\\tsa_model.py:473: ValueWarning: No frequency information was provided, so inferred frequency W-SUN will be used.\n",
      "  self._init_dates(dates, freq)\n",
      "C:\\Users\\Luis\\AppData\\Local\\Temp\\ipykernel_4056\\2541929839.py:4: FutureWarning: Series.__getitem__ treating keys as positions is deprecated. In a future version, integer keys will always be treated as labels (consistent with DataFrame behavior). To access a value by position, use `ser.iloc[pos]`\n",
      "  arima_pred = arima_model.forecast(steps=1)[0]\n",
      "c:\\Users\\Luis\\Documents\\DevProjects\\esptfa-arima\\esptfa-arima-venv\\lib\\site-packages\\statsmodels\\tsa\\base\\tsa_model.py:473: ValueWarning: No frequency information was provided, so inferred frequency W-SUN will be used.\n",
      "  self._init_dates(dates, freq)\n",
      "c:\\Users\\Luis\\Documents\\DevProjects\\esptfa-arima\\esptfa-arima-venv\\lib\\site-packages\\statsmodels\\tsa\\base\\tsa_model.py:473: ValueWarning: No frequency information was provided, so inferred frequency W-SUN will be used.\n",
      "  self._init_dates(dates, freq)\n",
      "c:\\Users\\Luis\\Documents\\DevProjects\\esptfa-arima\\esptfa-arima-venv\\lib\\site-packages\\statsmodels\\tsa\\statespace\\sarimax.py:978: UserWarning: Non-invertible starting MA parameters found. Using zeros as starting parameters.\n",
      "  warn('Non-invertible starting MA parameters found.'\n"
     ]
    },
    {
     "name": "stdout",
     "output_type": "stream",
     "text": [
      "\u001b[1m1/1\u001b[0m \u001b[32m━━━━━━━━━━━━━━━━━━━━\u001b[0m\u001b[37m\u001b[0m \u001b[1m0s\u001b[0m 30ms/step\n"
     ]
    },
    {
     "name": "stderr",
     "output_type": "stream",
     "text": [
      "c:\\Users\\Luis\\Documents\\DevProjects\\esptfa-arima\\esptfa-arima-venv\\lib\\site-packages\\statsmodels\\tsa\\base\\tsa_model.py:473: ValueWarning: No frequency information was provided, so inferred frequency W-SUN will be used.\n",
      "  self._init_dates(dates, freq)\n",
      "c:\\Users\\Luis\\Documents\\DevProjects\\esptfa-arima\\esptfa-arima-venv\\lib\\site-packages\\statsmodels\\tsa\\base\\tsa_model.py:473: ValueWarning: No frequency information was provided, so inferred frequency W-SUN will be used.\n",
      "  self._init_dates(dates, freq)\n",
      "C:\\Users\\Luis\\AppData\\Local\\Temp\\ipykernel_4056\\2541929839.py:4: FutureWarning: Series.__getitem__ treating keys as positions is deprecated. In a future version, integer keys will always be treated as labels (consistent with DataFrame behavior). To access a value by position, use `ser.iloc[pos]`\n",
      "  arima_pred = arima_model.forecast(steps=1)[0]\n",
      "c:\\Users\\Luis\\Documents\\DevProjects\\esptfa-arima\\esptfa-arima-venv\\lib\\site-packages\\statsmodels\\tsa\\base\\tsa_model.py:473: ValueWarning: No frequency information was provided, so inferred frequency W-SUN will be used.\n",
      "  self._init_dates(dates, freq)\n",
      "c:\\Users\\Luis\\Documents\\DevProjects\\esptfa-arima\\esptfa-arima-venv\\lib\\site-packages\\statsmodels\\base\\model.py:607: ConvergenceWarning: Maximum Likelihood optimization failed to converge. Check mle_retvals\n",
      "  warnings.warn(\"Maximum Likelihood optimization failed to \"\n",
      "c:\\Users\\Luis\\Documents\\DevProjects\\esptfa-arima\\esptfa-arima-venv\\lib\\site-packages\\statsmodels\\tsa\\base\\tsa_model.py:473: ValueWarning: No frequency information was provided, so inferred frequency W-SUN will be used.\n",
      "  self._init_dates(dates, freq)\n",
      "c:\\Users\\Luis\\Documents\\DevProjects\\esptfa-arima\\esptfa-arima-venv\\lib\\site-packages\\statsmodels\\tsa\\base\\tsa_model.py:473: ValueWarning: No frequency information was provided, so inferred frequency W-SUN will be used.\n",
      "  self._init_dates(dates, freq)\n",
      "c:\\Users\\Luis\\Documents\\DevProjects\\esptfa-arima\\esptfa-arima-venv\\lib\\site-packages\\statsmodels\\tsa\\base\\tsa_model.py:473: ValueWarning: No frequency information was provided, so inferred frequency W-SUN will be used.\n",
      "  self._init_dates(dates, freq)\n"
     ]
    },
    {
     "name": "stdout",
     "output_type": "stream",
     "text": [
      "\u001b[1m1/1\u001b[0m \u001b[32m━━━━━━━━━━━━━━━━━━━━\u001b[0m\u001b[37m\u001b[0m \u001b[1m0s\u001b[0m 34ms/step\n"
     ]
    },
    {
     "name": "stderr",
     "output_type": "stream",
     "text": [
      "C:\\Users\\Luis\\AppData\\Local\\Temp\\ipykernel_4056\\2541929839.py:4: FutureWarning: Series.__getitem__ treating keys as positions is deprecated. In a future version, integer keys will always be treated as labels (consistent with DataFrame behavior). To access a value by position, use `ser.iloc[pos]`\n",
      "  arima_pred = arima_model.forecast(steps=1)[0]\n",
      "c:\\Users\\Luis\\Documents\\DevProjects\\esptfa-arima\\esptfa-arima-venv\\lib\\site-packages\\statsmodels\\tsa\\base\\tsa_model.py:473: ValueWarning: No frequency information was provided, so inferred frequency W-SUN will be used.\n",
      "  self._init_dates(dates, freq)\n",
      "c:\\Users\\Luis\\Documents\\DevProjects\\esptfa-arima\\esptfa-arima-venv\\lib\\site-packages\\statsmodels\\tsa\\base\\tsa_model.py:473: ValueWarning: No frequency information was provided, so inferred frequency W-SUN will be used.\n",
      "  self._init_dates(dates, freq)\n",
      "c:\\Users\\Luis\\Documents\\DevProjects\\esptfa-arima\\esptfa-arima-venv\\lib\\site-packages\\statsmodels\\tsa\\statespace\\sarimax.py:978: UserWarning: Non-invertible starting MA parameters found. Using zeros as starting parameters.\n",
      "  warn('Non-invertible starting MA parameters found.'\n",
      "c:\\Users\\Luis\\Documents\\DevProjects\\esptfa-arima\\esptfa-arima-venv\\lib\\site-packages\\statsmodels\\tsa\\base\\tsa_model.py:473: ValueWarning: No frequency information was provided, so inferred frequency W-SUN will be used.\n",
      "  self._init_dates(dates, freq)\n",
      "c:\\Users\\Luis\\Documents\\DevProjects\\esptfa-arima\\esptfa-arima-venv\\lib\\site-packages\\statsmodels\\tsa\\base\\tsa_model.py:473: ValueWarning: No frequency information was provided, so inferred frequency W-SUN will be used.\n",
      "  self._init_dates(dates, freq)\n",
      "c:\\Users\\Luis\\Documents\\DevProjects\\esptfa-arima\\esptfa-arima-venv\\lib\\site-packages\\statsmodels\\tsa\\statespace\\sarimax.py:978: UserWarning: Non-invertible starting MA parameters found. Using zeros as starting parameters.\n",
      "  warn('Non-invertible starting MA parameters found.'\n"
     ]
    },
    {
     "name": "stdout",
     "output_type": "stream",
     "text": [
      "\u001b[1m1/1\u001b[0m \u001b[32m━━━━━━━━━━━━━━━━━━━━\u001b[0m\u001b[37m\u001b[0m \u001b[1m0s\u001b[0m 50ms/step\n"
     ]
    },
    {
     "name": "stderr",
     "output_type": "stream",
     "text": [
      "C:\\Users\\Luis\\AppData\\Local\\Temp\\ipykernel_4056\\2541929839.py:4: FutureWarning: Series.__getitem__ treating keys as positions is deprecated. In a future version, integer keys will always be treated as labels (consistent with DataFrame behavior). To access a value by position, use `ser.iloc[pos]`\n",
      "  arima_pred = arima_model.forecast(steps=1)[0]\n",
      "c:\\Users\\Luis\\Documents\\DevProjects\\esptfa-arima\\esptfa-arima-venv\\lib\\site-packages\\statsmodels\\tsa\\base\\tsa_model.py:473: ValueWarning: No frequency information was provided, so inferred frequency W-SUN will be used.\n",
      "  self._init_dates(dates, freq)\n",
      "c:\\Users\\Luis\\Documents\\DevProjects\\esptfa-arima\\esptfa-arima-venv\\lib\\site-packages\\statsmodels\\tsa\\base\\tsa_model.py:473: ValueWarning: No frequency information was provided, so inferred frequency W-SUN will be used.\n",
      "  self._init_dates(dates, freq)\n",
      "c:\\Users\\Luis\\Documents\\DevProjects\\esptfa-arima\\esptfa-arima-venv\\lib\\site-packages\\statsmodels\\tsa\\base\\tsa_model.py:473: ValueWarning: No frequency information was provided, so inferred frequency W-SUN will be used.\n",
      "  self._init_dates(dates, freq)\n",
      "c:\\Users\\Luis\\Documents\\DevProjects\\esptfa-arima\\esptfa-arima-venv\\lib\\site-packages\\statsmodels\\tsa\\base\\tsa_model.py:473: ValueWarning: No frequency information was provided, so inferred frequency W-SUN will be used.\n",
      "  self._init_dates(dates, freq)\n"
     ]
    },
    {
     "name": "stdout",
     "output_type": "stream",
     "text": [
      "\u001b[1m1/1\u001b[0m \u001b[32m━━━━━━━━━━━━━━━━━━━━\u001b[0m\u001b[37m\u001b[0m \u001b[1m0s\u001b[0m 45ms/step\n"
     ]
    },
    {
     "name": "stderr",
     "output_type": "stream",
     "text": [
      "C:\\Users\\Luis\\AppData\\Local\\Temp\\ipykernel_4056\\2541929839.py:4: FutureWarning: Series.__getitem__ treating keys as positions is deprecated. In a future version, integer keys will always be treated as labels (consistent with DataFrame behavior). To access a value by position, use `ser.iloc[pos]`\n",
      "  arima_pred = arima_model.forecast(steps=1)[0]\n",
      "c:\\Users\\Luis\\Documents\\DevProjects\\esptfa-arima\\esptfa-arima-venv\\lib\\site-packages\\statsmodels\\tsa\\base\\tsa_model.py:473: ValueWarning: No frequency information was provided, so inferred frequency W-SUN will be used.\n",
      "  self._init_dates(dates, freq)\n",
      "c:\\Users\\Luis\\Documents\\DevProjects\\esptfa-arima\\esptfa-arima-venv\\lib\\site-packages\\statsmodels\\tsa\\base\\tsa_model.py:473: ValueWarning: No frequency information was provided, so inferred frequency W-SUN will be used.\n",
      "  self._init_dates(dates, freq)\n",
      "c:\\Users\\Luis\\Documents\\DevProjects\\esptfa-arima\\esptfa-arima-venv\\lib\\site-packages\\statsmodels\\tsa\\base\\tsa_model.py:473: ValueWarning: No frequency information was provided, so inferred frequency W-SUN will be used.\n",
      "  self._init_dates(dates, freq)\n",
      "c:\\Users\\Luis\\Documents\\DevProjects\\esptfa-arima\\esptfa-arima-venv\\lib\\site-packages\\statsmodels\\tsa\\base\\tsa_model.py:473: ValueWarning: No frequency information was provided, so inferred frequency W-SUN will be used.\n",
      "  self._init_dates(dates, freq)\n",
      "c:\\Users\\Luis\\Documents\\DevProjects\\esptfa-arima\\esptfa-arima-venv\\lib\\site-packages\\statsmodels\\tsa\\statespace\\sarimax.py:978: UserWarning: Non-invertible starting MA parameters found. Using zeros as starting parameters.\n",
      "  warn('Non-invertible starting MA parameters found.'\n"
     ]
    },
    {
     "name": "stdout",
     "output_type": "stream",
     "text": [
      "\u001b[1m1/1\u001b[0m \u001b[32m━━━━━━━━━━━━━━━━━━━━\u001b[0m\u001b[37m\u001b[0m \u001b[1m0s\u001b[0m 33ms/step\n"
     ]
    },
    {
     "name": "stderr",
     "output_type": "stream",
     "text": [
      "C:\\Users\\Luis\\AppData\\Local\\Temp\\ipykernel_4056\\2541929839.py:4: FutureWarning: Series.__getitem__ treating keys as positions is deprecated. In a future version, integer keys will always be treated as labels (consistent with DataFrame behavior). To access a value by position, use `ser.iloc[pos]`\n",
      "  arima_pred = arima_model.forecast(steps=1)[0]\n",
      "c:\\Users\\Luis\\Documents\\DevProjects\\esptfa-arima\\esptfa-arima-venv\\lib\\site-packages\\statsmodels\\tsa\\base\\tsa_model.py:473: ValueWarning: No frequency information was provided, so inferred frequency W-SUN will be used.\n",
      "  self._init_dates(dates, freq)\n",
      "c:\\Users\\Luis\\Documents\\DevProjects\\esptfa-arima\\esptfa-arima-venv\\lib\\site-packages\\statsmodels\\tsa\\base\\tsa_model.py:473: ValueWarning: No frequency information was provided, so inferred frequency W-SUN will be used.\n",
      "  self._init_dates(dates, freq)\n",
      "c:\\Users\\Luis\\Documents\\DevProjects\\esptfa-arima\\esptfa-arima-venv\\lib\\site-packages\\statsmodels\\tsa\\base\\tsa_model.py:473: ValueWarning: No frequency information was provided, so inferred frequency W-SUN will be used.\n",
      "  self._init_dates(dates, freq)\n",
      "c:\\Users\\Luis\\Documents\\DevProjects\\esptfa-arima\\esptfa-arima-venv\\lib\\site-packages\\statsmodels\\tsa\\base\\tsa_model.py:473: ValueWarning: No frequency information was provided, so inferred frequency W-SUN will be used.\n",
      "  self._init_dates(dates, freq)\n"
     ]
    },
    {
     "name": "stdout",
     "output_type": "stream",
     "text": [
      "\u001b[1m1/1\u001b[0m \u001b[32m━━━━━━━━━━━━━━━━━━━━\u001b[0m\u001b[37m\u001b[0m \u001b[1m0s\u001b[0m 63ms/step\n"
     ]
    },
    {
     "name": "stderr",
     "output_type": "stream",
     "text": [
      "C:\\Users\\Luis\\AppData\\Local\\Temp\\ipykernel_4056\\2541929839.py:4: FutureWarning: Series.__getitem__ treating keys as positions is deprecated. In a future version, integer keys will always be treated as labels (consistent with DataFrame behavior). To access a value by position, use `ser.iloc[pos]`\n",
      "  arima_pred = arima_model.forecast(steps=1)[0]\n",
      "c:\\Users\\Luis\\Documents\\DevProjects\\esptfa-arima\\esptfa-arima-venv\\lib\\site-packages\\statsmodels\\tsa\\base\\tsa_model.py:473: ValueWarning: No frequency information was provided, so inferred frequency W-SUN will be used.\n",
      "  self._init_dates(dates, freq)\n",
      "c:\\Users\\Luis\\Documents\\DevProjects\\esptfa-arima\\esptfa-arima-venv\\lib\\site-packages\\statsmodels\\tsa\\base\\tsa_model.py:473: ValueWarning: No frequency information was provided, so inferred frequency W-SUN will be used.\n",
      "  self._init_dates(dates, freq)\n"
     ]
    },
    {
     "name": "stdout",
     "output_type": "stream",
     "text": [
      "\u001b[1m1/1\u001b[0m \u001b[32m━━━━━━━━━━━━━━━━━━━━\u001b[0m\u001b[37m\u001b[0m \u001b[1m0s\u001b[0m 41ms/step\n"
     ]
    },
    {
     "name": "stderr",
     "output_type": "stream",
     "text": [
      "c:\\Users\\Luis\\Documents\\DevProjects\\esptfa-arima\\esptfa-arima-venv\\lib\\site-packages\\statsmodels\\tsa\\base\\tsa_model.py:473: ValueWarning: No frequency information was provided, so inferred frequency W-SUN will be used.\n",
      "  self._init_dates(dates, freq)\n",
      "c:\\Users\\Luis\\Documents\\DevProjects\\esptfa-arima\\esptfa-arima-venv\\lib\\site-packages\\statsmodels\\tsa\\base\\tsa_model.py:473: ValueWarning: No frequency information was provided, so inferred frequency W-SUN will be used.\n",
      "  self._init_dates(dates, freq)\n",
      "C:\\Users\\Luis\\AppData\\Local\\Temp\\ipykernel_4056\\2541929839.py:4: FutureWarning: Series.__getitem__ treating keys as positions is deprecated. In a future version, integer keys will always be treated as labels (consistent with DataFrame behavior). To access a value by position, use `ser.iloc[pos]`\n",
      "  arima_pred = arima_model.forecast(steps=1)[0]\n",
      "c:\\Users\\Luis\\Documents\\DevProjects\\esptfa-arima\\esptfa-arima-venv\\lib\\site-packages\\statsmodels\\tsa\\base\\tsa_model.py:473: ValueWarning: No frequency information was provided, so inferred frequency W-SUN will be used.\n",
      "  self._init_dates(dates, freq)\n",
      "c:\\Users\\Luis\\Documents\\DevProjects\\esptfa-arima\\esptfa-arima-venv\\lib\\site-packages\\statsmodels\\tsa\\base\\tsa_model.py:473: ValueWarning: No frequency information was provided, so inferred frequency W-SUN will be used.\n",
      "  self._init_dates(dates, freq)\n",
      "c:\\Users\\Luis\\Documents\\DevProjects\\esptfa-arima\\esptfa-arima-venv\\lib\\site-packages\\statsmodels\\tsa\\statespace\\sarimax.py:978: UserWarning: Non-invertible starting MA parameters found. Using zeros as starting parameters.\n",
      "  warn('Non-invertible starting MA parameters found.'\n"
     ]
    },
    {
     "name": "stdout",
     "output_type": "stream",
     "text": [
      "\u001b[1m1/1\u001b[0m \u001b[32m━━━━━━━━━━━━━━━━━━━━\u001b[0m\u001b[37m\u001b[0m \u001b[1m0s\u001b[0m 36ms/step\n"
     ]
    },
    {
     "name": "stderr",
     "output_type": "stream",
     "text": [
      "c:\\Users\\Luis\\Documents\\DevProjects\\esptfa-arima\\esptfa-arima-venv\\lib\\site-packages\\statsmodels\\tsa\\base\\tsa_model.py:473: ValueWarning: No frequency information was provided, so inferred frequency W-SUN will be used.\n",
      "  self._init_dates(dates, freq)\n",
      "c:\\Users\\Luis\\Documents\\DevProjects\\esptfa-arima\\esptfa-arima-venv\\lib\\site-packages\\statsmodels\\tsa\\base\\tsa_model.py:473: ValueWarning: No frequency information was provided, so inferred frequency W-SUN will be used.\n",
      "  self._init_dates(dates, freq)\n",
      "C:\\Users\\Luis\\AppData\\Local\\Temp\\ipykernel_4056\\2541929839.py:4: FutureWarning: Series.__getitem__ treating keys as positions is deprecated. In a future version, integer keys will always be treated as labels (consistent with DataFrame behavior). To access a value by position, use `ser.iloc[pos]`\n",
      "  arima_pred = arima_model.forecast(steps=1)[0]\n",
      "c:\\Users\\Luis\\Documents\\DevProjects\\esptfa-arima\\esptfa-arima-venv\\lib\\site-packages\\statsmodels\\tsa\\base\\tsa_model.py:473: ValueWarning: No frequency information was provided, so inferred frequency W-SUN will be used.\n",
      "  self._init_dates(dates, freq)\n",
      "c:\\Users\\Luis\\Documents\\DevProjects\\esptfa-arima\\esptfa-arima-venv\\lib\\site-packages\\statsmodels\\tsa\\base\\tsa_model.py:473: ValueWarning: No frequency information was provided, so inferred frequency W-SUN will be used.\n",
      "  self._init_dates(dates, freq)\n",
      "c:\\Users\\Luis\\Documents\\DevProjects\\esptfa-arima\\esptfa-arima-venv\\lib\\site-packages\\statsmodels\\tsa\\base\\tsa_model.py:473: ValueWarning: No frequency information was provided, so inferred frequency W-SUN will be used.\n",
      "  self._init_dates(dates, freq)\n",
      "c:\\Users\\Luis\\Documents\\DevProjects\\esptfa-arima\\esptfa-arima-venv\\lib\\site-packages\\statsmodels\\tsa\\base\\tsa_model.py:473: ValueWarning: No frequency information was provided, so inferred frequency W-SUN will be used.\n",
      "  self._init_dates(dates, freq)\n"
     ]
    },
    {
     "name": "stdout",
     "output_type": "stream",
     "text": [
      "\u001b[1m1/1\u001b[0m \u001b[32m━━━━━━━━━━━━━━━━━━━━\u001b[0m\u001b[37m\u001b[0m \u001b[1m0s\u001b[0m 28ms/step\n"
     ]
    },
    {
     "name": "stderr",
     "output_type": "stream",
     "text": [
      "C:\\Users\\Luis\\AppData\\Local\\Temp\\ipykernel_4056\\2541929839.py:4: FutureWarning: Series.__getitem__ treating keys as positions is deprecated. In a future version, integer keys will always be treated as labels (consistent with DataFrame behavior). To access a value by position, use `ser.iloc[pos]`\n",
      "  arima_pred = arima_model.forecast(steps=1)[0]\n",
      "c:\\Users\\Luis\\Documents\\DevProjects\\esptfa-arima\\esptfa-arima-venv\\lib\\site-packages\\statsmodels\\tsa\\base\\tsa_model.py:473: ValueWarning: No frequency information was provided, so inferred frequency W-SUN will be used.\n",
      "  self._init_dates(dates, freq)\n",
      "c:\\Users\\Luis\\Documents\\DevProjects\\esptfa-arima\\esptfa-arima-venv\\lib\\site-packages\\statsmodels\\tsa\\base\\tsa_model.py:473: ValueWarning: No frequency information was provided, so inferred frequency W-SUN will be used.\n",
      "  self._init_dates(dates, freq)\n",
      "c:\\Users\\Luis\\Documents\\DevProjects\\esptfa-arima\\esptfa-arima-venv\\lib\\site-packages\\statsmodels\\tsa\\base\\tsa_model.py:473: ValueWarning: No frequency information was provided, so inferred frequency W-SUN will be used.\n",
      "  self._init_dates(dates, freq)\n",
      "c:\\Users\\Luis\\Documents\\DevProjects\\esptfa-arima\\esptfa-arima-venv\\lib\\site-packages\\statsmodels\\tsa\\base\\tsa_model.py:473: ValueWarning: No frequency information was provided, so inferred frequency W-SUN will be used.\n",
      "  self._init_dates(dates, freq)\n",
      "C:\\Users\\Luis\\AppData\\Local\\Temp\\ipykernel_4056\\2541929839.py:4: FutureWarning: Series.__getitem__ treating keys as positions is deprecated. In a future version, integer keys will always be treated as labels (consistent with DataFrame behavior). To access a value by position, use `ser.iloc[pos]`\n",
      "  arima_pred = arima_model.forecast(steps=1)[0]\n"
     ]
    },
    {
     "name": "stdout",
     "output_type": "stream",
     "text": [
      "\u001b[1m1/1\u001b[0m \u001b[32m━━━━━━━━━━━━━━━━━━━━\u001b[0m\u001b[37m\u001b[0m \u001b[1m0s\u001b[0m 28ms/step\n"
     ]
    },
    {
     "name": "stderr",
     "output_type": "stream",
     "text": [
      "c:\\Users\\Luis\\Documents\\DevProjects\\esptfa-arima\\esptfa-arima-venv\\lib\\site-packages\\statsmodels\\tsa\\base\\tsa_model.py:473: ValueWarning: No frequency information was provided, so inferred frequency W-SUN will be used.\n",
      "  self._init_dates(dates, freq)\n",
      "c:\\Users\\Luis\\Documents\\DevProjects\\esptfa-arima\\esptfa-arima-venv\\lib\\site-packages\\statsmodels\\tsa\\base\\tsa_model.py:473: ValueWarning: No frequency information was provided, so inferred frequency W-SUN will be used.\n",
      "  self._init_dates(dates, freq)\n",
      "c:\\Users\\Luis\\Documents\\DevProjects\\esptfa-arima\\esptfa-arima-venv\\lib\\site-packages\\statsmodels\\tsa\\base\\tsa_model.py:473: ValueWarning: No frequency information was provided, so inferred frequency W-SUN will be used.\n",
      "  self._init_dates(dates, freq)\n",
      "c:\\Users\\Luis\\Documents\\DevProjects\\esptfa-arima\\esptfa-arima-venv\\lib\\site-packages\\statsmodels\\tsa\\base\\tsa_model.py:473: ValueWarning: No frequency information was provided, so inferred frequency W-SUN will be used.\n",
      "  self._init_dates(dates, freq)\n",
      "C:\\Users\\Luis\\AppData\\Local\\Temp\\ipykernel_4056\\2541929839.py:4: FutureWarning: Series.__getitem__ treating keys as positions is deprecated. In a future version, integer keys will always be treated as labels (consistent with DataFrame behavior). To access a value by position, use `ser.iloc[pos]`\n",
      "  arima_pred = arima_model.forecast(steps=1)[0]\n"
     ]
    },
    {
     "name": "stdout",
     "output_type": "stream",
     "text": [
      "\u001b[1m1/1\u001b[0m \u001b[32m━━━━━━━━━━━━━━━━━━━━\u001b[0m\u001b[37m\u001b[0m \u001b[1m0s\u001b[0m 31ms/step\n"
     ]
    },
    {
     "name": "stderr",
     "output_type": "stream",
     "text": [
      "c:\\Users\\Luis\\Documents\\DevProjects\\esptfa-arima\\esptfa-arima-venv\\lib\\site-packages\\statsmodels\\tsa\\base\\tsa_model.py:473: ValueWarning: No frequency information was provided, so inferred frequency W-SUN will be used.\n",
      "  self._init_dates(dates, freq)\n",
      "c:\\Users\\Luis\\Documents\\DevProjects\\esptfa-arima\\esptfa-arima-venv\\lib\\site-packages\\statsmodels\\tsa\\base\\tsa_model.py:473: ValueWarning: No frequency information was provided, so inferred frequency W-SUN will be used.\n",
      "  self._init_dates(dates, freq)\n",
      "c:\\Users\\Luis\\Documents\\DevProjects\\esptfa-arima\\esptfa-arima-venv\\lib\\site-packages\\statsmodels\\tsa\\statespace\\sarimax.py:978: UserWarning: Non-invertible starting MA parameters found. Using zeros as starting parameters.\n",
      "  warn('Non-invertible starting MA parameters found.'\n",
      "c:\\Users\\Luis\\Documents\\DevProjects\\esptfa-arima\\esptfa-arima-venv\\lib\\site-packages\\statsmodels\\tsa\\base\\tsa_model.py:473: ValueWarning: No frequency information was provided, so inferred frequency W-SUN will be used.\n",
      "  self._init_dates(dates, freq)\n",
      "c:\\Users\\Luis\\Documents\\DevProjects\\esptfa-arima\\esptfa-arima-venv\\lib\\site-packages\\statsmodels\\tsa\\base\\tsa_model.py:473: ValueWarning: No frequency information was provided, so inferred frequency W-SUN will be used.\n",
      "  self._init_dates(dates, freq)\n"
     ]
    },
    {
     "name": "stdout",
     "output_type": "stream",
     "text": [
      "\u001b[1m1/1\u001b[0m \u001b[32m━━━━━━━━━━━━━━━━━━━━\u001b[0m\u001b[37m\u001b[0m \u001b[1m0s\u001b[0m 29ms/step\n"
     ]
    },
    {
     "name": "stderr",
     "output_type": "stream",
     "text": [
      "C:\\Users\\Luis\\AppData\\Local\\Temp\\ipykernel_4056\\2541929839.py:4: FutureWarning: Series.__getitem__ treating keys as positions is deprecated. In a future version, integer keys will always be treated as labels (consistent with DataFrame behavior). To access a value by position, use `ser.iloc[pos]`\n",
      "  arima_pred = arima_model.forecast(steps=1)[0]\n",
      "c:\\Users\\Luis\\Documents\\DevProjects\\esptfa-arima\\esptfa-arima-venv\\lib\\site-packages\\statsmodels\\tsa\\base\\tsa_model.py:473: ValueWarning: No frequency information was provided, so inferred frequency W-SUN will be used.\n",
      "  self._init_dates(dates, freq)\n",
      "c:\\Users\\Luis\\Documents\\DevProjects\\esptfa-arima\\esptfa-arima-venv\\lib\\site-packages\\statsmodels\\tsa\\base\\tsa_model.py:473: ValueWarning: No frequency information was provided, so inferred frequency W-SUN will be used.\n",
      "  self._init_dates(dates, freq)\n",
      "c:\\Users\\Luis\\Documents\\DevProjects\\esptfa-arima\\esptfa-arima-venv\\lib\\site-packages\\statsmodels\\tsa\\base\\tsa_model.py:473: ValueWarning: No frequency information was provided, so inferred frequency W-SUN will be used.\n",
      "  self._init_dates(dates, freq)\n",
      "c:\\Users\\Luis\\Documents\\DevProjects\\esptfa-arima\\esptfa-arima-venv\\lib\\site-packages\\statsmodels\\tsa\\base\\tsa_model.py:473: ValueWarning: No frequency information was provided, so inferred frequency W-SUN will be used.\n",
      "  self._init_dates(dates, freq)\n"
     ]
    },
    {
     "name": "stdout",
     "output_type": "stream",
     "text": [
      "\u001b[1m1/1\u001b[0m \u001b[32m━━━━━━━━━━━━━━━━━━━━\u001b[0m\u001b[37m\u001b[0m \u001b[1m0s\u001b[0m 33ms/step\n",
      "\u001b[1m1/1\u001b[0m \u001b[32m━━━━━━━━━━━━━━━━━━━━\u001b[0m\u001b[37m\u001b[0m \u001b[1m0s\u001b[0m 18ms/step"
     ]
    },
    {
     "name": "stderr",
     "output_type": "stream",
     "text": [
      "C:\\Users\\Luis\\AppData\\Local\\Temp\\ipykernel_4056\\2541929839.py:4: FutureWarning: Series.__getitem__ treating keys as positions is deprecated. In a future version, integer keys will always be treated as labels (consistent with DataFrame behavior). To access a value by position, use `ser.iloc[pos]`\n",
      "  arima_pred = arima_model.forecast(steps=1)[0]\n",
      "c:\\Users\\Luis\\Documents\\DevProjects\\esptfa-arima\\esptfa-arima-venv\\lib\\site-packages\\statsmodels\\tsa\\base\\tsa_model.py:473: ValueWarning: No frequency information was provided, so inferred frequency W-SUN will be used.\n",
      "  self._init_dates(dates, freq)\n",
      "c:\\Users\\Luis\\Documents\\DevProjects\\esptfa-arima\\esptfa-arima-venv\\lib\\site-packages\\statsmodels\\tsa\\base\\tsa_model.py:473: ValueWarning: No frequency information was provided, so inferred frequency W-SUN will be used.\n",
      "  self._init_dates(dates, freq)\n",
      "c:\\Users\\Luis\\Documents\\DevProjects\\esptfa-arima\\esptfa-arima-venv\\lib\\site-packages\\statsmodels\\tsa\\base\\tsa_model.py:473: ValueWarning: No frequency information was provided, so inferred frequency W-SUN will be used.\n",
      "  self._init_dates(dates, freq)\n",
      "c:\\Users\\Luis\\Documents\\DevProjects\\esptfa-arima\\esptfa-arima-venv\\lib\\site-packages\\statsmodels\\tsa\\base\\tsa_model.py:473: ValueWarning: No frequency information was provided, so inferred frequency W-SUN will be used.\n",
      "  self._init_dates(dates, freq)\n",
      "c:\\Users\\Luis\\Documents\\DevProjects\\esptfa-arima\\esptfa-arima-venv\\lib\\site-packages\\statsmodels\\tsa\\statespace\\sarimax.py:978: UserWarning: Non-invertible starting MA parameters found. Using zeros as starting parameters.\n",
      "  warn('Non-invertible starting MA parameters found.'\n",
      "C:\\Users\\Luis\\AppData\\Local\\Temp\\ipykernel_4056\\2541929839.py:4: FutureWarning: Series.__getitem__ treating keys as positions is deprecated. In a future version, integer keys will always be treated as labels (consistent with DataFrame behavior). To access a value by position, use `ser.iloc[pos]`\n",
      "  arima_pred = arima_model.forecast(steps=1)[0]\n"
     ]
    },
    {
     "name": "stdout",
     "output_type": "stream",
     "text": [
      "\u001b[1m1/1\u001b[0m \u001b[32m━━━━━━━━━━━━━━━━━━━━\u001b[0m\u001b[37m\u001b[0m \u001b[1m0s\u001b[0m 31ms/step\n"
     ]
    },
    {
     "name": "stderr",
     "output_type": "stream",
     "text": [
      "c:\\Users\\Luis\\Documents\\DevProjects\\esptfa-arima\\esptfa-arima-venv\\lib\\site-packages\\statsmodels\\tsa\\base\\tsa_model.py:473: ValueWarning: No frequency information was provided, so inferred frequency W-SUN will be used.\n",
      "  self._init_dates(dates, freq)\n",
      "c:\\Users\\Luis\\Documents\\DevProjects\\esptfa-arima\\esptfa-arima-venv\\lib\\site-packages\\statsmodels\\tsa\\base\\tsa_model.py:473: ValueWarning: No frequency information was provided, so inferred frequency W-SUN will be used.\n",
      "  self._init_dates(dates, freq)\n",
      "c:\\Users\\Luis\\Documents\\DevProjects\\esptfa-arima\\esptfa-arima-venv\\lib\\site-packages\\statsmodels\\tsa\\base\\tsa_model.py:473: ValueWarning: No frequency information was provided, so inferred frequency W-SUN will be used.\n",
      "  self._init_dates(dates, freq)\n",
      "c:\\Users\\Luis\\Documents\\DevProjects\\esptfa-arima\\esptfa-arima-venv\\lib\\site-packages\\statsmodels\\tsa\\base\\tsa_model.py:473: ValueWarning: No frequency information was provided, so inferred frequency W-SUN will be used.\n",
      "  self._init_dates(dates, freq)\n",
      "C:\\Users\\Luis\\AppData\\Local\\Temp\\ipykernel_4056\\2541929839.py:4: FutureWarning: Series.__getitem__ treating keys as positions is deprecated. In a future version, integer keys will always be treated as labels (consistent with DataFrame behavior). To access a value by position, use `ser.iloc[pos]`\n",
      "  arima_pred = arima_model.forecast(steps=1)[0]\n"
     ]
    },
    {
     "name": "stdout",
     "output_type": "stream",
     "text": [
      "\u001b[1m1/1\u001b[0m \u001b[32m━━━━━━━━━━━━━━━━━━━━\u001b[0m\u001b[37m\u001b[0m \u001b[1m0s\u001b[0m 35ms/step\n"
     ]
    },
    {
     "name": "stderr",
     "output_type": "stream",
     "text": [
      "c:\\Users\\Luis\\Documents\\DevProjects\\esptfa-arima\\esptfa-arima-venv\\lib\\site-packages\\statsmodels\\tsa\\base\\tsa_model.py:473: ValueWarning: No frequency information was provided, so inferred frequency W-SUN will be used.\n",
      "  self._init_dates(dates, freq)\n",
      "c:\\Users\\Luis\\Documents\\DevProjects\\esptfa-arima\\esptfa-arima-venv\\lib\\site-packages\\statsmodels\\tsa\\base\\tsa_model.py:473: ValueWarning: No frequency information was provided, so inferred frequency W-SUN will be used.\n",
      "  self._init_dates(dates, freq)\n",
      "c:\\Users\\Luis\\Documents\\DevProjects\\esptfa-arima\\esptfa-arima-venv\\lib\\site-packages\\statsmodels\\tsa\\base\\tsa_model.py:473: ValueWarning: No frequency information was provided, so inferred frequency W-SUN will be used.\n",
      "  self._init_dates(dates, freq)\n",
      "c:\\Users\\Luis\\Documents\\DevProjects\\esptfa-arima\\esptfa-arima-venv\\lib\\site-packages\\statsmodels\\tsa\\base\\tsa_model.py:473: ValueWarning: No frequency information was provided, so inferred frequency W-SUN will be used.\n",
      "  self._init_dates(dates, freq)\n"
     ]
    },
    {
     "name": "stdout",
     "output_type": "stream",
     "text": [
      "\u001b[1m1/1\u001b[0m \u001b[32m━━━━━━━━━━━━━━━━━━━━\u001b[0m\u001b[37m\u001b[0m \u001b[1m0s\u001b[0m 32ms/step\n"
     ]
    },
    {
     "name": "stderr",
     "output_type": "stream",
     "text": [
      "C:\\Users\\Luis\\AppData\\Local\\Temp\\ipykernel_4056\\2541929839.py:4: FutureWarning: Series.__getitem__ treating keys as positions is deprecated. In a future version, integer keys will always be treated as labels (consistent with DataFrame behavior). To access a value by position, use `ser.iloc[pos]`\n",
      "  arima_pred = arima_model.forecast(steps=1)[0]\n",
      "c:\\Users\\Luis\\Documents\\DevProjects\\esptfa-arima\\esptfa-arima-venv\\lib\\site-packages\\statsmodels\\tsa\\base\\tsa_model.py:473: ValueWarning: No frequency information was provided, so inferred frequency W-SUN will be used.\n",
      "  self._init_dates(dates, freq)\n",
      "c:\\Users\\Luis\\Documents\\DevProjects\\esptfa-arima\\esptfa-arima-venv\\lib\\site-packages\\statsmodels\\tsa\\base\\tsa_model.py:473: ValueWarning: No frequency information was provided, so inferred frequency W-SUN will be used.\n",
      "  self._init_dates(dates, freq)\n",
      "c:\\Users\\Luis\\Documents\\DevProjects\\esptfa-arima\\esptfa-arima-venv\\lib\\site-packages\\statsmodels\\tsa\\base\\tsa_model.py:473: ValueWarning: No frequency information was provided, so inferred frequency W-SUN will be used.\n",
      "  self._init_dates(dates, freq)\n",
      "c:\\Users\\Luis\\Documents\\DevProjects\\esptfa-arima\\esptfa-arima-venv\\lib\\site-packages\\statsmodels\\tsa\\base\\tsa_model.py:473: ValueWarning: No frequency information was provided, so inferred frequency W-SUN will be used.\n",
      "  self._init_dates(dates, freq)\n"
     ]
    },
    {
     "name": "stdout",
     "output_type": "stream",
     "text": [
      "\u001b[1m1/1\u001b[0m \u001b[32m━━━━━━━━━━━━━━━━━━━━\u001b[0m\u001b[37m\u001b[0m \u001b[1m0s\u001b[0m 37ms/step\n"
     ]
    },
    {
     "name": "stderr",
     "output_type": "stream",
     "text": [
      "C:\\Users\\Luis\\AppData\\Local\\Temp\\ipykernel_4056\\2541929839.py:4: FutureWarning: Series.__getitem__ treating keys as positions is deprecated. In a future version, integer keys will always be treated as labels (consistent with DataFrame behavior). To access a value by position, use `ser.iloc[pos]`\n",
      "  arima_pred = arima_model.forecast(steps=1)[0]\n",
      "c:\\Users\\Luis\\Documents\\DevProjects\\esptfa-arima\\esptfa-arima-venv\\lib\\site-packages\\statsmodels\\tsa\\base\\tsa_model.py:473: ValueWarning: No frequency information was provided, so inferred frequency W-SUN will be used.\n",
      "  self._init_dates(dates, freq)\n",
      "c:\\Users\\Luis\\Documents\\DevProjects\\esptfa-arima\\esptfa-arima-venv\\lib\\site-packages\\statsmodels\\tsa\\base\\tsa_model.py:473: ValueWarning: No frequency information was provided, so inferred frequency W-SUN will be used.\n",
      "  self._init_dates(dates, freq)\n",
      "c:\\Users\\Luis\\Documents\\DevProjects\\esptfa-arima\\esptfa-arima-venv\\lib\\site-packages\\statsmodels\\tsa\\base\\tsa_model.py:473: ValueWarning: No frequency information was provided, so inferred frequency W-SUN will be used.\n",
      "  self._init_dates(dates, freq)\n",
      "c:\\Users\\Luis\\Documents\\DevProjects\\esptfa-arima\\esptfa-arima-venv\\lib\\site-packages\\statsmodels\\tsa\\base\\tsa_model.py:473: ValueWarning: No frequency information was provided, so inferred frequency W-SUN will be used.\n",
      "  self._init_dates(dates, freq)\n",
      "C:\\Users\\Luis\\AppData\\Local\\Temp\\ipykernel_4056\\2541929839.py:4: FutureWarning: Series.__getitem__ treating keys as positions is deprecated. In a future version, integer keys will always be treated as labels (consistent with DataFrame behavior). To access a value by position, use `ser.iloc[pos]`\n",
      "  arima_pred = arima_model.forecast(steps=1)[0]\n"
     ]
    },
    {
     "name": "stdout",
     "output_type": "stream",
     "text": [
      "\u001b[1m1/1\u001b[0m \u001b[32m━━━━━━━━━━━━━━━━━━━━\u001b[0m\u001b[37m\u001b[0m \u001b[1m0s\u001b[0m 64ms/step\n"
     ]
    },
    {
     "name": "stderr",
     "output_type": "stream",
     "text": [
      "c:\\Users\\Luis\\Documents\\DevProjects\\esptfa-arima\\esptfa-arima-venv\\lib\\site-packages\\statsmodels\\tsa\\base\\tsa_model.py:473: ValueWarning: No frequency information was provided, so inferred frequency W-SUN will be used.\n",
      "  self._init_dates(dates, freq)\n",
      "c:\\Users\\Luis\\Documents\\DevProjects\\esptfa-arima\\esptfa-arima-venv\\lib\\site-packages\\statsmodels\\tsa\\base\\tsa_model.py:473: ValueWarning: No frequency information was provided, so inferred frequency W-SUN will be used.\n",
      "  self._init_dates(dates, freq)\n",
      "c:\\Users\\Luis\\Documents\\DevProjects\\esptfa-arima\\esptfa-arima-venv\\lib\\site-packages\\statsmodels\\tsa\\base\\tsa_model.py:473: ValueWarning: No frequency information was provided, so inferred frequency W-SUN will be used.\n",
      "  self._init_dates(dates, freq)\n",
      "c:\\Users\\Luis\\Documents\\DevProjects\\esptfa-arima\\esptfa-arima-venv\\lib\\site-packages\\statsmodels\\tsa\\base\\tsa_model.py:473: ValueWarning: No frequency information was provided, so inferred frequency W-SUN will be used.\n",
      "  self._init_dates(dates, freq)\n",
      "C:\\Users\\Luis\\AppData\\Local\\Temp\\ipykernel_4056\\2541929839.py:4: FutureWarning: Series.__getitem__ treating keys as positions is deprecated. In a future version, integer keys will always be treated as labels (consistent with DataFrame behavior). To access a value by position, use `ser.iloc[pos]`\n",
      "  arima_pred = arima_model.forecast(steps=1)[0]\n"
     ]
    },
    {
     "name": "stdout",
     "output_type": "stream",
     "text": [
      "\u001b[1m1/1\u001b[0m \u001b[32m━━━━━━━━━━━━━━━━━━━━\u001b[0m\u001b[37m\u001b[0m \u001b[1m0s\u001b[0m 38ms/step\n",
      "\u001b[1m1/1\u001b[0m \u001b[32m━━━━━━━━━━━━━━━━━━━━\u001b[0m\u001b[37m\u001b[0m \u001b[1m0s\u001b[0m 32ms/step\n"
     ]
    },
    {
     "name": "stderr",
     "output_type": "stream",
     "text": [
      "c:\\Users\\Luis\\Documents\\DevProjects\\esptfa-arima\\esptfa-arima-venv\\lib\\site-packages\\statsmodels\\tsa\\base\\tsa_model.py:473: ValueWarning: No frequency information was provided, so inferred frequency W-SUN will be used.\n",
      "  self._init_dates(dates, freq)\n",
      "c:\\Users\\Luis\\Documents\\DevProjects\\esptfa-arima\\esptfa-arima-venv\\lib\\site-packages\\statsmodels\\tsa\\base\\tsa_model.py:473: ValueWarning: No frequency information was provided, so inferred frequency W-SUN will be used.\n",
      "  self._init_dates(dates, freq)\n",
      "c:\\Users\\Luis\\Documents\\DevProjects\\esptfa-arima\\esptfa-arima-venv\\lib\\site-packages\\statsmodels\\tsa\\base\\tsa_model.py:473: ValueWarning: No frequency information was provided, so inferred frequency W-SUN will be used.\n",
      "  self._init_dates(dates, freq)\n",
      "c:\\Users\\Luis\\Documents\\DevProjects\\esptfa-arima\\esptfa-arima-venv\\lib\\site-packages\\statsmodels\\tsa\\base\\tsa_model.py:473: ValueWarning: No frequency information was provided, so inferred frequency W-SUN will be used.\n",
      "  self._init_dates(dates, freq)\n",
      "C:\\Users\\Luis\\AppData\\Local\\Temp\\ipykernel_4056\\2541929839.py:4: FutureWarning: Series.__getitem__ treating keys as positions is deprecated. In a future version, integer keys will always be treated as labels (consistent with DataFrame behavior). To access a value by position, use `ser.iloc[pos]`\n",
      "  arima_pred = arima_model.forecast(steps=1)[0]\n",
      "c:\\Users\\Luis\\Documents\\DevProjects\\esptfa-arima\\esptfa-arima-venv\\lib\\site-packages\\statsmodels\\tsa\\base\\tsa_model.py:473: ValueWarning: No frequency information was provided, so inferred frequency W-SUN will be used.\n",
      "  self._init_dates(dates, freq)\n",
      "c:\\Users\\Luis\\Documents\\DevProjects\\esptfa-arima\\esptfa-arima-venv\\lib\\site-packages\\statsmodels\\tsa\\base\\tsa_model.py:473: ValueWarning: No frequency information was provided, so inferred frequency W-SUN will be used.\n",
      "  self._init_dates(dates, freq)\n"
     ]
    },
    {
     "name": "stdout",
     "output_type": "stream",
     "text": [
      "\u001b[1m1/1\u001b[0m \u001b[32m━━━━━━━━━━━━━━━━━━━━\u001b[0m\u001b[37m\u001b[0m \u001b[1m0s\u001b[0m 32ms/step\n"
     ]
    },
    {
     "name": "stderr",
     "output_type": "stream",
     "text": [
      "c:\\Users\\Luis\\Documents\\DevProjects\\esptfa-arima\\esptfa-arima-venv\\lib\\site-packages\\statsmodels\\tsa\\base\\tsa_model.py:473: ValueWarning: No frequency information was provided, so inferred frequency W-SUN will be used.\n",
      "  self._init_dates(dates, freq)\n",
      "c:\\Users\\Luis\\Documents\\DevProjects\\esptfa-arima\\esptfa-arima-venv\\lib\\site-packages\\statsmodels\\tsa\\base\\tsa_model.py:473: ValueWarning: No frequency information was provided, so inferred frequency W-SUN will be used.\n",
      "  self._init_dates(dates, freq)\n",
      "C:\\Users\\Luis\\AppData\\Local\\Temp\\ipykernel_4056\\2541929839.py:4: FutureWarning: Series.__getitem__ treating keys as positions is deprecated. In a future version, integer keys will always be treated as labels (consistent with DataFrame behavior). To access a value by position, use `ser.iloc[pos]`\n",
      "  arima_pred = arima_model.forecast(steps=1)[0]\n",
      "c:\\Users\\Luis\\Documents\\DevProjects\\esptfa-arima\\esptfa-arima-venv\\lib\\site-packages\\statsmodels\\tsa\\base\\tsa_model.py:473: ValueWarning: No frequency information was provided, so inferred frequency W-SUN will be used.\n",
      "  self._init_dates(dates, freq)\n",
      "c:\\Users\\Luis\\Documents\\DevProjects\\esptfa-arima\\esptfa-arima-venv\\lib\\site-packages\\statsmodels\\tsa\\base\\tsa_model.py:473: ValueWarning: No frequency information was provided, so inferred frequency W-SUN will be used.\n",
      "  self._init_dates(dates, freq)\n",
      "c:\\Users\\Luis\\Documents\\DevProjects\\esptfa-arima\\esptfa-arima-venv\\lib\\site-packages\\statsmodels\\tsa\\base\\tsa_model.py:473: ValueWarning: No frequency information was provided, so inferred frequency W-SUN will be used.\n",
      "  self._init_dates(dates, freq)\n",
      "c:\\Users\\Luis\\Documents\\DevProjects\\esptfa-arima\\esptfa-arima-venv\\lib\\site-packages\\statsmodels\\tsa\\base\\tsa_model.py:473: ValueWarning: No frequency information was provided, so inferred frequency W-SUN will be used.\n",
      "  self._init_dates(dates, freq)\n"
     ]
    },
    {
     "name": "stdout",
     "output_type": "stream",
     "text": [
      "\u001b[1m1/1\u001b[0m \u001b[32m━━━━━━━━━━━━━━━━━━━━\u001b[0m\u001b[37m\u001b[0m \u001b[1m0s\u001b[0m 26ms/step\n",
      "\u001b[1m1/1\u001b[0m \u001b[32m━━━━━━━━━━━━━━━━━━━━\u001b[0m\u001b[37m\u001b[0m \u001b[1m0s\u001b[0m 16ms/step"
     ]
    },
    {
     "name": "stderr",
     "output_type": "stream",
     "text": [
      "C:\\Users\\Luis\\AppData\\Local\\Temp\\ipykernel_4056\\2541929839.py:4: FutureWarning: Series.__getitem__ treating keys as positions is deprecated. In a future version, integer keys will always be treated as labels (consistent with DataFrame behavior). To access a value by position, use `ser.iloc[pos]`\n",
      "  arima_pred = arima_model.forecast(steps=1)[0]\n",
      "c:\\Users\\Luis\\Documents\\DevProjects\\esptfa-arima\\esptfa-arima-venv\\lib\\site-packages\\statsmodels\\tsa\\base\\tsa_model.py:473: ValueWarning: No frequency information was provided, so inferred frequency W-SUN will be used.\n",
      "  self._init_dates(dates, freq)\n",
      "c:\\Users\\Luis\\Documents\\DevProjects\\esptfa-arima\\esptfa-arima-venv\\lib\\site-packages\\statsmodels\\tsa\\base\\tsa_model.py:473: ValueWarning: No frequency information was provided, so inferred frequency W-SUN will be used.\n",
      "  self._init_dates(dates, freq)\n",
      "c:\\Users\\Luis\\Documents\\DevProjects\\esptfa-arima\\esptfa-arima-venv\\lib\\site-packages\\statsmodels\\tsa\\base\\tsa_model.py:473: ValueWarning: No frequency information was provided, so inferred frequency W-SUN will be used.\n",
      "  self._init_dates(dates, freq)\n",
      "c:\\Users\\Luis\\Documents\\DevProjects\\esptfa-arima\\esptfa-arima-venv\\lib\\site-packages\\statsmodels\\tsa\\base\\tsa_model.py:473: ValueWarning: No frequency information was provided, so inferred frequency W-SUN will be used.\n",
      "  self._init_dates(dates, freq)\n",
      "c:\\Users\\Luis\\Documents\\DevProjects\\esptfa-arima\\esptfa-arima-venv\\lib\\site-packages\\statsmodels\\tsa\\statespace\\sarimax.py:966: UserWarning: Non-stationary starting autoregressive parameters found. Using zeros as starting parameters.\n",
      "  warn('Non-stationary starting autoregressive parameters'\n",
      "C:\\Users\\Luis\\AppData\\Local\\Temp\\ipykernel_4056\\2541929839.py:4: FutureWarning: Series.__getitem__ treating keys as positions is deprecated. In a future version, integer keys will always be treated as labels (consistent with DataFrame behavior). To access a value by position, use `ser.iloc[pos]`\n",
      "  arima_pred = arima_model.forecast(steps=1)[0]\n"
     ]
    },
    {
     "name": "stdout",
     "output_type": "stream",
     "text": [
      "\u001b[1m1/1\u001b[0m \u001b[32m━━━━━━━━━━━━━━━━━━━━\u001b[0m\u001b[37m\u001b[0m \u001b[1m0s\u001b[0m 29ms/step\n",
      "\u001b[1m1/1\u001b[0m \u001b[32m━━━━━━━━━━━━━━━━━━━━\u001b[0m\u001b[37m\u001b[0m \u001b[1m0s\u001b[0m 27ms/step\n"
     ]
    },
    {
     "name": "stderr",
     "output_type": "stream",
     "text": [
      "c:\\Users\\Luis\\Documents\\DevProjects\\esptfa-arima\\esptfa-arima-venv\\lib\\site-packages\\statsmodels\\tsa\\base\\tsa_model.py:473: ValueWarning: No frequency information was provided, so inferred frequency W-SUN will be used.\n",
      "  self._init_dates(dates, freq)\n",
      "c:\\Users\\Luis\\Documents\\DevProjects\\esptfa-arima\\esptfa-arima-venv\\lib\\site-packages\\statsmodels\\tsa\\base\\tsa_model.py:473: ValueWarning: No frequency information was provided, so inferred frequency W-SUN will be used.\n",
      "  self._init_dates(dates, freq)\n",
      "c:\\Users\\Luis\\Documents\\DevProjects\\esptfa-arima\\esptfa-arima-venv\\lib\\site-packages\\statsmodels\\tsa\\base\\tsa_model.py:473: ValueWarning: No frequency information was provided, so inferred frequency W-SUN will be used.\n",
      "  self._init_dates(dates, freq)\n",
      "c:\\Users\\Luis\\Documents\\DevProjects\\esptfa-arima\\esptfa-arima-venv\\lib\\site-packages\\statsmodels\\tsa\\base\\tsa_model.py:473: ValueWarning: No frequency information was provided, so inferred frequency W-SUN will be used.\n",
      "  self._init_dates(dates, freq)\n",
      "C:\\Users\\Luis\\AppData\\Local\\Temp\\ipykernel_4056\\2541929839.py:4: FutureWarning: Series.__getitem__ treating keys as positions is deprecated. In a future version, integer keys will always be treated as labels (consistent with DataFrame behavior). To access a value by position, use `ser.iloc[pos]`\n",
      "  arima_pred = arima_model.forecast(steps=1)[0]\n",
      "c:\\Users\\Luis\\Documents\\DevProjects\\esptfa-arima\\esptfa-arima-venv\\lib\\site-packages\\statsmodels\\tsa\\base\\tsa_model.py:473: ValueWarning: No frequency information was provided, so inferred frequency W-SUN will be used.\n",
      "  self._init_dates(dates, freq)\n",
      "c:\\Users\\Luis\\Documents\\DevProjects\\esptfa-arima\\esptfa-arima-venv\\lib\\site-packages\\statsmodels\\tsa\\base\\tsa_model.py:473: ValueWarning: No frequency information was provided, so inferred frequency W-SUN will be used.\n",
      "  self._init_dates(dates, freq)\n"
     ]
    },
    {
     "name": "stdout",
     "output_type": "stream",
     "text": [
      "\u001b[1m1/1\u001b[0m \u001b[32m━━━━━━━━━━━━━━━━━━━━\u001b[0m\u001b[37m\u001b[0m \u001b[1m0s\u001b[0m 35ms/step\n"
     ]
    },
    {
     "name": "stderr",
     "output_type": "stream",
     "text": [
      "c:\\Users\\Luis\\Documents\\DevProjects\\esptfa-arima\\esptfa-arima-venv\\lib\\site-packages\\statsmodels\\tsa\\base\\tsa_model.py:473: ValueWarning: No frequency information was provided, so inferred frequency W-SUN will be used.\n",
      "  self._init_dates(dates, freq)\n",
      "c:\\Users\\Luis\\Documents\\DevProjects\\esptfa-arima\\esptfa-arima-venv\\lib\\site-packages\\statsmodels\\tsa\\base\\tsa_model.py:473: ValueWarning: No frequency information was provided, so inferred frequency W-SUN will be used.\n",
      "  self._init_dates(dates, freq)\n",
      "C:\\Users\\Luis\\AppData\\Local\\Temp\\ipykernel_4056\\2541929839.py:4: FutureWarning: Series.__getitem__ treating keys as positions is deprecated. In a future version, integer keys will always be treated as labels (consistent with DataFrame behavior). To access a value by position, use `ser.iloc[pos]`\n",
      "  arima_pred = arima_model.forecast(steps=1)[0]\n",
      "c:\\Users\\Luis\\Documents\\DevProjects\\esptfa-arima\\esptfa-arima-venv\\lib\\site-packages\\statsmodels\\tsa\\base\\tsa_model.py:473: ValueWarning: No frequency information was provided, so inferred frequency W-SUN will be used.\n",
      "  self._init_dates(dates, freq)\n",
      "c:\\Users\\Luis\\Documents\\DevProjects\\esptfa-arima\\esptfa-arima-venv\\lib\\site-packages\\statsmodels\\tsa\\base\\tsa_model.py:473: ValueWarning: No frequency information was provided, so inferred frequency W-SUN will be used.\n",
      "  self._init_dates(dates, freq)\n"
     ]
    },
    {
     "name": "stdout",
     "output_type": "stream",
     "text": [
      "\u001b[1m1/1\u001b[0m \u001b[32m━━━━━━━━━━━━━━━━━━━━\u001b[0m\u001b[37m\u001b[0m \u001b[1m0s\u001b[0m 25ms/step\n"
     ]
    },
    {
     "name": "stderr",
     "output_type": "stream",
     "text": [
      "c:\\Users\\Luis\\Documents\\DevProjects\\esptfa-arima\\esptfa-arima-venv\\lib\\site-packages\\statsmodels\\tsa\\base\\tsa_model.py:473: ValueWarning: No frequency information was provided, so inferred frequency W-SUN will be used.\n",
      "  self._init_dates(dates, freq)\n",
      "c:\\Users\\Luis\\Documents\\DevProjects\\esptfa-arima\\esptfa-arima-venv\\lib\\site-packages\\statsmodels\\tsa\\base\\tsa_model.py:473: ValueWarning: No frequency information was provided, so inferred frequency W-SUN will be used.\n",
      "  self._init_dates(dates, freq)\n",
      "C:\\Users\\Luis\\AppData\\Local\\Temp\\ipykernel_4056\\2541929839.py:4: FutureWarning: Series.__getitem__ treating keys as positions is deprecated. In a future version, integer keys will always be treated as labels (consistent with DataFrame behavior). To access a value by position, use `ser.iloc[pos]`\n",
      "  arima_pred = arima_model.forecast(steps=1)[0]\n",
      "c:\\Users\\Luis\\Documents\\DevProjects\\esptfa-arima\\esptfa-arima-venv\\lib\\site-packages\\statsmodels\\tsa\\base\\tsa_model.py:473: ValueWarning: No frequency information was provided, so inferred frequency W-SUN will be used.\n",
      "  self._init_dates(dates, freq)\n",
      "c:\\Users\\Luis\\Documents\\DevProjects\\esptfa-arima\\esptfa-arima-venv\\lib\\site-packages\\statsmodels\\base\\model.py:607: ConvergenceWarning: Maximum Likelihood optimization failed to converge. Check mle_retvals\n",
      "  warnings.warn(\"Maximum Likelihood optimization failed to \"\n",
      "c:\\Users\\Luis\\Documents\\DevProjects\\esptfa-arima\\esptfa-arima-venv\\lib\\site-packages\\statsmodels\\tsa\\base\\tsa_model.py:473: ValueWarning: No frequency information was provided, so inferred frequency W-SUN will be used.\n",
      "  self._init_dates(dates, freq)\n",
      "c:\\Users\\Luis\\Documents\\DevProjects\\esptfa-arima\\esptfa-arima-venv\\lib\\site-packages\\statsmodels\\tsa\\base\\tsa_model.py:473: ValueWarning: No frequency information was provided, so inferred frequency W-SUN will be used.\n",
      "  self._init_dates(dates, freq)\n",
      "c:\\Users\\Luis\\Documents\\DevProjects\\esptfa-arima\\esptfa-arima-venv\\lib\\site-packages\\statsmodels\\tsa\\base\\tsa_model.py:473: ValueWarning: No frequency information was provided, so inferred frequency W-SUN will be used.\n",
      "  self._init_dates(dates, freq)\n"
     ]
    },
    {
     "name": "stdout",
     "output_type": "stream",
     "text": [
      "\u001b[1m1/1\u001b[0m \u001b[32m━━━━━━━━━━━━━━━━━━━━\u001b[0m\u001b[37m\u001b[0m \u001b[1m0s\u001b[0m 26ms/step\n"
     ]
    },
    {
     "name": "stderr",
     "output_type": "stream",
     "text": [
      "C:\\Users\\Luis\\AppData\\Local\\Temp\\ipykernel_4056\\2541929839.py:4: FutureWarning: Series.__getitem__ treating keys as positions is deprecated. In a future version, integer keys will always be treated as labels (consistent with DataFrame behavior). To access a value by position, use `ser.iloc[pos]`\n",
      "  arima_pred = arima_model.forecast(steps=1)[0]\n",
      "c:\\Users\\Luis\\Documents\\DevProjects\\esptfa-arima\\esptfa-arima-venv\\lib\\site-packages\\statsmodels\\tsa\\base\\tsa_model.py:473: ValueWarning: No frequency information was provided, so inferred frequency W-SUN will be used.\n",
      "  self._init_dates(dates, freq)\n",
      "c:\\Users\\Luis\\Documents\\DevProjects\\esptfa-arima\\esptfa-arima-venv\\lib\\site-packages\\statsmodels\\tsa\\base\\tsa_model.py:473: ValueWarning: No frequency information was provided, so inferred frequency W-SUN will be used.\n",
      "  self._init_dates(dates, freq)\n",
      "c:\\Users\\Luis\\Documents\\DevProjects\\esptfa-arima\\esptfa-arima-venv\\lib\\site-packages\\statsmodels\\tsa\\base\\tsa_model.py:473: ValueWarning: No frequency information was provided, so inferred frequency W-SUN will be used.\n",
      "  self._init_dates(dates, freq)\n",
      "c:\\Users\\Luis\\Documents\\DevProjects\\esptfa-arima\\esptfa-arima-venv\\lib\\site-packages\\statsmodels\\tsa\\base\\tsa_model.py:473: ValueWarning: No frequency information was provided, so inferred frequency W-SUN will be used.\n",
      "  self._init_dates(dates, freq)\n",
      "C:\\Users\\Luis\\AppData\\Local\\Temp\\ipykernel_4056\\2541929839.py:4: FutureWarning: Series.__getitem__ treating keys as positions is deprecated. In a future version, integer keys will always be treated as labels (consistent with DataFrame behavior). To access a value by position, use `ser.iloc[pos]`\n",
      "  arima_pred = arima_model.forecast(steps=1)[0]\n"
     ]
    },
    {
     "name": "stdout",
     "output_type": "stream",
     "text": [
      "\u001b[1m1/1\u001b[0m \u001b[32m━━━━━━━━━━━━━━━━━━━━\u001b[0m\u001b[37m\u001b[0m \u001b[1m0s\u001b[0m 29ms/step\n",
      "\u001b[1m1/1\u001b[0m \u001b[32m━━━━━━━━━━━━━━━━━━━━\u001b[0m\u001b[37m\u001b[0m \u001b[1m0s\u001b[0m 28ms/step\n"
     ]
    },
    {
     "name": "stderr",
     "output_type": "stream",
     "text": [
      "c:\\Users\\Luis\\Documents\\DevProjects\\esptfa-arima\\esptfa-arima-venv\\lib\\site-packages\\statsmodels\\tsa\\base\\tsa_model.py:473: ValueWarning: No frequency information was provided, so inferred frequency W-SUN will be used.\n",
      "  self._init_dates(dates, freq)\n",
      "c:\\Users\\Luis\\Documents\\DevProjects\\esptfa-arima\\esptfa-arima-venv\\lib\\site-packages\\statsmodels\\tsa\\base\\tsa_model.py:473: ValueWarning: No frequency information was provided, so inferred frequency W-SUN will be used.\n",
      "  self._init_dates(dates, freq)\n",
      "c:\\Users\\Luis\\Documents\\DevProjects\\esptfa-arima\\esptfa-arima-venv\\lib\\site-packages\\statsmodels\\tsa\\statespace\\sarimax.py:978: UserWarning: Non-invertible starting MA parameters found. Using zeros as starting parameters.\n",
      "  warn('Non-invertible starting MA parameters found.'\n",
      "c:\\Users\\Luis\\Documents\\DevProjects\\esptfa-arima\\esptfa-arima-venv\\lib\\site-packages\\statsmodels\\tsa\\base\\tsa_model.py:473: ValueWarning: No frequency information was provided, so inferred frequency W-SUN will be used.\n",
      "  self._init_dates(dates, freq)\n",
      "c:\\Users\\Luis\\Documents\\DevProjects\\esptfa-arima\\esptfa-arima-venv\\lib\\site-packages\\statsmodels\\tsa\\base\\tsa_model.py:473: ValueWarning: No frequency information was provided, so inferred frequency W-SUN will be used.\n",
      "  self._init_dates(dates, freq)\n",
      "C:\\Users\\Luis\\AppData\\Local\\Temp\\ipykernel_4056\\2541929839.py:4: FutureWarning: Series.__getitem__ treating keys as positions is deprecated. In a future version, integer keys will always be treated as labels (consistent with DataFrame behavior). To access a value by position, use `ser.iloc[pos]`\n",
      "  arima_pred = arima_model.forecast(steps=1)[0]\n",
      "c:\\Users\\Luis\\Documents\\DevProjects\\esptfa-arima\\esptfa-arima-venv\\lib\\site-packages\\statsmodels\\tsa\\base\\tsa_model.py:473: ValueWarning: No frequency information was provided, so inferred frequency W-SUN will be used.\n",
      "  self._init_dates(dates, freq)\n",
      "c:\\Users\\Luis\\Documents\\DevProjects\\esptfa-arima\\esptfa-arima-venv\\lib\\site-packages\\statsmodels\\tsa\\base\\tsa_model.py:473: ValueWarning: No frequency information was provided, so inferred frequency W-SUN will be used.\n",
      "  self._init_dates(dates, freq)\n",
      "c:\\Users\\Luis\\Documents\\DevProjects\\esptfa-arima\\esptfa-arima-venv\\lib\\site-packages\\statsmodels\\tsa\\statespace\\sarimax.py:978: UserWarning: Non-invertible starting MA parameters found. Using zeros as starting parameters.\n",
      "  warn('Non-invertible starting MA parameters found.'\n"
     ]
    },
    {
     "name": "stdout",
     "output_type": "stream",
     "text": [
      "\u001b[1m1/1\u001b[0m \u001b[32m━━━━━━━━━━━━━━━━━━━━\u001b[0m\u001b[37m\u001b[0m \u001b[1m0s\u001b[0m 29ms/step\n"
     ]
    },
    {
     "name": "stderr",
     "output_type": "stream",
     "text": [
      "c:\\Users\\Luis\\Documents\\DevProjects\\esptfa-arima\\esptfa-arima-venv\\lib\\site-packages\\statsmodels\\tsa\\base\\tsa_model.py:473: ValueWarning: No frequency information was provided, so inferred frequency W-SUN will be used.\n",
      "  self._init_dates(dates, freq)\n",
      "c:\\Users\\Luis\\Documents\\DevProjects\\esptfa-arima\\esptfa-arima-venv\\lib\\site-packages\\statsmodels\\tsa\\base\\tsa_model.py:473: ValueWarning: No frequency information was provided, so inferred frequency W-SUN will be used.\n",
      "  self._init_dates(dates, freq)\n",
      "c:\\Users\\Luis\\Documents\\DevProjects\\esptfa-arima\\esptfa-arima-venv\\lib\\site-packages\\statsmodels\\tsa\\statespace\\sarimax.py:978: UserWarning: Non-invertible starting MA parameters found. Using zeros as starting parameters.\n",
      "  warn('Non-invertible starting MA parameters found.'\n",
      "C:\\Users\\Luis\\AppData\\Local\\Temp\\ipykernel_4056\\2541929839.py:4: FutureWarning: Series.__getitem__ treating keys as positions is deprecated. In a future version, integer keys will always be treated as labels (consistent with DataFrame behavior). To access a value by position, use `ser.iloc[pos]`\n",
      "  arima_pred = arima_model.forecast(steps=1)[0]\n",
      "c:\\Users\\Luis\\Documents\\DevProjects\\esptfa-arima\\esptfa-arima-venv\\lib\\site-packages\\statsmodels\\tsa\\base\\tsa_model.py:473: ValueWarning: No frequency information was provided, so inferred frequency W-SUN will be used.\n",
      "  self._init_dates(dates, freq)\n",
      "c:\\Users\\Luis\\Documents\\DevProjects\\esptfa-arima\\esptfa-arima-venv\\lib\\site-packages\\statsmodels\\tsa\\base\\tsa_model.py:473: ValueWarning: No frequency information was provided, so inferred frequency W-SUN will be used.\n",
      "  self._init_dates(dates, freq)\n",
      "c:\\Users\\Luis\\Documents\\DevProjects\\esptfa-arima\\esptfa-arima-venv\\lib\\site-packages\\statsmodels\\tsa\\base\\tsa_model.py:473: ValueWarning: No frequency information was provided, so inferred frequency W-SUN will be used.\n",
      "  self._init_dates(dates, freq)\n",
      "c:\\Users\\Luis\\Documents\\DevProjects\\esptfa-arima\\esptfa-arima-venv\\lib\\site-packages\\statsmodels\\tsa\\base\\tsa_model.py:473: ValueWarning: No frequency information was provided, so inferred frequency W-SUN will be used.\n",
      "  self._init_dates(dates, freq)\n"
     ]
    },
    {
     "name": "stdout",
     "output_type": "stream",
     "text": [
      "\u001b[1m1/1\u001b[0m \u001b[32m━━━━━━━━━━━━━━━━━━━━\u001b[0m\u001b[37m\u001b[0m \u001b[1m0s\u001b[0m 28ms/step\n"
     ]
    },
    {
     "name": "stderr",
     "output_type": "stream",
     "text": [
      "C:\\Users\\Luis\\AppData\\Local\\Temp\\ipykernel_4056\\2541929839.py:4: FutureWarning: Series.__getitem__ treating keys as positions is deprecated. In a future version, integer keys will always be treated as labels (consistent with DataFrame behavior). To access a value by position, use `ser.iloc[pos]`\n",
      "  arima_pred = arima_model.forecast(steps=1)[0]\n",
      "c:\\Users\\Luis\\Documents\\DevProjects\\esptfa-arima\\esptfa-arima-venv\\lib\\site-packages\\statsmodels\\tsa\\base\\tsa_model.py:473: ValueWarning: No frequency information was provided, so inferred frequency W-SUN will be used.\n",
      "  self._init_dates(dates, freq)\n",
      "c:\\Users\\Luis\\Documents\\DevProjects\\esptfa-arima\\esptfa-arima-venv\\lib\\site-packages\\statsmodels\\tsa\\base\\tsa_model.py:473: ValueWarning: No frequency information was provided, so inferred frequency W-SUN will be used.\n",
      "  self._init_dates(dates, freq)\n",
      "c:\\Users\\Luis\\Documents\\DevProjects\\esptfa-arima\\esptfa-arima-venv\\lib\\site-packages\\statsmodels\\tsa\\base\\tsa_model.py:473: ValueWarning: No frequency information was provided, so inferred frequency W-SUN will be used.\n",
      "  self._init_dates(dates, freq)\n",
      "c:\\Users\\Luis\\Documents\\DevProjects\\esptfa-arima\\esptfa-arima-venv\\lib\\site-packages\\statsmodels\\tsa\\base\\tsa_model.py:473: ValueWarning: No frequency information was provided, so inferred frequency W-SUN will be used.\n",
      "  self._init_dates(dates, freq)\n",
      "c:\\Users\\Luis\\Documents\\DevProjects\\esptfa-arima\\esptfa-arima-venv\\lib\\site-packages\\statsmodels\\tsa\\statespace\\sarimax.py:978: UserWarning: Non-invertible starting MA parameters found. Using zeros as starting parameters.\n",
      "  warn('Non-invertible starting MA parameters found.'\n"
     ]
    },
    {
     "name": "stdout",
     "output_type": "stream",
     "text": [
      "\u001b[1m1/1\u001b[0m \u001b[32m━━━━━━━━━━━━━━━━━━━━\u001b[0m\u001b[37m\u001b[0m \u001b[1m0s\u001b[0m 26ms/step\n",
      "\u001b[1m1/1\u001b[0m \u001b[32m━━━━━━━━━━━━━━━━━━━━\u001b[0m\u001b[37m\u001b[0m \u001b[1m0s\u001b[0m 15ms/step"
     ]
    },
    {
     "name": "stderr",
     "output_type": "stream",
     "text": [
      "C:\\Users\\Luis\\AppData\\Local\\Temp\\ipykernel_4056\\2541929839.py:4: FutureWarning: Series.__getitem__ treating keys as positions is deprecated. In a future version, integer keys will always be treated as labels (consistent with DataFrame behavior). To access a value by position, use `ser.iloc[pos]`\n",
      "  arima_pred = arima_model.forecast(steps=1)[0]\n",
      "c:\\Users\\Luis\\Documents\\DevProjects\\esptfa-arima\\esptfa-arima-venv\\lib\\site-packages\\statsmodels\\tsa\\base\\tsa_model.py:473: ValueWarning: No frequency information was provided, so inferred frequency W-SUN will be used.\n",
      "  self._init_dates(dates, freq)\n",
      "c:\\Users\\Luis\\Documents\\DevProjects\\esptfa-arima\\esptfa-arima-venv\\lib\\site-packages\\statsmodels\\base\\model.py:607: ConvergenceWarning: Maximum Likelihood optimization failed to converge. Check mle_retvals\n",
      "  warnings.warn(\"Maximum Likelihood optimization failed to \"\n",
      "c:\\Users\\Luis\\Documents\\DevProjects\\esptfa-arima\\esptfa-arima-venv\\lib\\site-packages\\statsmodels\\tsa\\base\\tsa_model.py:473: ValueWarning: No frequency information was provided, so inferred frequency W-SUN will be used.\n",
      "  self._init_dates(dates, freq)\n",
      "c:\\Users\\Luis\\Documents\\DevProjects\\esptfa-arima\\esptfa-arima-venv\\lib\\site-packages\\statsmodels\\tsa\\base\\tsa_model.py:473: ValueWarning: No frequency information was provided, so inferred frequency W-SUN will be used.\n",
      "  self._init_dates(dates, freq)\n",
      "c:\\Users\\Luis\\Documents\\DevProjects\\esptfa-arima\\esptfa-arima-venv\\lib\\site-packages\\statsmodels\\tsa\\base\\tsa_model.py:473: ValueWarning: No frequency information was provided, so inferred frequency W-SUN will be used.\n",
      "  self._init_dates(dates, freq)\n",
      "c:\\Users\\Luis\\Documents\\DevProjects\\esptfa-arima\\esptfa-arima-venv\\lib\\site-packages\\statsmodels\\tsa\\statespace\\sarimax.py:966: UserWarning: Non-stationary starting autoregressive parameters found. Using zeros as starting parameters.\n",
      "  warn('Non-stationary starting autoregressive parameters'\n",
      "c:\\Users\\Luis\\Documents\\DevProjects\\esptfa-arima\\esptfa-arima-venv\\lib\\site-packages\\statsmodels\\tsa\\statespace\\sarimax.py:978: UserWarning: Non-invertible starting MA parameters found. Using zeros as starting parameters.\n",
      "  warn('Non-invertible starting MA parameters found.'\n",
      "C:\\Users\\Luis\\AppData\\Local\\Temp\\ipykernel_4056\\2541929839.py:4: FutureWarning: Series.__getitem__ treating keys as positions is deprecated. In a future version, integer keys will always be treated as labels (consistent with DataFrame behavior). To access a value by position, use `ser.iloc[pos]`\n",
      "  arima_pred = arima_model.forecast(steps=1)[0]\n"
     ]
    },
    {
     "name": "stdout",
     "output_type": "stream",
     "text": [
      "\u001b[1m1/1\u001b[0m \u001b[32m━━━━━━━━━━━━━━━━━━━━\u001b[0m\u001b[37m\u001b[0m \u001b[1m0s\u001b[0m 28ms/step\n",
      "\u001b[1m1/1\u001b[0m \u001b[32m━━━━━━━━━━━━━━━━━━━━\u001b[0m\u001b[37m\u001b[0m \u001b[1m0s\u001b[0m 27ms/step\n"
     ]
    },
    {
     "name": "stderr",
     "output_type": "stream",
     "text": [
      "c:\\Users\\Luis\\Documents\\DevProjects\\esptfa-arima\\esptfa-arima-venv\\lib\\site-packages\\statsmodels\\tsa\\base\\tsa_model.py:473: ValueWarning: No frequency information was provided, so inferred frequency W-SUN will be used.\n",
      "  self._init_dates(dates, freq)\n",
      "c:\\Users\\Luis\\Documents\\DevProjects\\esptfa-arima\\esptfa-arima-venv\\lib\\site-packages\\statsmodels\\tsa\\base\\tsa_model.py:473: ValueWarning: No frequency information was provided, so inferred frequency W-SUN will be used.\n",
      "  self._init_dates(dates, freq)\n",
      "c:\\Users\\Luis\\Documents\\DevProjects\\esptfa-arima\\esptfa-arima-venv\\lib\\site-packages\\statsmodels\\tsa\\statespace\\sarimax.py:978: UserWarning: Non-invertible starting MA parameters found. Using zeros as starting parameters.\n",
      "  warn('Non-invertible starting MA parameters found.'\n",
      "c:\\Users\\Luis\\Documents\\DevProjects\\esptfa-arima\\esptfa-arima-venv\\lib\\site-packages\\statsmodels\\tsa\\base\\tsa_model.py:473: ValueWarning: No frequency information was provided, so inferred frequency W-SUN will be used.\n",
      "  self._init_dates(dates, freq)\n",
      "c:\\Users\\Luis\\Documents\\DevProjects\\esptfa-arima\\esptfa-arima-venv\\lib\\site-packages\\statsmodels\\tsa\\base\\tsa_model.py:473: ValueWarning: No frequency information was provided, so inferred frequency W-SUN will be used.\n",
      "  self._init_dates(dates, freq)\n",
      "C:\\Users\\Luis\\AppData\\Local\\Temp\\ipykernel_4056\\2541929839.py:4: FutureWarning: Series.__getitem__ treating keys as positions is deprecated. In a future version, integer keys will always be treated as labels (consistent with DataFrame behavior). To access a value by position, use `ser.iloc[pos]`\n",
      "  arima_pred = arima_model.forecast(steps=1)[0]\n"
     ]
    },
    {
     "name": "stdout",
     "output_type": "stream",
     "text": [
      "\u001b[1m1/1\u001b[0m \u001b[32m━━━━━━━━━━━━━━━━━━━━\u001b[0m\u001b[37m\u001b[0m \u001b[1m0s\u001b[0m 26ms/step\n"
     ]
    },
    {
     "name": "stderr",
     "output_type": "stream",
     "text": [
      "c:\\Users\\Luis\\Documents\\DevProjects\\esptfa-arima\\esptfa-arima-venv\\lib\\site-packages\\statsmodels\\tsa\\base\\tsa_model.py:473: ValueWarning: No frequency information was provided, so inferred frequency W-SUN will be used.\n",
      "  self._init_dates(dates, freq)\n",
      "c:\\Users\\Luis\\Documents\\DevProjects\\esptfa-arima\\esptfa-arima-venv\\lib\\site-packages\\statsmodels\\base\\model.py:607: ConvergenceWarning: Maximum Likelihood optimization failed to converge. Check mle_retvals\n",
      "  warnings.warn(\"Maximum Likelihood optimization failed to \"\n",
      "c:\\Users\\Luis\\Documents\\DevProjects\\esptfa-arima\\esptfa-arima-venv\\lib\\site-packages\\statsmodels\\tsa\\base\\tsa_model.py:473: ValueWarning: No frequency information was provided, so inferred frequency W-SUN will be used.\n",
      "  self._init_dates(dates, freq)\n",
      "c:\\Users\\Luis\\Documents\\DevProjects\\esptfa-arima\\esptfa-arima-venv\\lib\\site-packages\\statsmodels\\tsa\\base\\tsa_model.py:473: ValueWarning: No frequency information was provided, so inferred frequency W-SUN will be used.\n",
      "  self._init_dates(dates, freq)\n",
      "c:\\Users\\Luis\\Documents\\DevProjects\\esptfa-arima\\esptfa-arima-venv\\lib\\site-packages\\statsmodels\\tsa\\base\\tsa_model.py:473: ValueWarning: No frequency information was provided, so inferred frequency W-SUN will be used.\n",
      "  self._init_dates(dates, freq)\n",
      "C:\\Users\\Luis\\AppData\\Local\\Temp\\ipykernel_4056\\2541929839.py:4: FutureWarning: Series.__getitem__ treating keys as positions is deprecated. In a future version, integer keys will always be treated as labels (consistent with DataFrame behavior). To access a value by position, use `ser.iloc[pos]`\n",
      "  arima_pred = arima_model.forecast(steps=1)[0]\n",
      "c:\\Users\\Luis\\Documents\\DevProjects\\esptfa-arima\\esptfa-arima-venv\\lib\\site-packages\\statsmodels\\tsa\\base\\tsa_model.py:473: ValueWarning: No frequency information was provided, so inferred frequency W-SUN will be used.\n",
      "  self._init_dates(dates, freq)\n",
      "c:\\Users\\Luis\\Documents\\DevProjects\\esptfa-arima\\esptfa-arima-venv\\lib\\site-packages\\statsmodels\\tsa\\base\\tsa_model.py:473: ValueWarning: No frequency information was provided, so inferred frequency W-SUN will be used.\n",
      "  self._init_dates(dates, freq)\n",
      "c:\\Users\\Luis\\Documents\\DevProjects\\esptfa-arima\\esptfa-arima-venv\\lib\\site-packages\\statsmodels\\tsa\\statespace\\sarimax.py:978: UserWarning: Non-invertible starting MA parameters found. Using zeros as starting parameters.\n",
      "  warn('Non-invertible starting MA parameters found.'\n"
     ]
    },
    {
     "name": "stdout",
     "output_type": "stream",
     "text": [
      "\u001b[1m1/1\u001b[0m \u001b[32m━━━━━━━━━━━━━━━━━━━━\u001b[0m\u001b[37m\u001b[0m \u001b[1m0s\u001b[0m 27ms/step\n"
     ]
    },
    {
     "name": "stderr",
     "output_type": "stream",
     "text": [
      "c:\\Users\\Luis\\Documents\\DevProjects\\esptfa-arima\\esptfa-arima-venv\\lib\\site-packages\\statsmodels\\tsa\\base\\tsa_model.py:473: ValueWarning: No frequency information was provided, so inferred frequency W-SUN will be used.\n",
      "  self._init_dates(dates, freq)\n",
      "c:\\Users\\Luis\\Documents\\DevProjects\\esptfa-arima\\esptfa-arima-venv\\lib\\site-packages\\statsmodels\\tsa\\base\\tsa_model.py:473: ValueWarning: No frequency information was provided, so inferred frequency W-SUN will be used.\n",
      "  self._init_dates(dates, freq)\n",
      "c:\\Users\\Luis\\Documents\\DevProjects\\esptfa-arima\\esptfa-arima-venv\\lib\\site-packages\\statsmodels\\tsa\\statespace\\sarimax.py:978: UserWarning: Non-invertible starting MA parameters found. Using zeros as starting parameters.\n",
      "  warn('Non-invertible starting MA parameters found.'\n",
      "C:\\Users\\Luis\\AppData\\Local\\Temp\\ipykernel_4056\\2541929839.py:4: FutureWarning: Series.__getitem__ treating keys as positions is deprecated. In a future version, integer keys will always be treated as labels (consistent with DataFrame behavior). To access a value by position, use `ser.iloc[pos]`\n",
      "  arima_pred = arima_model.forecast(steps=1)[0]\n",
      "c:\\Users\\Luis\\Documents\\DevProjects\\esptfa-arima\\esptfa-arima-venv\\lib\\site-packages\\statsmodels\\tsa\\base\\tsa_model.py:473: ValueWarning: No frequency information was provided, so inferred frequency W-SUN will be used.\n",
      "  self._init_dates(dates, freq)\n",
      "c:\\Users\\Luis\\Documents\\DevProjects\\esptfa-arima\\esptfa-arima-venv\\lib\\site-packages\\statsmodels\\tsa\\base\\tsa_model.py:473: ValueWarning: No frequency information was provided, so inferred frequency W-SUN will be used.\n",
      "  self._init_dates(dates, freq)\n",
      "c:\\Users\\Luis\\Documents\\DevProjects\\esptfa-arima\\esptfa-arima-venv\\lib\\site-packages\\statsmodels\\tsa\\base\\tsa_model.py:473: ValueWarning: No frequency information was provided, so inferred frequency W-SUN will be used.\n",
      "  self._init_dates(dates, freq)\n",
      "c:\\Users\\Luis\\Documents\\DevProjects\\esptfa-arima\\esptfa-arima-venv\\lib\\site-packages\\statsmodels\\base\\model.py:607: ConvergenceWarning: Maximum Likelihood optimization failed to converge. Check mle_retvals\n",
      "  warnings.warn(\"Maximum Likelihood optimization failed to \"\n"
     ]
    },
    {
     "name": "stdout",
     "output_type": "stream",
     "text": [
      "\u001b[1m1/1\u001b[0m \u001b[32m━━━━━━━━━━━━━━━━━━━━\u001b[0m\u001b[37m\u001b[0m \u001b[1m0s\u001b[0m 29ms/step\n"
     ]
    },
    {
     "name": "stderr",
     "output_type": "stream",
     "text": [
      "c:\\Users\\Luis\\Documents\\DevProjects\\esptfa-arima\\esptfa-arima-venv\\lib\\site-packages\\statsmodels\\tsa\\base\\tsa_model.py:473: ValueWarning: No frequency information was provided, so inferred frequency W-SUN will be used.\n",
      "  self._init_dates(dates, freq)\n",
      "C:\\Users\\Luis\\AppData\\Local\\Temp\\ipykernel_4056\\2541929839.py:4: FutureWarning: Series.__getitem__ treating keys as positions is deprecated. In a future version, integer keys will always be treated as labels (consistent with DataFrame behavior). To access a value by position, use `ser.iloc[pos]`\n",
      "  arima_pred = arima_model.forecast(steps=1)[0]\n",
      "c:\\Users\\Luis\\Documents\\DevProjects\\esptfa-arima\\esptfa-arima-venv\\lib\\site-packages\\statsmodels\\tsa\\base\\tsa_model.py:473: ValueWarning: No frequency information was provided, so inferred frequency W-SUN will be used.\n",
      "  self._init_dates(dates, freq)\n",
      "c:\\Users\\Luis\\Documents\\DevProjects\\esptfa-arima\\esptfa-arima-venv\\lib\\site-packages\\statsmodels\\tsa\\base\\tsa_model.py:473: ValueWarning: No frequency information was provided, so inferred frequency W-SUN will be used.\n",
      "  self._init_dates(dates, freq)\n",
      "c:\\Users\\Luis\\Documents\\DevProjects\\esptfa-arima\\esptfa-arima-venv\\lib\\site-packages\\statsmodels\\tsa\\base\\tsa_model.py:473: ValueWarning: No frequency information was provided, so inferred frequency W-SUN will be used.\n",
      "  self._init_dates(dates, freq)\n",
      "c:\\Users\\Luis\\Documents\\DevProjects\\esptfa-arima\\esptfa-arima-venv\\lib\\site-packages\\statsmodels\\tsa\\base\\tsa_model.py:473: ValueWarning: No frequency information was provided, so inferred frequency W-SUN will be used.\n",
      "  self._init_dates(dates, freq)\n"
     ]
    },
    {
     "name": "stdout",
     "output_type": "stream",
     "text": [
      "\u001b[1m1/1\u001b[0m \u001b[32m━━━━━━━━━━━━━━━━━━━━\u001b[0m\u001b[37m\u001b[0m \u001b[1m0s\u001b[0m 42ms/step\n"
     ]
    },
    {
     "name": "stderr",
     "output_type": "stream",
     "text": [
      "C:\\Users\\Luis\\AppData\\Local\\Temp\\ipykernel_4056\\2541929839.py:4: FutureWarning: Series.__getitem__ treating keys as positions is deprecated. In a future version, integer keys will always be treated as labels (consistent with DataFrame behavior). To access a value by position, use `ser.iloc[pos]`\n",
      "  arima_pred = arima_model.forecast(steps=1)[0]\n",
      "c:\\Users\\Luis\\Documents\\DevProjects\\esptfa-arima\\esptfa-arima-venv\\lib\\site-packages\\statsmodels\\tsa\\base\\tsa_model.py:473: ValueWarning: No frequency information was provided, so inferred frequency W-SUN will be used.\n",
      "  self._init_dates(dates, freq)\n",
      "c:\\Users\\Luis\\Documents\\DevProjects\\esptfa-arima\\esptfa-arima-venv\\lib\\site-packages\\statsmodels\\tsa\\base\\tsa_model.py:473: ValueWarning: No frequency information was provided, so inferred frequency W-SUN will be used.\n",
      "  self._init_dates(dates, freq)\n",
      "c:\\Users\\Luis\\Documents\\DevProjects\\esptfa-arima\\esptfa-arima-venv\\lib\\site-packages\\statsmodels\\tsa\\statespace\\sarimax.py:978: UserWarning: Non-invertible starting MA parameters found. Using zeros as starting parameters.\n",
      "  warn('Non-invertible starting MA parameters found.'\n",
      "c:\\Users\\Luis\\Documents\\DevProjects\\esptfa-arima\\esptfa-arima-venv\\lib\\site-packages\\statsmodels\\tsa\\base\\tsa_model.py:473: ValueWarning: No frequency information was provided, so inferred frequency W-SUN will be used.\n",
      "  self._init_dates(dates, freq)\n",
      "c:\\Users\\Luis\\Documents\\DevProjects\\esptfa-arima\\esptfa-arima-venv\\lib\\site-packages\\statsmodels\\tsa\\base\\tsa_model.py:473: ValueWarning: No frequency information was provided, so inferred frequency W-SUN will be used.\n",
      "  self._init_dates(dates, freq)\n"
     ]
    },
    {
     "name": "stdout",
     "output_type": "stream",
     "text": [
      "\u001b[1m1/1\u001b[0m \u001b[32m━━━━━━━━━━━━━━━━━━━━\u001b[0m\u001b[37m\u001b[0m \u001b[1m0s\u001b[0m 31ms/step\n"
     ]
    },
    {
     "name": "stderr",
     "output_type": "stream",
     "text": [
      "C:\\Users\\Luis\\AppData\\Local\\Temp\\ipykernel_4056\\2541929839.py:4: FutureWarning: Series.__getitem__ treating keys as positions is deprecated. In a future version, integer keys will always be treated as labels (consistent with DataFrame behavior). To access a value by position, use `ser.iloc[pos]`\n",
      "  arima_pred = arima_model.forecast(steps=1)[0]\n",
      "c:\\Users\\Luis\\Documents\\DevProjects\\esptfa-arima\\esptfa-arima-venv\\lib\\site-packages\\statsmodels\\tsa\\base\\tsa_model.py:473: ValueWarning: No frequency information was provided, so inferred frequency W-SUN will be used.\n",
      "  self._init_dates(dates, freq)\n",
      "c:\\Users\\Luis\\Documents\\DevProjects\\esptfa-arima\\esptfa-arima-venv\\lib\\site-packages\\statsmodels\\tsa\\base\\tsa_model.py:473: ValueWarning: No frequency information was provided, so inferred frequency W-SUN will be used.\n",
      "  self._init_dates(dates, freq)\n",
      "c:\\Users\\Luis\\Documents\\DevProjects\\esptfa-arima\\esptfa-arima-venv\\lib\\site-packages\\statsmodels\\tsa\\base\\tsa_model.py:473: ValueWarning: No frequency information was provided, so inferred frequency W-SUN will be used.\n",
      "  self._init_dates(dates, freq)\n",
      "c:\\Users\\Luis\\Documents\\DevProjects\\esptfa-arima\\esptfa-arima-venv\\lib\\site-packages\\statsmodels\\tsa\\base\\tsa_model.py:473: ValueWarning: No frequency information was provided, so inferred frequency W-SUN will be used.\n",
      "  self._init_dates(dates, freq)\n"
     ]
    },
    {
     "name": "stdout",
     "output_type": "stream",
     "text": [
      "\u001b[1m1/1\u001b[0m \u001b[32m━━━━━━━━━━━━━━━━━━━━\u001b[0m\u001b[37m\u001b[0m \u001b[1m0s\u001b[0m 82ms/step\n"
     ]
    },
    {
     "name": "stderr",
     "output_type": "stream",
     "text": [
      "C:\\Users\\Luis\\AppData\\Local\\Temp\\ipykernel_4056\\2541929839.py:4: FutureWarning: Series.__getitem__ treating keys as positions is deprecated. In a future version, integer keys will always be treated as labels (consistent with DataFrame behavior). To access a value by position, use `ser.iloc[pos]`\n",
      "  arima_pred = arima_model.forecast(steps=1)[0]\n",
      "c:\\Users\\Luis\\Documents\\DevProjects\\esptfa-arima\\esptfa-arima-venv\\lib\\site-packages\\statsmodels\\tsa\\base\\tsa_model.py:473: ValueWarning: No frequency information was provided, so inferred frequency W-SUN will be used.\n",
      "  self._init_dates(dates, freq)\n",
      "c:\\Users\\Luis\\Documents\\DevProjects\\esptfa-arima\\esptfa-arima-venv\\lib\\site-packages\\statsmodels\\tsa\\base\\tsa_model.py:473: ValueWarning: No frequency information was provided, so inferred frequency W-SUN will be used.\n",
      "  self._init_dates(dates, freq)\n",
      "c:\\Users\\Luis\\Documents\\DevProjects\\esptfa-arima\\esptfa-arima-venv\\lib\\site-packages\\statsmodels\\tsa\\base\\tsa_model.py:473: ValueWarning: No frequency information was provided, so inferred frequency W-SUN will be used.\n",
      "  self._init_dates(dates, freq)\n",
      "c:\\Users\\Luis\\Documents\\DevProjects\\esptfa-arima\\esptfa-arima-venv\\lib\\site-packages\\statsmodels\\tsa\\base\\tsa_model.py:473: ValueWarning: No frequency information was provided, so inferred frequency W-SUN will be used.\n",
      "  self._init_dates(dates, freq)\n"
     ]
    },
    {
     "name": "stdout",
     "output_type": "stream",
     "text": [
      "\u001b[1m1/1\u001b[0m \u001b[32m━━━━━━━━━━━━━━━━━━━━\u001b[0m\u001b[37m\u001b[0m \u001b[1m0s\u001b[0m 29ms/step\n"
     ]
    },
    {
     "name": "stderr",
     "output_type": "stream",
     "text": [
      "C:\\Users\\Luis\\AppData\\Local\\Temp\\ipykernel_4056\\2541929839.py:4: FutureWarning: Series.__getitem__ treating keys as positions is deprecated. In a future version, integer keys will always be treated as labels (consistent with DataFrame behavior). To access a value by position, use `ser.iloc[pos]`\n",
      "  arima_pred = arima_model.forecast(steps=1)[0]\n"
     ]
    }
   ],
   "source": [
    "mae_wo_test = train_model_without_test(test_data_long)\n"
   ]
  },
  {
   "cell_type": "code",
   "execution_count": 17,
   "metadata": {},
   "outputs": [
    {
     "data": {
      "text/html": [
       "<div>\n",
       "<style scoped>\n",
       "    .dataframe tbody tr th:only-of-type {\n",
       "        vertical-align: middle;\n",
       "    }\n",
       "\n",
       "    .dataframe tbody tr th {\n",
       "        vertical-align: top;\n",
       "    }\n",
       "\n",
       "    .dataframe thead th {\n",
       "        text-align: right;\n",
       "    }\n",
       "</style>\n",
       "<table border=\"1\" class=\"dataframe\">\n",
       "  <thead>\n",
       "    <tr style=\"text-align: right;\">\n",
       "      <th></th>\n",
       "      <th>student_id</th>\n",
       "      <th>arima_mae</th>\n",
       "      <th>hybrid_mae</th>\n",
       "      <th>best_prediction</th>\n",
       "    </tr>\n",
       "  </thead>\n",
       "  <tbody>\n",
       "    <tr>\n",
       "      <th>0</th>\n",
       "      <td>105522130030</td>\n",
       "      <td>0.714286</td>\n",
       "      <td>0.400331</td>\n",
       "      <td>[4.599669204088434]</td>\n",
       "    </tr>\n",
       "    <tr>\n",
       "      <th>1</th>\n",
       "      <td>108934110011</td>\n",
       "      <td>0.340415</td>\n",
       "      <td>0.127020</td>\n",
       "      <td>[15.12701956318773]</td>\n",
       "    </tr>\n",
       "    <tr>\n",
       "      <th>2</th>\n",
       "      <td>109323130439</td>\n",
       "      <td>2.000000</td>\n",
       "      <td>0.956812</td>\n",
       "      <td>[19.956812071613967]</td>\n",
       "    </tr>\n",
       "    <tr>\n",
       "      <th>3</th>\n",
       "      <td>109461140179</td>\n",
       "      <td>0.071354</td>\n",
       "      <td>0.007511</td>\n",
       "      <td>[15.992489071918762]</td>\n",
       "    </tr>\n",
       "    <tr>\n",
       "      <th>4</th>\n",
       "      <td>109466130459</td>\n",
       "      <td>2.000000</td>\n",
       "      <td>1.043188</td>\n",
       "      <td>[10.956812071613967]</td>\n",
       "    </tr>\n",
       "    <tr>\n",
       "      <th>5</th>\n",
       "      <td>109466130504</td>\n",
       "      <td>0.500759</td>\n",
       "      <td>0.293567</td>\n",
       "      <td>[4.706432772506176]</td>\n",
       "    </tr>\n",
       "    <tr>\n",
       "      <th>6</th>\n",
       "      <td>109466140189</td>\n",
       "      <td>0.357104</td>\n",
       "      <td>0.221740</td>\n",
       "      <td>[7.778259937410066]</td>\n",
       "    </tr>\n",
       "    <tr>\n",
       "      <th>7</th>\n",
       "      <td>109469121797</td>\n",
       "      <td>0.217630</td>\n",
       "      <td>0.152003</td>\n",
       "      <td>[6.847997019654992]</td>\n",
       "    </tr>\n",
       "    <tr>\n",
       "      <th>8</th>\n",
       "      <td>109469140122</td>\n",
       "      <td>0.142859</td>\n",
       "      <td>0.114618</td>\n",
       "      <td>[12.885382428527286]</td>\n",
       "    </tr>\n",
       "    <tr>\n",
       "      <th>9</th>\n",
       "      <td>109471100020</td>\n",
       "      <td>0.428551</td>\n",
       "      <td>0.171088</td>\n",
       "      <td>[20.1710876777122]</td>\n",
       "    </tr>\n",
       "    <tr>\n",
       "      <th>10</th>\n",
       "      <td>109476130060</td>\n",
       "      <td>1.000000</td>\n",
       "      <td>0.543188</td>\n",
       "      <td>[5.456812071613967]</td>\n",
       "    </tr>\n",
       "    <tr>\n",
       "      <th>11</th>\n",
       "      <td>109476130094</td>\n",
       "      <td>0.304858</td>\n",
       "      <td>0.109241</td>\n",
       "      <td>[18.10924091900939]</td>\n",
       "    </tr>\n",
       "    <tr>\n",
       "      <th>12</th>\n",
       "      <td>109477130972</td>\n",
       "      <td>0.976357</td>\n",
       "      <td>0.531366</td>\n",
       "      <td>[5.468633782231975]</td>\n",
       "    </tr>\n",
       "    <tr>\n",
       "      <th>13</th>\n",
       "      <td>109477140705</td>\n",
       "      <td>0.282344</td>\n",
       "      <td>0.184360</td>\n",
       "      <td>[8.815640016964082]</td>\n",
       "    </tr>\n",
       "    <tr>\n",
       "      <th>14</th>\n",
       "      <td>109478060616</td>\n",
       "      <td>0.643029</td>\n",
       "      <td>0.364703</td>\n",
       "      <td>[0.6352974053530442]</td>\n",
       "    </tr>\n",
       "    <tr>\n",
       "      <th>15</th>\n",
       "      <td>109478120108</td>\n",
       "      <td>0.069582</td>\n",
       "      <td>0.077979</td>\n",
       "      <td>[10.930418143216311]</td>\n",
       "    </tr>\n",
       "    <tr>\n",
       "      <th>16</th>\n",
       "      <td>109478120133</td>\n",
       "      <td>0.357424</td>\n",
       "      <td>0.221900</td>\n",
       "      <td>[7.778100153318174]</td>\n",
       "    </tr>\n",
       "    <tr>\n",
       "      <th>17</th>\n",
       "      <td>109478121154</td>\n",
       "      <td>1.000000</td>\n",
       "      <td>0.543188</td>\n",
       "      <td>[5.456812071613967]</td>\n",
       "    </tr>\n",
       "    <tr>\n",
       "      <th>18</th>\n",
       "      <td>109478130104</td>\n",
       "      <td>0.193208</td>\n",
       "      <td>0.139792</td>\n",
       "      <td>[2.8602079766139963]</td>\n",
       "    </tr>\n",
       "    <tr>\n",
       "      <th>19</th>\n",
       "      <td>109478130109</td>\n",
       "      <td>0.214247</td>\n",
       "      <td>0.063935</td>\n",
       "      <td>[14.063935409914446]</td>\n",
       "    </tr>\n",
       "    <tr>\n",
       "      <th>20</th>\n",
       "      <td>109478130361</td>\n",
       "      <td>0.071991</td>\n",
       "      <td>0.007192</td>\n",
       "      <td>[13.992807785264906]</td>\n",
       "    </tr>\n",
       "    <tr>\n",
       "      <th>21</th>\n",
       "      <td>109478130515</td>\n",
       "      <td>0.357148</td>\n",
       "      <td>0.135386</td>\n",
       "      <td>[19.135385940050973]</td>\n",
       "    </tr>\n",
       "    <tr>\n",
       "      <th>22</th>\n",
       "      <td>109478130516</td>\n",
       "      <td>0.306512</td>\n",
       "      <td>0.196444</td>\n",
       "      <td>[13.803556140451658]</td>\n",
       "    </tr>\n",
       "    <tr>\n",
       "      <th>23</th>\n",
       "      <td>109478130737</td>\n",
       "      <td>0.629509</td>\n",
       "      <td>0.271567</td>\n",
       "      <td>[20.27156655340232]</td>\n",
       "    </tr>\n",
       "    <tr>\n",
       "      <th>24</th>\n",
       "      <td>109478130739</td>\n",
       "      <td>0.274745</td>\n",
       "      <td>0.094185</td>\n",
       "      <td>[13.094184525078777]</td>\n",
       "    </tr>\n",
       "    <tr>\n",
       "      <th>25</th>\n",
       "      <td>109478130868</td>\n",
       "      <td>0.121599</td>\n",
       "      <td>0.017612</td>\n",
       "      <td>[17.017611781082955]</td>\n",
       "    </tr>\n",
       "    <tr>\n",
       "      <th>26</th>\n",
       "      <td>109478131055</td>\n",
       "      <td>2.000000</td>\n",
       "      <td>1.043188</td>\n",
       "      <td>[15.956812071613967]</td>\n",
       "    </tr>\n",
       "    <tr>\n",
       "      <th>27</th>\n",
       "      <td>109479140148</td>\n",
       "      <td>0.392321</td>\n",
       "      <td>0.239349</td>\n",
       "      <td>[19.760651442319386]</td>\n",
       "    </tr>\n",
       "    <tr>\n",
       "      <th>28</th>\n",
       "      <td>109479140506</td>\n",
       "      <td>0.357738</td>\n",
       "      <td>0.135681</td>\n",
       "      <td>[20.13568101093177]</td>\n",
       "    </tr>\n",
       "    <tr>\n",
       "      <th>29</th>\n",
       "      <td>109480120148</td>\n",
       "      <td>0.800240</td>\n",
       "      <td>0.443308</td>\n",
       "      <td>[1.5566918425685967]</td>\n",
       "    </tr>\n",
       "    <tr>\n",
       "      <th>30</th>\n",
       "      <td>109480120395</td>\n",
       "      <td>2.000000</td>\n",
       "      <td>1.043188</td>\n",
       "      <td>[16.956812071613967]</td>\n",
       "    </tr>\n",
       "    <tr>\n",
       "      <th>31</th>\n",
       "      <td>111395130027</td>\n",
       "      <td>0.071725</td>\n",
       "      <td>0.079050</td>\n",
       "      <td>[9.92827497895509]</td>\n",
       "    </tr>\n",
       "    <tr>\n",
       "      <th>32</th>\n",
       "      <td>124440130048</td>\n",
       "      <td>2.000000</td>\n",
       "      <td>0.956812</td>\n",
       "      <td>[10.956812071613967]</td>\n",
       "    </tr>\n",
       "    <tr>\n",
       "      <th>33</th>\n",
       "      <td>124635120016</td>\n",
       "      <td>2.000000</td>\n",
       "      <td>1.043188</td>\n",
       "      <td>[6.956812071613967]</td>\n",
       "    </tr>\n",
       "    <tr>\n",
       "      <th>34</th>\n",
       "      <td>130428130173</td>\n",
       "      <td>0.214018</td>\n",
       "      <td>0.063821</td>\n",
       "      <td>[15.063820875234754]</td>\n",
       "    </tr>\n",
       "    <tr>\n",
       "      <th>35</th>\n",
       "      <td>136470130026</td>\n",
       "      <td>1.035593</td>\n",
       "      <td>0.474608</td>\n",
       "      <td>[17.474608360882467]</td>\n",
       "    </tr>\n",
       "    <tr>\n",
       "      <th>36</th>\n",
       "      <td>136540141587</td>\n",
       "      <td>0.887745</td>\n",
       "      <td>0.487060</td>\n",
       "      <td>[16.51293966423476]</td>\n",
       "    </tr>\n",
       "    <tr>\n",
       "      <th>37</th>\n",
       "      <td>136541122414</td>\n",
       "      <td>0.285771</td>\n",
       "      <td>0.099698</td>\n",
       "      <td>[16.099697550841693]</td>\n",
       "    </tr>\n",
       "    <tr>\n",
       "      <th>38</th>\n",
       "      <td>136545120177</td>\n",
       "      <td>1.000000</td>\n",
       "      <td>0.456812</td>\n",
       "      <td>[7.456812071613967]</td>\n",
       "    </tr>\n",
       "    <tr>\n",
       "      <th>39</th>\n",
       "      <td>136573130994</td>\n",
       "      <td>0.286914</td>\n",
       "      <td>0.186645</td>\n",
       "      <td>[8.813355058350567]</td>\n",
       "    </tr>\n",
       "    <tr>\n",
       "      <th>40</th>\n",
       "      <td>136584130063</td>\n",
       "      <td>0.286056</td>\n",
       "      <td>0.099840</td>\n",
       "      <td>[18.099840248481918]</td>\n",
       "    </tr>\n",
       "    <tr>\n",
       "      <th>41</th>\n",
       "      <td>165502090205</td>\n",
       "      <td>0.357147</td>\n",
       "      <td>0.221761</td>\n",
       "      <td>[9.778238771082325]</td>\n",
       "    </tr>\n",
       "    <tr>\n",
       "      <th>42</th>\n",
       "      <td>165502120357</td>\n",
       "      <td>0.428821</td>\n",
       "      <td>0.171223</td>\n",
       "      <td>[20.17122262101041]</td>\n",
       "    </tr>\n",
       "    <tr>\n",
       "      <th>43</th>\n",
       "      <td>165502130414</td>\n",
       "      <td>0.428084</td>\n",
       "      <td>0.257230</td>\n",
       "      <td>[5.742769891598932]</td>\n",
       "    </tr>\n",
       "    <tr>\n",
       "      <th>44</th>\n",
       "      <td>165502140223</td>\n",
       "      <td>0.071526</td>\n",
       "      <td>0.078951</td>\n",
       "      <td>[13.928473953094628]</td>\n",
       "    </tr>\n",
       "    <tr>\n",
       "      <th>45</th>\n",
       "      <td>165502140518</td>\n",
       "      <td>0.214295</td>\n",
       "      <td>0.150335</td>\n",
       "      <td>[9.849664605323253]</td>\n",
       "    </tr>\n",
       "    <tr>\n",
       "      <th>46</th>\n",
       "      <td>165509130091</td>\n",
       "      <td>1.542492</td>\n",
       "      <td>0.728058</td>\n",
       "      <td>[18.728058261770027]</td>\n",
       "    </tr>\n",
       "    <tr>\n",
       "      <th>47</th>\n",
       "      <td>165510131492</td>\n",
       "      <td>0.428396</td>\n",
       "      <td>0.171010</td>\n",
       "      <td>[19.171010146840963]</td>\n",
       "    </tr>\n",
       "    <tr>\n",
       "      <th>48</th>\n",
       "      <td>403072150096</td>\n",
       "      <td>0.447084</td>\n",
       "      <td>0.266730</td>\n",
       "      <td>[1.7332701902696892]</td>\n",
       "    </tr>\n",
       "    <tr>\n",
       "      <th>49</th>\n",
       "      <td>425544150047</td>\n",
       "      <td>0.300310</td>\n",
       "      <td>0.193343</td>\n",
       "      <td>[16.806657192912073]</td>\n",
       "    </tr>\n",
       "    <tr>\n",
       "      <th>50</th>\n",
       "      <td>425654150106</td>\n",
       "      <td>0.571096</td>\n",
       "      <td>0.328736</td>\n",
       "      <td>[1.67126413198477]</td>\n",
       "    </tr>\n",
       "    <tr>\n",
       "      <th>51</th>\n",
       "      <td>425687150112</td>\n",
       "      <td>0.286721</td>\n",
       "      <td>0.100173</td>\n",
       "      <td>[16.10017282096968]</td>\n",
       "    </tr>\n",
       "    <tr>\n",
       "      <th>52</th>\n",
       "      <td>425770150029</td>\n",
       "      <td>0.071368</td>\n",
       "      <td>0.078872</td>\n",
       "      <td>[10.928631531178572]</td>\n",
       "    </tr>\n",
       "    <tr>\n",
       "      <th>53</th>\n",
       "      <td>425808150085</td>\n",
       "      <td>0.718235</td>\n",
       "      <td>0.402306</td>\n",
       "      <td>[2.5976943742227014]</td>\n",
       "    </tr>\n",
       "    <tr>\n",
       "      <th>54</th>\n",
       "      <td>482053160173</td>\n",
       "      <td>0.571580</td>\n",
       "      <td>0.328978</td>\n",
       "      <td>[4.671022237400747]</td>\n",
       "    </tr>\n",
       "    <tr>\n",
       "      <th>55</th>\n",
       "      <td>488011150101</td>\n",
       "      <td>0.253285</td>\n",
       "      <td>0.083454</td>\n",
       "      <td>[11.083454493662973]</td>\n",
       "    </tr>\n",
       "    <tr>\n",
       "      <th>56</th>\n",
       "      <td>488127150037</td>\n",
       "      <td>1.308171</td>\n",
       "      <td>0.697273</td>\n",
       "      <td>[10.302726503406197]</td>\n",
       "    </tr>\n",
       "  </tbody>\n",
       "</table>\n",
       "</div>"
      ],
      "text/plain": [
       "      student_id  arima_mae  hybrid_mae       best_prediction\n",
       "0   105522130030   0.714286    0.400331   [4.599669204088434]\n",
       "1   108934110011   0.340415    0.127020   [15.12701956318773]\n",
       "2   109323130439   2.000000    0.956812  [19.956812071613967]\n",
       "3   109461140179   0.071354    0.007511  [15.992489071918762]\n",
       "4   109466130459   2.000000    1.043188  [10.956812071613967]\n",
       "5   109466130504   0.500759    0.293567   [4.706432772506176]\n",
       "6   109466140189   0.357104    0.221740   [7.778259937410066]\n",
       "7   109469121797   0.217630    0.152003   [6.847997019654992]\n",
       "8   109469140122   0.142859    0.114618  [12.885382428527286]\n",
       "9   109471100020   0.428551    0.171088    [20.1710876777122]\n",
       "10  109476130060   1.000000    0.543188   [5.456812071613967]\n",
       "11  109476130094   0.304858    0.109241   [18.10924091900939]\n",
       "12  109477130972   0.976357    0.531366   [5.468633782231975]\n",
       "13  109477140705   0.282344    0.184360   [8.815640016964082]\n",
       "14  109478060616   0.643029    0.364703  [0.6352974053530442]\n",
       "15  109478120108   0.069582    0.077979  [10.930418143216311]\n",
       "16  109478120133   0.357424    0.221900   [7.778100153318174]\n",
       "17  109478121154   1.000000    0.543188   [5.456812071613967]\n",
       "18  109478130104   0.193208    0.139792  [2.8602079766139963]\n",
       "19  109478130109   0.214247    0.063935  [14.063935409914446]\n",
       "20  109478130361   0.071991    0.007192  [13.992807785264906]\n",
       "21  109478130515   0.357148    0.135386  [19.135385940050973]\n",
       "22  109478130516   0.306512    0.196444  [13.803556140451658]\n",
       "23  109478130737   0.629509    0.271567   [20.27156655340232]\n",
       "24  109478130739   0.274745    0.094185  [13.094184525078777]\n",
       "25  109478130868   0.121599    0.017612  [17.017611781082955]\n",
       "26  109478131055   2.000000    1.043188  [15.956812071613967]\n",
       "27  109479140148   0.392321    0.239349  [19.760651442319386]\n",
       "28  109479140506   0.357738    0.135681   [20.13568101093177]\n",
       "29  109480120148   0.800240    0.443308  [1.5566918425685967]\n",
       "30  109480120395   2.000000    1.043188  [16.956812071613967]\n",
       "31  111395130027   0.071725    0.079050    [9.92827497895509]\n",
       "32  124440130048   2.000000    0.956812  [10.956812071613967]\n",
       "33  124635120016   2.000000    1.043188   [6.956812071613967]\n",
       "34  130428130173   0.214018    0.063821  [15.063820875234754]\n",
       "35  136470130026   1.035593    0.474608  [17.474608360882467]\n",
       "36  136540141587   0.887745    0.487060   [16.51293966423476]\n",
       "37  136541122414   0.285771    0.099698  [16.099697550841693]\n",
       "38  136545120177   1.000000    0.456812   [7.456812071613967]\n",
       "39  136573130994   0.286914    0.186645   [8.813355058350567]\n",
       "40  136584130063   0.286056    0.099840  [18.099840248481918]\n",
       "41  165502090205   0.357147    0.221761   [9.778238771082325]\n",
       "42  165502120357   0.428821    0.171223   [20.17122262101041]\n",
       "43  165502130414   0.428084    0.257230   [5.742769891598932]\n",
       "44  165502140223   0.071526    0.078951  [13.928473953094628]\n",
       "45  165502140518   0.214295    0.150335   [9.849664605323253]\n",
       "46  165509130091   1.542492    0.728058  [18.728058261770027]\n",
       "47  165510131492   0.428396    0.171010  [19.171010146840963]\n",
       "48  403072150096   0.447084    0.266730  [1.7332701902696892]\n",
       "49  425544150047   0.300310    0.193343  [16.806657192912073]\n",
       "50  425654150106   0.571096    0.328736    [1.67126413198477]\n",
       "51  425687150112   0.286721    0.100173   [16.10017282096968]\n",
       "52  425770150029   0.071368    0.078872  [10.928631531178572]\n",
       "53  425808150085   0.718235    0.402306  [2.5976943742227014]\n",
       "54  482053160173   0.571580    0.328978   [4.671022237400747]\n",
       "55  488011150101   0.253285    0.083454  [11.083454493662973]\n",
       "56  488127150037   1.308171    0.697273  [10.302726503406197]"
      ]
     },
     "execution_count": 17,
     "metadata": {},
     "output_type": "execute_result"
    }
   ],
   "source": [
    "mae_wo_test\n"
   ]
  },
  {
   "cell_type": "code",
   "execution_count": 18,
   "metadata": {},
   "outputs": [
    {
     "name": "stdout",
     "output_type": "stream",
     "text": [
      "0.6174077844803088\n",
      "0.3175543044836461\n"
     ]
    }
   ],
   "source": [
    "print(mae_wo_test[\"arima_mae\"].mean())\n",
    "print(mae_wo_test[\"hybrid_mae\"].mean())"
   ]
  }
 ],
 "metadata": {
  "kernelspec": {
   "display_name": "esptfa-arima-venv",
   "language": "python",
   "name": "python3"
  },
  "language_info": {
   "codemirror_mode": {
    "name": "ipython",
    "version": 3
   },
   "file_extension": ".py",
   "mimetype": "text/x-python",
   "name": "python",
   "nbconvert_exporter": "python",
   "pygments_lexer": "ipython3",
   "version": "3.10.4"
  }
 },
 "nbformat": 4,
 "nbformat_minor": 2
}
